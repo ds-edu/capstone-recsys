{
 "cells": [
  {
   "cell_type": "code",
   "execution_count": 111,
   "id": "78e1fac2",
   "metadata": {},
   "outputs": [],
   "source": [
    "import os\n",
    "import sys\n",
    "\n",
    "import pandas as pd\n",
    "import numpy as np\n",
    "\n",
    "import matplotlib.pyplot as plt\n",
    "import seaborn as sns\n",
    "\n",
    "import random\n",
    "# import pyspark\n",
    "# from pyspark.sql import SparkSession\n",
    "\n",
    "import warnings\n",
    "warnings.filterwarnings(\"ignore\")"
   ]
  },
  {
   "cell_type": "code",
   "execution_count": 112,
   "id": "f4392511",
   "metadata": {},
   "outputs": [],
   "source": [
    "random_seed = 33\n",
    "np.random.seed(random_seed)"
   ]
  },
  {
   "cell_type": "markdown",
   "id": "ecb73ad9",
   "metadata": {},
   "source": [
    "### Read JSON from URL"
   ]
  },
  {
   "cell_type": "code",
   "execution_count": 113,
   "id": "831b84d6",
   "metadata": {},
   "outputs": [],
   "source": [
    "def read_json_sampling(url, chunk_size, sample_size, random_state=None):\n",
    "    \"\"\"\n",
    "    Reads a JSON file in chunks, samples from each chunk, and returns a combined sample.\n",
    "\n",
    "    Args:\n",
    "        url (str): JSON file url\n",
    "        chunk_size (int): Number of rows to read in each chunk.\n",
    "        sample_size (int): Total number of rows to sample.\n",
    "        random_state (int, optional): Seed for random sampling. Defaults to None.\n",
    "\n",
    "    Returns:\n",
    "        pd.DataFrame: A DataFrame containing the sampled rows.\n",
    "    \"\"\"\n",
    "    if random_state is not None:\n",
    "        random.seed(random_state)\n",
    "\n",
    "    sampled_chunks = []\n",
    "    total_rows = 0\n",
    "\n",
    "    for chunk in pd.read_json(url, lines=True, chunksize=chunk_size):\n",
    "       \n",
    "        chunk_sample_size = min(sample_size - total_rows, len(chunk))\n",
    "        if chunk_sample_size > 0:\n",
    "            sampled_chunk = chunk.sample(n=chunk_sample_size, random_state=random_state)\n",
    "            sampled_chunks.append(sampled_chunk)\n",
    "            total_rows += chunk_sample_size\n",
    "        if total_rows >= sample_size:\n",
    "            break\n",
    "\n",
    "    return pd.concat(sampled_chunks, ignore_index=True)"
   ]
  },
  {
   "cell_type": "markdown",
   "id": "08d7701c",
   "metadata": {},
   "source": [
    "#### Json from Local"
   ]
  },
  {
   "cell_type": "code",
   "execution_count": 114,
   "id": "6a836b7b",
   "metadata": {},
   "outputs": [],
   "source": [
    "url_reviews = '../data/raw/Appliances.jsonl.gz'\n",
    "url_meta= '../data/raw/meta_Appliances.jsonl.gz'"
   ]
  },
  {
   "cell_type": "markdown",
   "id": "a47a9639",
   "metadata": {},
   "source": [
    "#### Json from URL"
   ]
  },
  {
   "cell_type": "code",
   "execution_count": 115,
   "id": "7b62d47c",
   "metadata": {},
   "outputs": [],
   "source": [
    "# # Appliances\n",
    "# url_reviews = 'https://mcauleylab.ucsd.edu:8443/public_datasets/data/amazon_2023/raw/review_categories/Appliances.jsonl.gz'\n",
    "# url_meta = 'https://mcauleylab.ucsd.edu:8443/public_datasets/data/amazon_2023/raw/meta_categories/meta_Appliances.jsonl.gz'"
   ]
  },
  {
   "cell_type": "code",
   "execution_count": 116,
   "id": "0bd36ecd",
   "metadata": {},
   "outputs": [],
   "source": [
    "# df_meta = read_json_sampling(url_meta, 10000, 2000000, 33)\n",
    "# df_ratings = read_json_sampling(url_reviews, 10000, 2000000, 33)"
   ]
  },
  {
   "cell_type": "code",
   "execution_count": 117,
   "id": "ea7c4aee",
   "metadata": {},
   "outputs": [],
   "source": [
    "# Try- For resetting display \n",
    "pd.options.display.max_colwidth = 50"
   ]
  },
  {
   "cell_type": "markdown",
   "id": "c2404a74",
   "metadata": {},
   "source": [
    "### Dummy Test: Override auto load with manual dummy file test"
   ]
  },
  {
   "cell_type": "code",
   "execution_count": 118,
   "id": "2dff87ba",
   "metadata": {},
   "outputs": [],
   "source": [
    "dummy_ratings = ('../data/raw/dummy_ratings.jsonl.gz')\n",
    "dummy_meta = ('../data/raw/dummy_meta.jsonl.gz') "
   ]
  },
  {
   "cell_type": "code",
   "execution_count": 119,
   "id": "791a97d2",
   "metadata": {},
   "outputs": [],
   "source": [
    "df_meta = pd.read_json(dummy_meta)\n",
    "df_ratings = pd.read_json(dummy_ratings)"
   ]
  },
  {
   "cell_type": "code",
   "execution_count": 120,
   "id": "918da130",
   "metadata": {},
   "outputs": [],
   "source": [
    "df_meta.reset_index(drop=True, inplace=True)\n",
    "df_ratings.reset_index(drop=True, inplace=True)"
   ]
  },
  {
   "cell_type": "code",
   "execution_count": 121,
   "id": "3391c4e1",
   "metadata": {},
   "outputs": [
    {
     "data": {
      "text/html": [
       "<div>\n",
       "<style scoped>\n",
       "    .dataframe tbody tr th:only-of-type {\n",
       "        vertical-align: middle;\n",
       "    }\n",
       "\n",
       "    .dataframe tbody tr th {\n",
       "        vertical-align: top;\n",
       "    }\n",
       "\n",
       "    .dataframe thead th {\n",
       "        text-align: right;\n",
       "    }\n",
       "</style>\n",
       "<table border=\"1\" class=\"dataframe\">\n",
       "  <thead>\n",
       "    <tr style=\"text-align: right;\">\n",
       "      <th></th>\n",
       "      <th>rating</th>\n",
       "      <th>title</th>\n",
       "      <th>text</th>\n",
       "      <th>images</th>\n",
       "      <th>asin</th>\n",
       "      <th>parent_asin</th>\n",
       "      <th>user_id</th>\n",
       "      <th>timestamp</th>\n",
       "      <th>helpful_vote</th>\n",
       "      <th>verified_purchase</th>\n",
       "    </tr>\n",
       "  </thead>\n",
       "  <tbody>\n",
       "    <tr>\n",
       "      <th>0</th>\n",
       "      <td>5</td>\n",
       "      <td>I am AMAZED to See Bad Reviews.</td>\n",
       "      <td>I came here to post a review because these are...</td>\n",
       "      <td>[]</td>\n",
       "      <td>B00LGEKOMS</td>\n",
       "      <td>B07RNJY499</td>\n",
       "      <td>AEDTXOC3YW6O7P2UPM22VNNRF77A</td>\n",
       "      <td>2020-10-16 20:26:21.427</td>\n",
       "      <td>0</td>\n",
       "      <td>True</td>\n",
       "    </tr>\n",
       "    <tr>\n",
       "      <th>1</th>\n",
       "      <td>5</td>\n",
       "      <td>Works well</td>\n",
       "      <td>Happy with product</td>\n",
       "      <td>[]</td>\n",
       "      <td>B01DP1IWKU</td>\n",
       "      <td>B092LLM7H3</td>\n",
       "      <td>AE6DFDMIJAVW57EVMRJH2M2X6ACA</td>\n",
       "      <td>2021-12-01 22:22:40.165</td>\n",
       "      <td>1</td>\n",
       "      <td>True</td>\n",
       "    </tr>\n",
       "    <tr>\n",
       "      <th>2</th>\n",
       "      <td>4</td>\n",
       "      <td>Four Stars</td>\n",
       "      <td>This works well.</td>\n",
       "      <td>[]</td>\n",
       "      <td>B000DLB2FI</td>\n",
       "      <td>B000DLB2FI</td>\n",
       "      <td>AEVGR67KN3CT4TO5D6HO3WNZGRPA</td>\n",
       "      <td>2015-02-27 12:51:16.000</td>\n",
       "      <td>0</td>\n",
       "      <td>True</td>\n",
       "    </tr>\n",
       "    <tr>\n",
       "      <th>3</th>\n",
       "      <td>5</td>\n",
       "      <td>Five Stars</td>\n",
       "      <td>GREAT</td>\n",
       "      <td>[]</td>\n",
       "      <td>B0001IRRLQ</td>\n",
       "      <td>B0BHNSLKNZ</td>\n",
       "      <td>AFLEUJNQJQOYOYDUJ2PSZ4O2TUJA</td>\n",
       "      <td>2015-11-07 03:54:08.000</td>\n",
       "      <td>0</td>\n",
       "      <td>True</td>\n",
       "    </tr>\n",
       "    <tr>\n",
       "      <th>4</th>\n",
       "      <td>5</td>\n",
       "      <td>Savings</td>\n",
       "      <td>Exelent,  save on coffee,  water,  no waste, e...</td>\n",
       "      <td>[]</td>\n",
       "      <td>B00LGEKOMS</td>\n",
       "      <td>B07RNJY499</td>\n",
       "      <td>AEOVCZC77QZJQPBIAIKCFV7AS7PA</td>\n",
       "      <td>2017-10-16 22:46:40.529</td>\n",
       "      <td>0</td>\n",
       "      <td>True</td>\n",
       "    </tr>\n",
       "  </tbody>\n",
       "</table>\n",
       "</div>"
      ],
      "text/plain": [
       "   rating                            title  \\\n",
       "0       5  I am AMAZED to See Bad Reviews.   \n",
       "1       5                       Works well   \n",
       "2       4                       Four Stars   \n",
       "3       5                       Five Stars   \n",
       "4       5                          Savings   \n",
       "\n",
       "                                                text images        asin  \\\n",
       "0  I came here to post a review because these are...     []  B00LGEKOMS   \n",
       "1                                 Happy with product     []  B01DP1IWKU   \n",
       "2                                   This works well.     []  B000DLB2FI   \n",
       "3                                              GREAT     []  B0001IRRLQ   \n",
       "4  Exelent,  save on coffee,  water,  no waste, e...     []  B00LGEKOMS   \n",
       "\n",
       "  parent_asin                       user_id               timestamp  \\\n",
       "0  B07RNJY499  AEDTXOC3YW6O7P2UPM22VNNRF77A 2020-10-16 20:26:21.427   \n",
       "1  B092LLM7H3  AE6DFDMIJAVW57EVMRJH2M2X6ACA 2021-12-01 22:22:40.165   \n",
       "2  B000DLB2FI  AEVGR67KN3CT4TO5D6HO3WNZGRPA 2015-02-27 12:51:16.000   \n",
       "3  B0BHNSLKNZ  AFLEUJNQJQOYOYDUJ2PSZ4O2TUJA 2015-11-07 03:54:08.000   \n",
       "4  B07RNJY499  AEOVCZC77QZJQPBIAIKCFV7AS7PA 2017-10-16 22:46:40.529   \n",
       "\n",
       "   helpful_vote  verified_purchase  \n",
       "0             0               True  \n",
       "1             1               True  \n",
       "2             0               True  \n",
       "3             0               True  \n",
       "4             0               True  "
      ]
     },
     "execution_count": 121,
     "metadata": {},
     "output_type": "execute_result"
    }
   ],
   "source": [
    "df_ratings.head()"
   ]
  },
  {
   "cell_type": "markdown",
   "id": "623e7756",
   "metadata": {},
   "source": [
    "## DATA CLEANING"
   ]
  },
  {
   "cell_type": "markdown",
   "id": "4f787962",
   "metadata": {},
   "source": [
    "#### Cleaning META"
   ]
  },
  {
   "cell_type": "code",
   "execution_count": 122,
   "id": "70f1fdfd",
   "metadata": {},
   "outputs": [
    {
     "data": {
      "text/plain": [
       "(30, 16)"
      ]
     },
     "execution_count": 122,
     "metadata": {},
     "output_type": "execute_result"
    }
   ],
   "source": [
    "# Verify shape\n",
    "df_meta.shape"
   ]
  },
  {
   "cell_type": "code",
   "execution_count": 123,
   "id": "38659e21",
   "metadata": {},
   "outputs": [
    {
     "data": {
      "text/plain": [
       "main_category       object\n",
       "title               object\n",
       "average_rating     float64\n",
       "rating_number        int64\n",
       "features            object\n",
       "description         object\n",
       "price              float64\n",
       "images              object\n",
       "videos              object\n",
       "store               object\n",
       "categories          object\n",
       "details             object\n",
       "parent_asin         object\n",
       "bought_together    float64\n",
       "subtitle           float64\n",
       "author             float64\n",
       "dtype: object"
      ]
     },
     "execution_count": 123,
     "metadata": {},
     "output_type": "execute_result"
    }
   ],
   "source": [
    "# Verify dtypes\n",
    "df_meta.dtypes"
   ]
  },
  {
   "cell_type": "code",
   "execution_count": 124,
   "id": "eb3fad3f",
   "metadata": {},
   "outputs": [
    {
     "data": {
      "text/plain": [
       "Index(['main_category', 'title', 'average_rating', 'rating_number', 'features',\n",
       "       'description', 'price', 'images', 'videos', 'store', 'categories',\n",
       "       'details', 'parent_asin', 'bought_together', 'subtitle', 'author'],\n",
       "      dtype='object')"
      ]
     },
     "execution_count": 124,
     "metadata": {},
     "output_type": "execute_result"
    }
   ],
   "source": [
    "# Verify columns \n",
    "df_meta.columns"
   ]
  },
  {
   "cell_type": "markdown",
   "id": "287cc3d9",
   "metadata": {},
   "source": [
    "<div class=\"alert alert-block alert-warning\">\n",
    "[Decision Block] Decide which columns to drop\n",
    "</div>"
   ]
  },
  {
   "cell_type": "code",
   "execution_count": 125,
   "id": "5bab949d",
   "metadata": {},
   "outputs": [],
   "source": [
    "# Drop columns that are not needed in the analysis\n",
    "\n",
    "# Images and videos won't be utilized in the analysis\n",
    "# Price is not needed for this analysis so we drop it for now. \n",
    "# Average_rating and rating number can be dropped as well \n",
    "\n",
    "\n",
    "cols_to_drop = [ 'average_rating', 'rating_number', 'price', 'images', 'videos', 'bought_together', 'subtitle', 'author']\n",
    "df_meta.drop( cols_to_drop, axis=1, inplace=True )\n"
   ]
  },
  {
   "cell_type": "code",
   "execution_count": 126,
   "id": "5c6ab9c9",
   "metadata": {},
   "outputs": [
    {
     "name": "stdout",
     "output_type": "stream",
     "text": [
      "<class 'pandas.core.frame.DataFrame'>\n",
      "RangeIndex: 30 entries, 0 to 29\n",
      "Data columns (total 8 columns):\n",
      " #   Column         Non-Null Count  Dtype \n",
      "---  ------         --------------  ----- \n",
      " 0   main_category  30 non-null     object\n",
      " 1   title          30 non-null     object\n",
      " 2   features       30 non-null     object\n",
      " 3   description    30 non-null     object\n",
      " 4   store          30 non-null     object\n",
      " 5   categories     30 non-null     object\n",
      " 6   details        30 non-null     object\n",
      " 7   parent_asin    30 non-null     object\n",
      "dtypes: object(8)\n",
      "memory usage: 2.0+ KB\n"
     ]
    }
   ],
   "source": [
    "# Verify: After dropping columns. df_meta types and counts\n",
    "df_meta.info()"
   ]
  },
  {
   "cell_type": "code",
   "execution_count": 127,
   "id": "abb2d62b",
   "metadata": {},
   "outputs": [
    {
     "name": "stdout",
     "output_type": "stream",
     "text": [
      "Empty [features] : 20.00%\n",
      "Empty [description] : 43.33%\n",
      "Empty [categories] : 6.67%\n"
     ]
    }
   ],
   "source": [
    "# Dealing with empty lists in columns:\n",
    "\n",
    "# Get % of empty lists [] in cols of interest.\n",
    "# Delete column if it exceeds threshold values -> separate this functionality\n",
    "\n",
    "threshold = 0.25\n",
    "cols_of_interest = ['features', 'description', 'categories'] #-- Exclude description as it can be used in feature groups down the line.\n",
    "\n",
    "for col in cols_of_interest:\n",
    "\n",
    "    pct = sum(~df_meta[col].astype(bool)) / len(df_meta)\n",
    "    print(f'Empty [{col}] : {100*pct:.2f}%')\n",
    "    \n",
    "    # # Drop column if it exceeds threshold value for empty list\n",
    "    # if pct >= threshold:\n",
    "    #     df_meta.drop(col, axis=1, inplace=True)\n"
   ]
  },
  {
   "cell_type": "code",
   "execution_count": 128,
   "id": "8ccd6933",
   "metadata": {},
   "outputs": [
    {
     "data": {
      "text/plain": [
       "main_category    0\n",
       "title            0\n",
       "features         0\n",
       "description      0\n",
       "store            0\n",
       "categories       0\n",
       "details          0\n",
       "parent_asin      0\n",
       "dtype: int64"
      ]
     },
     "execution_count": 128,
     "metadata": {},
     "output_type": "execute_result"
    }
   ],
   "source": [
    "# Verify: No null columns in meta\n",
    "df_meta.isna().sum()"
   ]
  },
  {
   "cell_type": "code",
   "execution_count": 129,
   "id": "f7300550",
   "metadata": {},
   "outputs": [],
   "source": [
    "# Fill null values, as needed. \n",
    "df_meta.store.fillna('Undescribed', inplace=True)\n",
    "df_meta.main_category.fillna('Uncategorized', inplace=True)"
   ]
  },
  {
   "cell_type": "code",
   "execution_count": 130,
   "id": "f2bf8034",
   "metadata": {},
   "outputs": [
    {
     "data": {
      "text/plain": [
       "main_category    0\n",
       "title            0\n",
       "features         0\n",
       "description      0\n",
       "store            0\n",
       "categories       0\n",
       "details          0\n",
       "parent_asin      0\n",
       "dtype: int64"
      ]
     },
     "execution_count": 130,
     "metadata": {},
     "output_type": "execute_result"
    }
   ],
   "source": [
    "# UT: No null columns in meta\n",
    "df_meta.isna().sum()"
   ]
  },
  {
   "cell_type": "code",
   "execution_count": 131,
   "id": "13a6e5f5",
   "metadata": {},
   "outputs": [
    {
     "data": {
      "text/plain": [
       "(30, 8)"
      ]
     },
     "execution_count": 131,
     "metadata": {},
     "output_type": "execute_result"
    }
   ],
   "source": [
    "# Verify shape after cleaning steps\n",
    "df_meta.shape"
   ]
  },
  {
   "cell_type": "markdown",
   "id": "3039e1ff",
   "metadata": {},
   "source": [
    "#### Cleaning RATINGS"
   ]
  },
  {
   "cell_type": "code",
   "execution_count": 132,
   "id": "bd806da0",
   "metadata": {},
   "outputs": [
    {
     "data": {
      "text/plain": [
       "(5547, 10)"
      ]
     },
     "execution_count": 132,
     "metadata": {},
     "output_type": "execute_result"
    }
   ],
   "source": [
    "# Verify shape\n",
    "df_ratings.shape"
   ]
  },
  {
   "cell_type": "code",
   "execution_count": 133,
   "id": "3580d4d6",
   "metadata": {},
   "outputs": [
    {
     "data": {
      "text/plain": [
       "rating                        int64\n",
       "title                        object\n",
       "text                         object\n",
       "images                       object\n",
       "asin                         object\n",
       "parent_asin                  object\n",
       "user_id                      object\n",
       "timestamp            datetime64[ns]\n",
       "helpful_vote                  int64\n",
       "verified_purchase              bool\n",
       "dtype: object"
      ]
     },
     "execution_count": 133,
     "metadata": {},
     "output_type": "execute_result"
    }
   ],
   "source": [
    "# Verify dtypes\n",
    "df_ratings.dtypes"
   ]
  },
  {
   "cell_type": "code",
   "execution_count": 134,
   "id": "dce7b7b1",
   "metadata": {},
   "outputs": [
    {
     "data": {
      "text/html": [
       "<div>\n",
       "<style scoped>\n",
       "    .dataframe tbody tr th:only-of-type {\n",
       "        vertical-align: middle;\n",
       "    }\n",
       "\n",
       "    .dataframe tbody tr th {\n",
       "        vertical-align: top;\n",
       "    }\n",
       "\n",
       "    .dataframe thead th {\n",
       "        text-align: right;\n",
       "    }\n",
       "</style>\n",
       "<table border=\"1\" class=\"dataframe\">\n",
       "  <thead>\n",
       "    <tr style=\"text-align: right;\">\n",
       "      <th></th>\n",
       "      <th>rating</th>\n",
       "      <th>title</th>\n",
       "      <th>text</th>\n",
       "      <th>images</th>\n",
       "      <th>asin</th>\n",
       "      <th>parent_asin</th>\n",
       "      <th>user_id</th>\n",
       "      <th>timestamp</th>\n",
       "      <th>helpful_vote</th>\n",
       "      <th>verified_purchase</th>\n",
       "    </tr>\n",
       "  </thead>\n",
       "  <tbody>\n",
       "    <tr>\n",
       "      <th>0</th>\n",
       "      <td>5</td>\n",
       "      <td>I am AMAZED to See Bad Reviews.</td>\n",
       "      <td>I came here to post a review because these are...</td>\n",
       "      <td>[]</td>\n",
       "      <td>B00LGEKOMS</td>\n",
       "      <td>B07RNJY499</td>\n",
       "      <td>AEDTXOC3YW6O7P2UPM22VNNRF77A</td>\n",
       "      <td>2020-10-16 20:26:21.427</td>\n",
       "      <td>0</td>\n",
       "      <td>True</td>\n",
       "    </tr>\n",
       "    <tr>\n",
       "      <th>1</th>\n",
       "      <td>5</td>\n",
       "      <td>Works well</td>\n",
       "      <td>Happy with product</td>\n",
       "      <td>[]</td>\n",
       "      <td>B01DP1IWKU</td>\n",
       "      <td>B092LLM7H3</td>\n",
       "      <td>AE6DFDMIJAVW57EVMRJH2M2X6ACA</td>\n",
       "      <td>2021-12-01 22:22:40.165</td>\n",
       "      <td>1</td>\n",
       "      <td>True</td>\n",
       "    </tr>\n",
       "    <tr>\n",
       "      <th>2</th>\n",
       "      <td>4</td>\n",
       "      <td>Four Stars</td>\n",
       "      <td>This works well.</td>\n",
       "      <td>[]</td>\n",
       "      <td>B000DLB2FI</td>\n",
       "      <td>B000DLB2FI</td>\n",
       "      <td>AEVGR67KN3CT4TO5D6HO3WNZGRPA</td>\n",
       "      <td>2015-02-27 12:51:16.000</td>\n",
       "      <td>0</td>\n",
       "      <td>True</td>\n",
       "    </tr>\n",
       "    <tr>\n",
       "      <th>3</th>\n",
       "      <td>5</td>\n",
       "      <td>Five Stars</td>\n",
       "      <td>GREAT</td>\n",
       "      <td>[]</td>\n",
       "      <td>B0001IRRLQ</td>\n",
       "      <td>B0BHNSLKNZ</td>\n",
       "      <td>AFLEUJNQJQOYOYDUJ2PSZ4O2TUJA</td>\n",
       "      <td>2015-11-07 03:54:08.000</td>\n",
       "      <td>0</td>\n",
       "      <td>True</td>\n",
       "    </tr>\n",
       "    <tr>\n",
       "      <th>4</th>\n",
       "      <td>5</td>\n",
       "      <td>Savings</td>\n",
       "      <td>Exelent,  save on coffee,  water,  no waste, e...</td>\n",
       "      <td>[]</td>\n",
       "      <td>B00LGEKOMS</td>\n",
       "      <td>B07RNJY499</td>\n",
       "      <td>AEOVCZC77QZJQPBIAIKCFV7AS7PA</td>\n",
       "      <td>2017-10-16 22:46:40.529</td>\n",
       "      <td>0</td>\n",
       "      <td>True</td>\n",
       "    </tr>\n",
       "  </tbody>\n",
       "</table>\n",
       "</div>"
      ],
      "text/plain": [
       "   rating                            title  \\\n",
       "0       5  I am AMAZED to See Bad Reviews.   \n",
       "1       5                       Works well   \n",
       "2       4                       Four Stars   \n",
       "3       5                       Five Stars   \n",
       "4       5                          Savings   \n",
       "\n",
       "                                                text images        asin  \\\n",
       "0  I came here to post a review because these are...     []  B00LGEKOMS   \n",
       "1                                 Happy with product     []  B01DP1IWKU   \n",
       "2                                   This works well.     []  B000DLB2FI   \n",
       "3                                              GREAT     []  B0001IRRLQ   \n",
       "4  Exelent,  save on coffee,  water,  no waste, e...     []  B00LGEKOMS   \n",
       "\n",
       "  parent_asin                       user_id               timestamp  \\\n",
       "0  B07RNJY499  AEDTXOC3YW6O7P2UPM22VNNRF77A 2020-10-16 20:26:21.427   \n",
       "1  B092LLM7H3  AE6DFDMIJAVW57EVMRJH2M2X6ACA 2021-12-01 22:22:40.165   \n",
       "2  B000DLB2FI  AEVGR67KN3CT4TO5D6HO3WNZGRPA 2015-02-27 12:51:16.000   \n",
       "3  B0BHNSLKNZ  AFLEUJNQJQOYOYDUJ2PSZ4O2TUJA 2015-11-07 03:54:08.000   \n",
       "4  B07RNJY499  AEOVCZC77QZJQPBIAIKCFV7AS7PA 2017-10-16 22:46:40.529   \n",
       "\n",
       "   helpful_vote  verified_purchase  \n",
       "0             0               True  \n",
       "1             1               True  \n",
       "2             0               True  \n",
       "3             0               True  \n",
       "4             0               True  "
      ]
     },
     "execution_count": 134,
     "metadata": {},
     "output_type": "execute_result"
    }
   ],
   "source": [
    "# Verify dataset\n",
    "df_ratings.head()"
   ]
  },
  {
   "cell_type": "code",
   "execution_count": 135,
   "id": "08f73856",
   "metadata": {},
   "outputs": [],
   "source": [
    "# Drop columns that are not needed in the analysis\n",
    "cols_to_drop = ['title', 'text', 'images', 'helpful_vote', 'timestamp', 'verified_purchase' ]\n",
    "\n",
    "# Drop columns\n",
    "df_ratings.drop(cols_to_drop, axis=1, inplace=True)"
   ]
  },
  {
   "cell_type": "code",
   "execution_count": 136,
   "id": "705d5c87",
   "metadata": {},
   "outputs": [
    {
     "data": {
      "text/plain": [
       "rating         0\n",
       "asin           0\n",
       "parent_asin    0\n",
       "user_id        0\n",
       "dtype: int64"
      ]
     },
     "execution_count": 136,
     "metadata": {},
     "output_type": "execute_result"
    }
   ],
   "source": [
    "# UT: No null columns in df_ratings\n",
    "df_ratings.isna().sum()"
   ]
  },
  {
   "cell_type": "markdown",
   "id": "b7360f5c",
   "metadata": {},
   "source": [
    "## EDA"
   ]
  },
  {
   "cell_type": "markdown",
   "id": "2d536846",
   "metadata": {},
   "source": [
    "#### Merging meta and reviews"
   ]
  },
  {
   "cell_type": "code",
   "execution_count": 137,
   "id": "7374809c",
   "metadata": {},
   "outputs": [],
   "source": [
    "# Merge metadata and reviews dataset\n",
    "df = pd.merge(df_meta, df_ratings, how='left', on='parent_asin')"
   ]
  },
  {
   "cell_type": "code",
   "execution_count": 138,
   "id": "7e88683f",
   "metadata": {},
   "outputs": [
    {
     "data": {
      "text/plain": [
       "(5567, 11)"
      ]
     },
     "execution_count": 138,
     "metadata": {},
     "output_type": "execute_result"
    }
   ],
   "source": [
    "# Verify shape\n",
    "df.shape"
   ]
  },
  {
   "cell_type": "code",
   "execution_count": 139,
   "id": "b084bd97",
   "metadata": {},
   "outputs": [
    {
     "data": {
      "text/plain": [
       "main_category     0\n",
       "title             0\n",
       "features          0\n",
       "description       0\n",
       "store             0\n",
       "categories        0\n",
       "details           0\n",
       "parent_asin       0\n",
       "rating           20\n",
       "asin             20\n",
       "user_id          20\n",
       "dtype: int64"
      ]
     },
     "execution_count": 139,
     "metadata": {},
     "output_type": "execute_result"
    }
   ],
   "source": [
    "# Verify null columns\n",
    "df.isna().sum()"
   ]
  },
  {
   "cell_type": "markdown",
   "id": "f6e14547",
   "metadata": {},
   "source": [
    "##### Unrated items"
   ]
  },
  {
   "cell_type": "markdown",
   "id": "2934a8d5",
   "metadata": {},
   "source": [
    "#### Summary Statistics"
   ]
  },
  {
   "cell_type": "code",
   "execution_count": 140,
   "id": "4c13c950",
   "metadata": {},
   "outputs": [
    {
     "name": "stdout",
     "output_type": "stream",
     "text": [
      "Total unique products: 27\n",
      "Total unique product name: 30\n",
      "Total ratings: 5567\n",
      "Total unique users: 5363\n"
     ]
    }
   ],
   "source": [
    "# Summary Stats - Info on counts\n",
    "\n",
    "# n_products_pasin = df.parent_asin.nunique()\n",
    "\n",
    "n_products = df.asin.nunique()\n",
    "n_titles = df.title.nunique()\n",
    "n_ratings = len(df.rating)\n",
    "n_users = df.user_id.nunique()\n",
    "\n",
    "# print(f'Total unique parent products: {n_products_pasin}')\n",
    "print(f'Total unique products: {n_products}')\n",
    "print(f'Total unique product name: {n_titles}')\n",
    "print(f'Total ratings: {n_ratings}')\n",
    "print(f'Total unique users: {n_users}')"
   ]
  },
  {
   "cell_type": "markdown",
   "id": "c9a5dc60",
   "metadata": {},
   "source": [
    "> Notes: \n",
    "> - [asin] represents a variant of a parent product. \n",
    "> - Every ***RATED*** product in the ratings dataset has an [asin]\n",
    "> - A product should be evaluated using [asin], not its parent [parent_asin]\\\n",
    "> ***Reference: https://webservices.amazon.com/paapi5/documentation/parent-asin.html***"
   ]
  },
  {
   "cell_type": "code",
   "execution_count": 141,
   "id": "c4f817ef",
   "metadata": {},
   "outputs": [
    {
     "name": "stdout",
     "output_type": "stream",
     "text": [
      "Average no. of ratings per product: 206.19\n",
      "Average no. of ratings per user: 1.04\n"
     ]
    }
   ],
   "source": [
    "# Summary Statistics - Averages ``\n",
    "avg_rating_p_product = round(n_ratings/n_products, 2)\n",
    "avg_rating_p_user = round(n_ratings/n_users, 2)\n",
    "\n",
    "print(f'Average no. of ratings per product: {avg_rating_p_product}')\n",
    "print(f'Average no. of ratings per user: {avg_rating_p_user}')"
   ]
  },
  {
   "cell_type": "code",
   "execution_count": 142,
   "id": "454b6b37",
   "metadata": {},
   "outputs": [
    {
     "data": {
      "text/html": [
       "<div>\n",
       "<style scoped>\n",
       "    .dataframe tbody tr th:only-of-type {\n",
       "        vertical-align: middle;\n",
       "    }\n",
       "\n",
       "    .dataframe tbody tr th {\n",
       "        vertical-align: top;\n",
       "    }\n",
       "\n",
       "    .dataframe thead th {\n",
       "        text-align: right;\n",
       "    }\n",
       "</style>\n",
       "<table border=\"1\" class=\"dataframe\">\n",
       "  <thead>\n",
       "    <tr style=\"text-align: right;\">\n",
       "      <th></th>\n",
       "      <th>rating</th>\n",
       "    </tr>\n",
       "  </thead>\n",
       "  <tbody>\n",
       "    <tr>\n",
       "      <th>count</th>\n",
       "      <td>5547.000000</td>\n",
       "    </tr>\n",
       "    <tr>\n",
       "      <th>mean</th>\n",
       "      <td>4.416261</td>\n",
       "    </tr>\n",
       "    <tr>\n",
       "      <th>std</th>\n",
       "      <td>1.160401</td>\n",
       "    </tr>\n",
       "    <tr>\n",
       "      <th>min</th>\n",
       "      <td>1.000000</td>\n",
       "    </tr>\n",
       "    <tr>\n",
       "      <th>25%</th>\n",
       "      <td>4.000000</td>\n",
       "    </tr>\n",
       "    <tr>\n",
       "      <th>50%</th>\n",
       "      <td>5.000000</td>\n",
       "    </tr>\n",
       "    <tr>\n",
       "      <th>75%</th>\n",
       "      <td>5.000000</td>\n",
       "    </tr>\n",
       "    <tr>\n",
       "      <th>max</th>\n",
       "      <td>5.000000</td>\n",
       "    </tr>\n",
       "  </tbody>\n",
       "</table>\n",
       "</div>"
      ],
      "text/plain": [
       "            rating\n",
       "count  5547.000000\n",
       "mean      4.416261\n",
       "std       1.160401\n",
       "min       1.000000\n",
       "25%       4.000000\n",
       "50%       5.000000\n",
       "75%       5.000000\n",
       "max       5.000000"
      ]
     },
     "execution_count": 142,
     "metadata": {},
     "output_type": "execute_result"
    }
   ],
   "source": [
    "# Summary statistics -  describe()\n",
    "df.select_dtypes(include = 'number').describe()"
   ]
  },
  {
   "cell_type": "code",
   "execution_count": 143,
   "id": "9ece0fc6",
   "metadata": {},
   "outputs": [
    {
     "data": {
      "image/png": "[encoded data removed]",
      "text/plain": [
       "<Figure size 500x400 with 1 Axes>"
      ]
     },
     "metadata": {},
     "output_type": "display_data"
    }
   ],
   "source": [
    "# Distribution of ratings\n",
    "sns.set_style('dark', {'axes.grid':False})\n",
    "plt.figure(figsize=(5,4))\n",
    "\n",
    "# _ = sns.histplot(data=df, x='rating', color='teal', bins=5, kde=True)\n",
    "_ = sns.kdeplot(data=df, x='rating', fill=True, alpha=0.5)\n",
    "_.set_title('Distribution of ratings')\n",
    "plt.axvline(x=df['rating'].mean(), ls='--', linewidth=1, color='red')\n",
    "plt.tight_layout()\n",
    "plt.show()"
   ]
  },
  {
   "cell_type": "code",
   "execution_count": 144,
   "id": "e4773f3d",
   "metadata": {},
   "outputs": [
    {
     "data": {
      "image/png": "[encoded data removed]",
      "text/plain": [
       "<Figure size 500x300 with 1 Axes>"
      ]
     },
     "metadata": {},
     "output_type": "display_data"
    }
   ],
   "source": [
    "# Count Ratings\n",
    "plt.figure(figsize=(5,3))\n",
    "_ = sns.countplot(data=df, x='rating', color='teal')\n",
    "_.set_title('Count of ratings')\n",
    "plt.tight_layout()\n",
    "plt.show()"
   ]
  },
  {
   "cell_type": "markdown",
   "id": "33054a4a",
   "metadata": {},
   "source": [
    "#### Top Main Categories"
   ]
  },
  {
   "cell_type": "markdown",
   "id": "74781223",
   "metadata": {},
   "source": [
    "<div class=\"alert alert-block alert-warning\">\n",
    "[Decision block] Set the number of K\n",
    "</div>"
   ]
  },
  {
   "cell_type": "code",
   "execution_count": 145,
   "id": "e6654fa3",
   "metadata": {},
   "outputs": [],
   "source": [
    "# Set n results to extract and display\n",
    "k = 10"
   ]
  },
  {
   "cell_type": "code",
   "execution_count": 146,
   "id": "17f83474",
   "metadata": {},
   "outputs": [
    {
     "data": {
      "text/html": [
       "<div>\n",
       "<style scoped>\n",
       "    .dataframe tbody tr th:only-of-type {\n",
       "        vertical-align: middle;\n",
       "    }\n",
       "\n",
       "    .dataframe tbody tr th {\n",
       "        vertical-align: top;\n",
       "    }\n",
       "\n",
       "    .dataframe thead th {\n",
       "        text-align: right;\n",
       "    }\n",
       "</style>\n",
       "<table border=\"1\" class=\"dataframe\">\n",
       "  <thead>\n",
       "    <tr style=\"text-align: right;\">\n",
       "      <th></th>\n",
       "      <th>main_category</th>\n",
       "      <th>count</th>\n",
       "    </tr>\n",
       "  </thead>\n",
       "  <tbody>\n",
       "    <tr>\n",
       "      <th>0</th>\n",
       "      <td>Amazon Home</td>\n",
       "      <td>4416</td>\n",
       "    </tr>\n",
       "    <tr>\n",
       "      <th>1</th>\n",
       "      <td>Appliances</td>\n",
       "      <td>586</td>\n",
       "    </tr>\n",
       "    <tr>\n",
       "      <th>2</th>\n",
       "      <td>Grocery</td>\n",
       "      <td>545</td>\n",
       "    </tr>\n",
       "    <tr>\n",
       "      <th>3</th>\n",
       "      <td>Tools &amp; Home Improvement</td>\n",
       "      <td>18</td>\n",
       "    </tr>\n",
       "    <tr>\n",
       "      <th>4</th>\n",
       "      <td>Industrial &amp; Scientific</td>\n",
       "      <td>1</td>\n",
       "    </tr>\n",
       "    <tr>\n",
       "      <th>5</th>\n",
       "      <td>All Beauty</td>\n",
       "      <td>1</td>\n",
       "    </tr>\n",
       "  </tbody>\n",
       "</table>\n",
       "</div>"
      ],
      "text/plain": [
       "              main_category  count\n",
       "0               Amazon Home   4416\n",
       "1                Appliances    586\n",
       "2                   Grocery    545\n",
       "3  Tools & Home Improvement     18\n",
       "4   Industrial & Scientific      1\n",
       "5                All Beauty      1"
      ]
     },
     "execution_count": 146,
     "metadata": {},
     "output_type": "execute_result"
    }
   ],
   "source": [
    "# Extract and show Top K Categories\n",
    "vc_categories = pd.DataFrame(df['main_category'].value_counts()).reset_index()\n",
    "vc_categories[0:k]\n"
   ]
  },
  {
   "cell_type": "code",
   "execution_count": 147,
   "id": "59335865",
   "metadata": {},
   "outputs": [
    {
     "data": {
      "image/png": "[encoded data removed]",
      "text/plain": [
       "<Figure size 500x500 with 1 Axes>"
      ]
     },
     "metadata": {},
     "output_type": "display_data"
    }
   ],
   "source": [
    "# Plot categories\n",
    "sns.set_style('dark', {'axes.grid':False})\n",
    "plt.figure(figsize=(5,5))\n",
    "\n",
    "_ = sns.barplot(data=vc_categories, y='main_category', x='count', color='teal')\n",
    "_.set_title('Items in each category')\n",
    "plt.tight_layout()\n",
    "plt.show()"
   ]
  },
  {
   "cell_type": "markdown",
   "id": "e4752aa9",
   "metadata": {},
   "source": [
    "#### Extracting Subcategory - For granularity"
   ]
  },
  {
   "cell_type": "code",
   "execution_count": 148,
   "id": "ae9b5633",
   "metadata": {},
   "outputs": [],
   "source": [
    "# Extract the last category in the list values in [categories] \n",
    "df_meta['subcategory'] = df_meta['categories'].apply(lambda x: x[-1] if len(x) else None)\n",
    "\n",
    "# If [categories] is empty, assign value from [main_category]\n",
    "df_meta.subcategory.fillna(df_meta['main_category'], inplace=True)"
   ]
  },
  {
   "cell_type": "code",
   "execution_count": 149,
   "id": "4c4688b1",
   "metadata": {},
   "outputs": [],
   "source": [
    "# Checkpoint: No null values in subcategory\n",
    "assert df_meta.subcategory.isna().sum() == 0, \"There are null values in subcategory column.\""
   ]
  },
  {
   "cell_type": "code",
   "execution_count": 150,
   "id": "731cce27",
   "metadata": {},
   "outputs": [
    {
     "data": {
      "image/png": "[encoded data removed]",
      "text/plain": [
       "<Figure size 500x500 with 1 Axes>"
      ]
     },
     "metadata": {},
     "output_type": "display_data"
    }
   ],
   "source": [
    "# Plot subcategories\n",
    "vc_subcategory = df_meta.subcategory.value_counts().reset_index()\n",
    "\n",
    "plt.figure(figsize=(5,5))\n",
    "_ = sns.barplot(data=vc_subcategory, y='subcategory', x='count', color='teal')\n",
    "_.set_title('Count of True categories')\n",
    "plt.tight_layout()\n",
    "plt.show()"
   ]
  },
  {
   "cell_type": "code",
   "execution_count": 151,
   "id": "1b5aa4f1",
   "metadata": {},
   "outputs": [],
   "source": [
    "# Drop the categories column with dictionary values\n",
    "df_meta.drop('categories', axis=1, inplace=True)"
   ]
  },
  {
   "cell_type": "markdown",
   "id": "0c7ec089",
   "metadata": {},
   "source": [
    "### Content-Based Filtering"
   ]
  },
  {
   "cell_type": "markdown",
   "id": "69cc9613",
   "metadata": {},
   "source": [
    "#### Recommending Top Rated Items - A solution to Cold-Start problem"
   ]
  },
  {
   "cell_type": "code",
   "execution_count": 152,
   "id": "355c48c0",
   "metadata": {},
   "outputs": [],
   "source": [
    "# Re-merge updated meta with ratings\n",
    "df = df_ratings.merge(df_meta, how='left', on='parent_asin')"
   ]
  },
  {
   "cell_type": "code",
   "execution_count": 153,
   "id": "c0981146",
   "metadata": {},
   "outputs": [
    {
     "data": {
      "text/plain": [
       "(5547, 11)"
      ]
     },
     "execution_count": 153,
     "metadata": {},
     "output_type": "execute_result"
    }
   ],
   "source": [
    "# Verify\n",
    "df.shape"
   ]
  },
  {
   "cell_type": "markdown",
   "id": "82357ce0",
   "metadata": {},
   "source": [
    "#### Top K Frequently rated"
   ]
  },
  {
   "cell_type": "code",
   "execution_count": 154,
   "id": "0b7aa9b8",
   "metadata": {},
   "outputs": [],
   "source": [
    "# Top K Frequently Rated\n",
    "df_most_rated = pd.DataFrame(df[['parent_asin', 'title', 'main_category', 'subcategory']].value_counts()[0:k]).reset_index()"
   ]
  },
  {
   "cell_type": "code",
   "execution_count": 155,
   "id": "e5758747",
   "metadata": {},
   "outputs": [
    {
     "data": {
      "text/html": [
       "<div>\n",
       "<style scoped>\n",
       "    .dataframe tbody tr th:only-of-type {\n",
       "        vertical-align: middle;\n",
       "    }\n",
       "\n",
       "    .dataframe tbody tr th {\n",
       "        vertical-align: top;\n",
       "    }\n",
       "\n",
       "    .dataframe thead th {\n",
       "        text-align: right;\n",
       "    }\n",
       "</style>\n",
       "<table border=\"1\" class=\"dataframe\">\n",
       "  <thead>\n",
       "    <tr style=\"text-align: right;\">\n",
       "      <th></th>\n",
       "      <th>parent_asin</th>\n",
       "      <th>title</th>\n",
       "      <th>main_category</th>\n",
       "      <th>subcategory</th>\n",
       "      <th>count</th>\n",
       "    </tr>\n",
       "  </thead>\n",
       "  <tbody>\n",
       "    <tr>\n",
       "      <th>0</th>\n",
       "      <td>B07RNJY499</td>\n",
       "      <td>iPartPlusMore Reusable Coffee Filters Compatib...</td>\n",
       "      <td>Amazon Home</td>\n",
       "      <td>Reusable Filters</td>\n",
       "      <td>1329</td>\n",
       "    </tr>\n",
       "    <tr>\n",
       "      <th>1</th>\n",
       "      <td>B0B3DB5HTC</td>\n",
       "      <td>12 Pack Keurig Filter Replacement by K&amp;J - Com...</td>\n",
       "      <td>Amazon Home</td>\n",
       "      <td>Disposable Filters</td>\n",
       "      <td>1220</td>\n",
       "    </tr>\n",
       "    <tr>\n",
       "      <th>2</th>\n",
       "      <td>B000DLB2FI</td>\n",
       "      <td>Keurig My K-Cup Reusable Coffee Filter - Old M...</td>\n",
       "      <td>Amazon Home</td>\n",
       "      <td>Reusable Filters</td>\n",
       "      <td>681</td>\n",
       "    </tr>\n",
       "    <tr>\n",
       "      <th>3</th>\n",
       "      <td>B0BHNSLKNZ</td>\n",
       "      <td>Cuisinart Replacement Water Filters, 2-Pack</td>\n",
       "      <td>Amazon Home</td>\n",
       "      <td>Permanent Filters</td>\n",
       "      <td>605</td>\n",
       "    </tr>\n",
       "    <tr>\n",
       "      <th>4</th>\n",
       "      <td>B07P3Y8JWY</td>\n",
       "      <td>Disposable Paper Coffee Filters 600 count - Co...</td>\n",
       "      <td>Amazon Home</td>\n",
       "      <td>Reusable Filters</td>\n",
       "      <td>577</td>\n",
       "    </tr>\n",
       "    <tr>\n",
       "      <th>5</th>\n",
       "      <td>B0045LLC7K</td>\n",
       "      <td>Frigidaire WF3CB Puresource3 Refrigerator Wate...</td>\n",
       "      <td>Appliances</td>\n",
       "      <td>Water Filters</td>\n",
       "      <td>574</td>\n",
       "    </tr>\n",
       "    <tr>\n",
       "      <th>6</th>\n",
       "      <td>B092LLM7H3</td>\n",
       "      <td>Reusable coffee pods for Coffee Makers (4 PACK...</td>\n",
       "      <td>Grocery</td>\n",
       "      <td>Reusable Filters</td>\n",
       "      <td>545</td>\n",
       "    </tr>\n",
       "    <tr>\n",
       "      <th>7</th>\n",
       "      <td>B01IAFNZGC</td>\n",
       "      <td>EXCELPURE 5231JA2006A Replacement for LG LT600...</td>\n",
       "      <td>Tools &amp; Home Improvement</td>\n",
       "      <td>Water Filters</td>\n",
       "      <td>10</td>\n",
       "    </tr>\n",
       "    <tr>\n",
       "      <th>8</th>\n",
       "      <td>B0BJ2CJTB5</td>\n",
       "      <td>Mini Washing Machine Portable Turbine Washer w...</td>\n",
       "      <td>Appliances</td>\n",
       "      <td>Portable Washers</td>\n",
       "      <td>5</td>\n",
       "    </tr>\n",
       "    <tr>\n",
       "      <th>9</th>\n",
       "      <td>B01DMRHDZ2</td>\n",
       "      <td>ClimaTek Gas Oven Range Stove Ignitor Igniter ...</td>\n",
       "      <td>Industrial &amp; Scientific</td>\n",
       "      <td>Parts &amp; Accessories</td>\n",
       "      <td>1</td>\n",
       "    </tr>\n",
       "  </tbody>\n",
       "</table>\n",
       "</div>"
      ],
      "text/plain": [
       "  parent_asin                                              title  \\\n",
       "0  B07RNJY499  iPartPlusMore Reusable Coffee Filters Compatib...   \n",
       "1  B0B3DB5HTC  12 Pack Keurig Filter Replacement by K&J - Com...   \n",
       "2  B000DLB2FI  Keurig My K-Cup Reusable Coffee Filter - Old M...   \n",
       "3  B0BHNSLKNZ        Cuisinart Replacement Water Filters, 2-Pack   \n",
       "4  B07P3Y8JWY  Disposable Paper Coffee Filters 600 count - Co...   \n",
       "5  B0045LLC7K  Frigidaire WF3CB Puresource3 Refrigerator Wate...   \n",
       "6  B092LLM7H3  Reusable coffee pods for Coffee Makers (4 PACK...   \n",
       "7  B01IAFNZGC  EXCELPURE 5231JA2006A Replacement for LG LT600...   \n",
       "8  B0BJ2CJTB5  Mini Washing Machine Portable Turbine Washer w...   \n",
       "9  B01DMRHDZ2  ClimaTek Gas Oven Range Stove Ignitor Igniter ...   \n",
       "\n",
       "              main_category          subcategory  count  \n",
       "0               Amazon Home     Reusable Filters   1329  \n",
       "1               Amazon Home   Disposable Filters   1220  \n",
       "2               Amazon Home     Reusable Filters    681  \n",
       "3               Amazon Home    Permanent Filters    605  \n",
       "4               Amazon Home     Reusable Filters    577  \n",
       "5                Appliances        Water Filters    574  \n",
       "6                   Grocery     Reusable Filters    545  \n",
       "7  Tools & Home Improvement        Water Filters     10  \n",
       "8                Appliances     Portable Washers      5  \n",
       "9   Industrial & Scientific  Parts & Accessories      1  "
      ]
     },
     "execution_count": 155,
     "metadata": {},
     "output_type": "execute_result"
    }
   ],
   "source": [
    "# Show Top K Frequently Rated\n",
    "df_most_rated"
   ]
  },
  {
   "cell_type": "markdown",
   "id": "0e8daaa7",
   "metadata": {},
   "source": [
    "#### Top K Highly Rated"
   ]
  },
  {
   "cell_type": "markdown",
   "id": "0c9951b6",
   "metadata": {},
   "source": [
    "##### ---Option A: Sorting By Mean Ratings and Count"
   ]
  },
  {
   "cell_type": "code",
   "execution_count": 156,
   "id": "c1315aea",
   "metadata": {},
   "outputs": [],
   "source": [
    "# Sort ratings then count. Not the ideal way to calculate ratings.\n",
    "prod_stats = df.groupby(['parent_asin', 'title', 'main_category', 'subcategory'])['rating']\\\n",
    "        .agg(['count', 'mean'])\\\n",
    "        .reset_index()\\\n",
    "        .sort_values(['mean', 'count'], ascending=False)"
   ]
  },
  {
   "cell_type": "code",
   "execution_count": 157,
   "id": "188f343c",
   "metadata": {},
   "outputs": [
    {
     "data": {
      "text/html": [
       "<div>\n",
       "<style scoped>\n",
       "    .dataframe tbody tr th:only-of-type {\n",
       "        vertical-align: middle;\n",
       "    }\n",
       "\n",
       "    .dataframe tbody tr th {\n",
       "        vertical-align: top;\n",
       "    }\n",
       "\n",
       "    .dataframe thead th {\n",
       "        text-align: right;\n",
       "    }\n",
       "</style>\n",
       "<table border=\"1\" class=\"dataframe\">\n",
       "  <thead>\n",
       "    <tr style=\"text-align: right;\">\n",
       "      <th></th>\n",
       "      <th>parent_asin</th>\n",
       "      <th>title</th>\n",
       "      <th>main_category</th>\n",
       "      <th>subcategory</th>\n",
       "      <th>count</th>\n",
       "      <th>mean</th>\n",
       "    </tr>\n",
       "  </thead>\n",
       "  <tbody>\n",
       "    <tr>\n",
       "      <th>3</th>\n",
       "      <td>B01IAFNZGC</td>\n",
       "      <td>EXCELPURE 5231JA2006A Replacement for LG LT600...</td>\n",
       "      <td>Tools &amp; Home Improvement</td>\n",
       "      <td>Water Filters</td>\n",
       "      <td>10</td>\n",
       "      <td>5.000000</td>\n",
       "    </tr>\n",
       "    <tr>\n",
       "      <th>7</th>\n",
       "      <td>B0B3DB5HTC</td>\n",
       "      <td>12 Pack Keurig Filter Replacement by K&amp;J - Com...</td>\n",
       "      <td>Amazon Home</td>\n",
       "      <td>Disposable Filters</td>\n",
       "      <td>1220</td>\n",
       "      <td>4.890984</td>\n",
       "    </tr>\n",
       "    <tr>\n",
       "      <th>6</th>\n",
       "      <td>B092LLM7H3</td>\n",
       "      <td>Reusable coffee pods for Coffee Makers (4 PACK...</td>\n",
       "      <td>Grocery</td>\n",
       "      <td>Reusable Filters</td>\n",
       "      <td>545</td>\n",
       "      <td>4.502752</td>\n",
       "    </tr>\n",
       "    <tr>\n",
       "      <th>8</th>\n",
       "      <td>B0BHNSLKNZ</td>\n",
       "      <td>Cuisinart Replacement Water Filters, 2-Pack</td>\n",
       "      <td>Amazon Home</td>\n",
       "      <td>Permanent Filters</td>\n",
       "      <td>605</td>\n",
       "      <td>4.419835</td>\n",
       "    </tr>\n",
       "    <tr>\n",
       "      <th>1</th>\n",
       "      <td>B0045LLC7K</td>\n",
       "      <td>Frigidaire WF3CB Puresource3 Refrigerator Wate...</td>\n",
       "      <td>Appliances</td>\n",
       "      <td>Water Filters</td>\n",
       "      <td>574</td>\n",
       "      <td>4.397213</td>\n",
       "    </tr>\n",
       "    <tr>\n",
       "      <th>5</th>\n",
       "      <td>B07RNJY499</td>\n",
       "      <td>iPartPlusMore Reusable Coffee Filters Compatib...</td>\n",
       "      <td>Amazon Home</td>\n",
       "      <td>Reusable Filters</td>\n",
       "      <td>1329</td>\n",
       "      <td>4.263356</td>\n",
       "    </tr>\n",
       "    <tr>\n",
       "      <th>4</th>\n",
       "      <td>B07P3Y8JWY</td>\n",
       "      <td>Disposable Paper Coffee Filters 600 count - Co...</td>\n",
       "      <td>Amazon Home</td>\n",
       "      <td>Reusable Filters</td>\n",
       "      <td>577</td>\n",
       "      <td>4.235702</td>\n",
       "    </tr>\n",
       "    <tr>\n",
       "      <th>0</th>\n",
       "      <td>B000DLB2FI</td>\n",
       "      <td>Keurig My K-Cup Reusable Coffee Filter - Old M...</td>\n",
       "      <td>Amazon Home</td>\n",
       "      <td>Reusable Filters</td>\n",
       "      <td>681</td>\n",
       "      <td>3.979442</td>\n",
       "    </tr>\n",
       "    <tr>\n",
       "      <th>9</th>\n",
       "      <td>B0BJ2CJTB5</td>\n",
       "      <td>Mini Washing Machine Portable Turbine Washer w...</td>\n",
       "      <td>Appliances</td>\n",
       "      <td>Portable Washers</td>\n",
       "      <td>5</td>\n",
       "      <td>1.400000</td>\n",
       "    </tr>\n",
       "    <tr>\n",
       "      <th>2</th>\n",
       "      <td>B01DMRHDZ2</td>\n",
       "      <td>ClimaTek Gas Oven Range Stove Ignitor Igniter ...</td>\n",
       "      <td>Industrial &amp; Scientific</td>\n",
       "      <td>Parts &amp; Accessories</td>\n",
       "      <td>1</td>\n",
       "      <td>1.000000</td>\n",
       "    </tr>\n",
       "  </tbody>\n",
       "</table>\n",
       "</div>"
      ],
      "text/plain": [
       "  parent_asin                                              title  \\\n",
       "3  B01IAFNZGC  EXCELPURE 5231JA2006A Replacement for LG LT600...   \n",
       "7  B0B3DB5HTC  12 Pack Keurig Filter Replacement by K&J - Com...   \n",
       "6  B092LLM7H3  Reusable coffee pods for Coffee Makers (4 PACK...   \n",
       "8  B0BHNSLKNZ        Cuisinart Replacement Water Filters, 2-Pack   \n",
       "1  B0045LLC7K  Frigidaire WF3CB Puresource3 Refrigerator Wate...   \n",
       "5  B07RNJY499  iPartPlusMore Reusable Coffee Filters Compatib...   \n",
       "4  B07P3Y8JWY  Disposable Paper Coffee Filters 600 count - Co...   \n",
       "0  B000DLB2FI  Keurig My K-Cup Reusable Coffee Filter - Old M...   \n",
       "9  B0BJ2CJTB5  Mini Washing Machine Portable Turbine Washer w...   \n",
       "2  B01DMRHDZ2  ClimaTek Gas Oven Range Stove Ignitor Igniter ...   \n",
       "\n",
       "              main_category          subcategory  count      mean  \n",
       "3  Tools & Home Improvement        Water Filters     10  5.000000  \n",
       "7               Amazon Home   Disposable Filters   1220  4.890984  \n",
       "6                   Grocery     Reusable Filters    545  4.502752  \n",
       "8               Amazon Home    Permanent Filters    605  4.419835  \n",
       "1                Appliances        Water Filters    574  4.397213  \n",
       "5               Amazon Home     Reusable Filters   1329  4.263356  \n",
       "4               Amazon Home     Reusable Filters    577  4.235702  \n",
       "0               Amazon Home     Reusable Filters    681  3.979442  \n",
       "9                Appliances     Portable Washers      5  1.400000  \n",
       "2   Industrial & Scientific  Parts & Accessories      1  1.000000  "
      ]
     },
     "execution_count": 157,
     "metadata": {},
     "output_type": "execute_result"
    }
   ],
   "source": [
    "# Show Top K highest ave ratings and by count\n",
    "prod_stats.head(k)"
   ]
  },
  {
   "cell_type": "markdown",
   "id": "3c49d08e",
   "metadata": {},
   "source": [
    "> Not very reliable. Consider Weighted Avg vs Bayesian Avg. "
   ]
  },
  {
   "cell_type": "markdown",
   "id": "716a84c1",
   "metadata": {},
   "source": [
    "#### ---Option B: Calculating Bayesian Average of Ratings"
   ]
  },
  {
   "cell_type": "code",
   "execution_count": 158,
   "id": "ac18c66f",
   "metadata": {},
   "outputs": [],
   "source": [
    "# c_confidence:  typical dataset size or average number(or count) of ratings for a given product\n",
    "c_confidence = prod_stats['count'].mean()\n",
    "\n",
    "# m_priori :  mean rating across all products\n",
    "m_priori = prod_stats['mean'].mean()"
   ]
  },
  {
   "cell_type": "code",
   "execution_count": 159,
   "id": "92667ea7",
   "metadata": {},
   "outputs": [
    {
     "name": "stdout",
     "output_type": "stream",
     "text": [
      "Confidence : 554.7\n",
      "Priori: 3.808928296460555\n"
     ]
    }
   ],
   "source": [
    "# Show confidence and priori values\n",
    "print(f'Confidence : {c_confidence}')\n",
    "print(f'Priori: {m_priori}')"
   ]
  },
  {
   "cell_type": "code",
   "execution_count": 160,
   "id": "dc3b8e62",
   "metadata": {},
   "outputs": [],
   "source": [
    "def bayesian_average(l_ratings):\n",
    "    \"\"\"\n",
    "    Calculate the Bayesian average rating for a product.\n",
    "    Args:\n",
    "        l_ratings (pd.Series): Series of ratings for a product.\n",
    "    Returns:\n",
    "        float: Bayesian average rating.\n",
    "    \"\"\"\n",
    "    bayes_avg =  ( (c_confidence * m_priori) + l_ratings.sum() )/ ( c_confidence + l_ratings.count())\n",
    "    return round(bayes_avg, 3)"
   ]
  },
  {
   "cell_type": "code",
   "execution_count": 161,
   "id": "97a7815f",
   "metadata": {},
   "outputs": [],
   "source": [
    "# Get the bayesian average in prod_stats\n",
    "bayesian_ratings = df.groupby(['asin', 'main_category', 'subcategory', 'title'])['rating'].agg(bayesian_average).reset_index().sort_values('rating', ascending=False)"
   ]
  },
  {
   "cell_type": "code",
   "execution_count": 162,
   "id": "8331b6d8",
   "metadata": {},
   "outputs": [
    {
     "data": {
      "text/html": [
       "<div>\n",
       "<style scoped>\n",
       "    .dataframe tbody tr th:only-of-type {\n",
       "        vertical-align: middle;\n",
       "    }\n",
       "\n",
       "    .dataframe tbody tr th {\n",
       "        vertical-align: top;\n",
       "    }\n",
       "\n",
       "    .dataframe thead th {\n",
       "        text-align: right;\n",
       "    }\n",
       "</style>\n",
       "<table border=\"1\" class=\"dataframe\">\n",
       "  <thead>\n",
       "    <tr style=\"text-align: right;\">\n",
       "      <th></th>\n",
       "      <th>asin</th>\n",
       "      <th>main_category</th>\n",
       "      <th>subcategory</th>\n",
       "      <th>title</th>\n",
       "      <th>rating</th>\n",
       "    </tr>\n",
       "  </thead>\n",
       "  <tbody>\n",
       "    <tr>\n",
       "      <th>14</th>\n",
       "      <td>B01DLEL4EM</td>\n",
       "      <td>Amazon Home</td>\n",
       "      <td>Disposable Filters</td>\n",
       "      <td>12 Pack Keurig Filter Replacement by K&amp;J - Com...</td>\n",
       "      <td>4.485</td>\n",
       "    </tr>\n",
       "    <tr>\n",
       "      <th>17</th>\n",
       "      <td>B01GAGM62M</td>\n",
       "      <td>Amazon Home</td>\n",
       "      <td>Disposable Filters</td>\n",
       "      <td>12 Pack Keurig Filter Replacement by K&amp;J - Com...</td>\n",
       "      <td>4.185</td>\n",
       "    </tr>\n",
       "    <tr>\n",
       "      <th>16</th>\n",
       "      <td>B01DP1IWKU</td>\n",
       "      <td>Grocery</td>\n",
       "      <td>Reusable Filters</td>\n",
       "      <td>Reusable coffee pods for Coffee Makers (4 PACK...</td>\n",
       "      <td>4.149</td>\n",
       "    </tr>\n",
       "    <tr>\n",
       "      <th>8</th>\n",
       "      <td>B0045LLC7K</td>\n",
       "      <td>Appliances</td>\n",
       "      <td>Water Filters</td>\n",
       "      <td>Frigidaire WF3CB Puresource3 Refrigerator Wate...</td>\n",
       "      <td>4.108</td>\n",
       "    </tr>\n",
       "    <tr>\n",
       "      <th>11</th>\n",
       "      <td>B00LGEKOMS</td>\n",
       "      <td>Amazon Home</td>\n",
       "      <td>Reusable Filters</td>\n",
       "      <td>iPartPlusMore Reusable Coffee Filters Compatib...</td>\n",
       "      <td>4.036</td>\n",
       "    </tr>\n",
       "    <tr>\n",
       "      <th>1</th>\n",
       "      <td>B0001IRRLG</td>\n",
       "      <td>Amazon Home</td>\n",
       "      <td>Permanent Filters</td>\n",
       "      <td>Cuisinart Replacement Water Filters, 2-Pack</td>\n",
       "      <td>4.011</td>\n",
       "    </tr>\n",
       "    <tr>\n",
       "      <th>10</th>\n",
       "      <td>B00BUFJBQS</td>\n",
       "      <td>Amazon Home</td>\n",
       "      <td>Reusable Filters</td>\n",
       "      <td>Disposable Paper Coffee Filters 600 count - Co...</td>\n",
       "      <td>4.009</td>\n",
       "    </tr>\n",
       "    <tr>\n",
       "      <th>13</th>\n",
       "      <td>B01AUBYMK2</td>\n",
       "      <td>Amazon Home</td>\n",
       "      <td>Reusable Filters</td>\n",
       "      <td>iPartPlusMore Reusable Coffee Filters Compatib...</td>\n",
       "      <td>3.963</td>\n",
       "    </tr>\n",
       "    <tr>\n",
       "      <th>6</th>\n",
       "      <td>B000TETMVK</td>\n",
       "      <td>Amazon Home</td>\n",
       "      <td>Permanent Filters</td>\n",
       "      <td>Cuisinart Replacement Water Filters, 2-Pack</td>\n",
       "      <td>3.950</td>\n",
       "    </tr>\n",
       "    <tr>\n",
       "      <th>19</th>\n",
       "      <td>B06X9RFT2J</td>\n",
       "      <td>Amazon Home</td>\n",
       "      <td>Reusable Filters</td>\n",
       "      <td>iPartPlusMore Reusable Coffee Filters Compatib...</td>\n",
       "      <td>3.946</td>\n",
       "    </tr>\n",
       "  </tbody>\n",
       "</table>\n",
       "</div>"
      ],
      "text/plain": [
       "          asin main_category         subcategory  \\\n",
       "14  B01DLEL4EM   Amazon Home  Disposable Filters   \n",
       "17  B01GAGM62M   Amazon Home  Disposable Filters   \n",
       "16  B01DP1IWKU       Grocery    Reusable Filters   \n",
       "8   B0045LLC7K    Appliances       Water Filters   \n",
       "11  B00LGEKOMS   Amazon Home    Reusable Filters   \n",
       "1   B0001IRRLG   Amazon Home   Permanent Filters   \n",
       "10  B00BUFJBQS   Amazon Home    Reusable Filters   \n",
       "13  B01AUBYMK2   Amazon Home    Reusable Filters   \n",
       "6   B000TETMVK   Amazon Home   Permanent Filters   \n",
       "19  B06X9RFT2J   Amazon Home    Reusable Filters   \n",
       "\n",
       "                                                title  rating  \n",
       "14  12 Pack Keurig Filter Replacement by K&J - Com...   4.485  \n",
       "17  12 Pack Keurig Filter Replacement by K&J - Com...   4.185  \n",
       "16  Reusable coffee pods for Coffee Makers (4 PACK...   4.149  \n",
       "8   Frigidaire WF3CB Puresource3 Refrigerator Wate...   4.108  \n",
       "11  iPartPlusMore Reusable Coffee Filters Compatib...   4.036  \n",
       "1         Cuisinart Replacement Water Filters, 2-Pack   4.011  \n",
       "10  Disposable Paper Coffee Filters 600 count - Co...   4.009  \n",
       "13  iPartPlusMore Reusable Coffee Filters Compatib...   3.963  \n",
       "6         Cuisinart Replacement Water Filters, 2-Pack   3.950  \n",
       "19  iPartPlusMore Reusable Coffee Filters Compatib...   3.946  "
      ]
     },
     "execution_count": 162,
     "metadata": {},
     "output_type": "execute_result"
    }
   ],
   "source": [
    "# Show top K bayesian ratings\n",
    "bayesian_ratings[0:k]"
   ]
  },
  {
   "cell_type": "markdown",
   "id": "4b417f78",
   "metadata": {},
   "source": [
    "#### Extracting the Maker "
   ]
  },
  {
   "cell_type": "markdown",
   "id": "68fc3188",
   "metadata": {},
   "source": [
    "The brand, manufacturer or main distributor of a product"
   ]
  },
  {
   "cell_type": "code",
   "execution_count": 163,
   "id": "ff4d2c89",
   "metadata": {},
   "outputs": [
    {
     "data": {
      "text/plain": [
       "main_category    0\n",
       "title            0\n",
       "features         0\n",
       "description      0\n",
       "store            0\n",
       "details          0\n",
       "parent_asin      0\n",
       "subcategory      0\n",
       "dtype: int64"
      ]
     },
     "execution_count": 163,
     "metadata": {},
     "output_type": "execute_result"
    }
   ],
   "source": [
    "# Verify\n",
    "df_meta.isna().sum()"
   ]
  },
  {
   "cell_type": "code",
   "execution_count": 164,
   "id": "09714515",
   "metadata": {},
   "outputs": [],
   "source": [
    "# Create new column [maker] and assign/extract brand or manufacturer from {details} \n",
    "df_meta['maker'] = df_meta['details'].apply(lambda x: x.get('Brand') if not x else x.get('Manufacturer'))\n",
    "\n",
    "# If [details] have no dict{} values, assign the [store] value\n",
    "df_meta.maker.fillna(df_meta['store'], inplace=True)"
   ]
  },
  {
   "cell_type": "code",
   "execution_count": 165,
   "id": "f8915b86",
   "metadata": {},
   "outputs": [],
   "source": [
    "# Checkpoint: No null values in maker\n",
    "assert df_meta.maker.isna().sum() == 0, \"There are null values in maker column.\""
   ]
  },
  {
   "cell_type": "code",
   "execution_count": 166,
   "id": "706362c5",
   "metadata": {},
   "outputs": [
    {
     "data": {
      "text/html": [
       "<div>\n",
       "<style scoped>\n",
       "    .dataframe tbody tr th:only-of-type {\n",
       "        vertical-align: middle;\n",
       "    }\n",
       "\n",
       "    .dataframe tbody tr th {\n",
       "        vertical-align: top;\n",
       "    }\n",
       "\n",
       "    .dataframe thead th {\n",
       "        text-align: right;\n",
       "    }\n",
       "</style>\n",
       "<table border=\"1\" class=\"dataframe\">\n",
       "  <thead>\n",
       "    <tr style=\"text-align: right;\">\n",
       "      <th></th>\n",
       "      <th>main_category</th>\n",
       "      <th>title</th>\n",
       "      <th>store</th>\n",
       "      <th>maker</th>\n",
       "    </tr>\n",
       "  </thead>\n",
       "  <tbody>\n",
       "    <tr>\n",
       "      <th>0</th>\n",
       "      <td>Amazon Home</td>\n",
       "      <td>Cuisinart Replacement Water Filters, 2-Pack</td>\n",
       "      <td>Cuisinart</td>\n",
       "      <td>Cuisinart</td>\n",
       "    </tr>\n",
       "    <tr>\n",
       "      <th>1</th>\n",
       "      <td>Amazon Home</td>\n",
       "      <td>12 Pack Keurig Filter Replacement by K&amp;J - Com...</td>\n",
       "      <td>K&amp;J</td>\n",
       "      <td>K&amp;J</td>\n",
       "    </tr>\n",
       "  </tbody>\n",
       "</table>\n",
       "</div>"
      ],
      "text/plain": [
       "  main_category                                              title      store  \\\n",
       "0   Amazon Home        Cuisinart Replacement Water Filters, 2-Pack  Cuisinart   \n",
       "1   Amazon Home  12 Pack Keurig Filter Replacement by K&J - Com...        K&J   \n",
       "\n",
       "       maker  \n",
       "0  Cuisinart  \n",
       "1        K&J  "
      ]
     },
     "execution_count": 166,
     "metadata": {},
     "output_type": "execute_result"
    }
   ],
   "source": [
    "# Verify maker column\n",
    "df_meta[['main_category', 'title', 'store', 'maker']].head(2)"
   ]
  },
  {
   "cell_type": "code",
   "execution_count": 167,
   "id": "e5565cd7",
   "metadata": {},
   "outputs": [],
   "source": [
    "# Drop categories and details - for now\n",
    "df_meta.drop('details', axis=1, inplace=True)"
   ]
  },
  {
   "cell_type": "markdown",
   "id": "ebe08fdc",
   "metadata": {},
   "source": [
    "#### Analyze Word counts"
   ]
  },
  {
   "cell_type": "markdown",
   "id": "258d3206",
   "metadata": {},
   "source": [
    "Analyze the word counts in title, description, store and details.\n"
   ]
  },
  {
   "cell_type": "code",
   "execution_count": 168,
   "id": "f6817343",
   "metadata": {},
   "outputs": [],
   "source": [
    "# Transform [description] and features list to a stream of str \n",
    "df_meta['description'] = df_meta['description'].apply(lambda x: ' '.join(x))\n",
    "df_meta['features'] = df_meta['features'].apply(lambda x: ' '.join(x))"
   ]
  },
  {
   "cell_type": "code",
   "execution_count": 169,
   "id": "fef21514",
   "metadata": {},
   "outputs": [],
   "source": [
    "# cols_object = df_meta.select_dtypes(include='object').columns\n",
    "cols_object = ['title', 'description', 'features']"
   ]
  },
  {
   "cell_type": "code",
   "execution_count": 170,
   "id": "b9886627",
   "metadata": {},
   "outputs": [
    {
     "data": {
      "image/png": "[encoded data removed]",
      "text/plain": [
       "<Figure size 500x300 with 1 Axes>"
      ]
     },
     "metadata": {},
     "output_type": "display_data"
    },
    {
     "data": {
      "image/png": "[encoded data removed]",
      "text/plain": [
       "<Figure size 500x300 with 1 Axes>"
      ]
     },
     "metadata": {},
     "output_type": "display_data"
    },
    {
     "data": {
      "image/png": "[encoded data removed]",
      "text/plain": [
       "<Figure size 500x300 with 1 Axes>"
      ]
     },
     "metadata": {},
     "output_type": "display_data"
    }
   ],
   "source": [
    "# Count words for columns of interests.\n",
    "for col in cols_object:\n",
    "\n",
    "    word_ct = df_meta[col].str.split().str.len()\n",
    "\n",
    "    sns.set_style('dark')\n",
    "    plt.figure(figsize=(5,3))\n",
    "\n",
    "    hist = sns.histplot(x=word_ct, bins=10)\n",
    "    hist.set_title(f'Word Count for {col} column')\n",
    "    plt.show()"
   ]
  },
  {
   "cell_type": "markdown",
   "id": "d9d719ff",
   "metadata": {},
   "source": [
    "#### Distribution of ratings - For noise reduction "
   ]
  },
  {
   "cell_type": "code",
   "execution_count": 171,
   "id": "f93fa8ab",
   "metadata": {},
   "outputs": [
    {
     "data": {
      "image/png": "[encoded data removed]",
      "text/plain": [
       "<Figure size 500x300 with 1 Axes>"
      ]
     },
     "metadata": {},
     "output_type": "display_data"
    },
    {
     "data": {
      "image/png": "[encoded data removed]",
      "text/plain": [
       "<Figure size 500x300 with 1 Axes>"
      ]
     },
     "metadata": {},
     "output_type": "display_data"
    },
    {
     "data": {
      "image/png": "[encoded data removed]",
      "text/plain": [
       "<Figure size 500x300 with 1 Axes>"
      ]
     },
     "metadata": {},
     "output_type": "display_data"
    }
   ],
   "source": [
    "# Check the distribution of ratings to help decide the threshold to keep - What's the min no. of ratings for a product to be recommended to user? \n",
    "\n",
    "cols_of_interest = ['asin', 'parent_asin', 'user_id']\n",
    "for col in cols_of_interest:\n",
    "    plt.figure(figsize=(5,3))\n",
    "    df_vc = df[col].value_counts(ascending=False).reset_index()\n",
    "    \n",
    "    sns.histplot(data=df_vc, x='count', bins=10)\n",
    "    plt.xlabel(f'Number of {col} ratings')\n",
    "    plt.title(f'Distribution of ratings grouped by {col}')\n",
    "    plt.tight_layout()\n",
    "    plt.show()"
   ]
  },
  {
   "cell_type": "markdown",
   "id": "480c517f",
   "metadata": {},
   "source": [
    "## PRE-PROCESSING"
   ]
  },
  {
   "cell_type": "markdown",
   "id": "be17c1a8",
   "metadata": {},
   "source": [
    "### Feature Engineering"
   ]
  },
  {
   "cell_type": "markdown",
   "id": "f2a20781",
   "metadata": {},
   "source": [
    "> Note: For feature group [parent_asin] was used because products that have not been reviewed does not have a corresponding [asin]"
   ]
  },
  {
   "cell_type": "code",
   "execution_count": 172,
   "id": "07e65623",
   "metadata": {},
   "outputs": [
    {
     "data": {
      "text/html": [
       "<div>\n",
       "<style scoped>\n",
       "    .dataframe tbody tr th:only-of-type {\n",
       "        vertical-align: middle;\n",
       "    }\n",
       "\n",
       "    .dataframe tbody tr th {\n",
       "        vertical-align: top;\n",
       "    }\n",
       "\n",
       "    .dataframe thead th {\n",
       "        text-align: right;\n",
       "    }\n",
       "</style>\n",
       "<table border=\"1\" class=\"dataframe\">\n",
       "  <thead>\n",
       "    <tr style=\"text-align: right;\">\n",
       "      <th></th>\n",
       "      <th>main_category</th>\n",
       "      <th>title</th>\n",
       "      <th>features</th>\n",
       "      <th>description</th>\n",
       "      <th>store</th>\n",
       "      <th>parent_asin</th>\n",
       "      <th>subcategory</th>\n",
       "      <th>maker</th>\n",
       "    </tr>\n",
       "  </thead>\n",
       "  <tbody>\n",
       "    <tr>\n",
       "      <th>0</th>\n",
       "      <td>Amazon Home</td>\n",
       "      <td>Cuisinart Replacement Water Filters, 2-Pack</td>\n",
       "      <td>Made of nonwoven polyester and activated charc...</td>\n",
       "      <td>Product Description Make sure you're brewing t...</td>\n",
       "      <td>Cuisinart</td>\n",
       "      <td>B0BHNSLKNZ</td>\n",
       "      <td>Permanent Filters</td>\n",
       "      <td>Cuisinart</td>\n",
       "    </tr>\n",
       "    <tr>\n",
       "      <th>1</th>\n",
       "      <td>Amazon Home</td>\n",
       "      <td>12 Pack Keurig Filter Replacement by K&amp;J - Com...</td>\n",
       "      <td>PERFECT FIT - These Keurig-compatible replacem...</td>\n",
       "      <td></td>\n",
       "      <td>K&amp;J</td>\n",
       "      <td>B0B3DB5HTC</td>\n",
       "      <td>Disposable Filters</td>\n",
       "      <td>K&amp;J</td>\n",
       "    </tr>\n",
       "    <tr>\n",
       "      <th>2</th>\n",
       "      <td>Grocery</td>\n",
       "      <td>Reusable coffee pods for Coffee Makers (4 PACK...</td>\n",
       "      <td></td>\n",
       "      <td></td>\n",
       "      <td>Delibru</td>\n",
       "      <td>B092LLM7H3</td>\n",
       "      <td>Reusable Filters</td>\n",
       "      <td>Delibru</td>\n",
       "    </tr>\n",
       "    <tr>\n",
       "      <th>3</th>\n",
       "      <td>Amazon Home</td>\n",
       "      <td>Disposable Paper Coffee Filters 600 count - Co...</td>\n",
       "      <td>Compatible with Solofill, Solo Filters, EZ-Cup...</td>\n",
       "      <td></td>\n",
       "      <td>SIMPLECUPS</td>\n",
       "      <td>B07P3Y8JWY</td>\n",
       "      <td>Reusable Filters</td>\n",
       "      <td>Simple Cups</td>\n",
       "    </tr>\n",
       "    <tr>\n",
       "      <th>4</th>\n",
       "      <td>Amazon Home</td>\n",
       "      <td>iPartPlusMore Reusable Coffee Filters Compatib...</td>\n",
       "      <td>ECO-ALTERNATIVE COFFEE FILTERS: Save up to 80%...</td>\n",
       "      <td></td>\n",
       "      <td>iPartsPlusMore</td>\n",
       "      <td>B07RNJY499</td>\n",
       "      <td>Reusable Filters</td>\n",
       "      <td>iPartsPlusMore</td>\n",
       "    </tr>\n",
       "  </tbody>\n",
       "</table>\n",
       "</div>"
      ],
      "text/plain": [
       "  main_category                                              title  \\\n",
       "0   Amazon Home        Cuisinart Replacement Water Filters, 2-Pack   \n",
       "1   Amazon Home  12 Pack Keurig Filter Replacement by K&J - Com...   \n",
       "2       Grocery  Reusable coffee pods for Coffee Makers (4 PACK...   \n",
       "3   Amazon Home  Disposable Paper Coffee Filters 600 count - Co...   \n",
       "4   Amazon Home  iPartPlusMore Reusable Coffee Filters Compatib...   \n",
       "\n",
       "                                            features  \\\n",
       "0  Made of nonwoven polyester and activated charc...   \n",
       "1  PERFECT FIT - These Keurig-compatible replacem...   \n",
       "2                                                      \n",
       "3  Compatible with Solofill, Solo Filters, EZ-Cup...   \n",
       "4  ECO-ALTERNATIVE COFFEE FILTERS: Save up to 80%...   \n",
       "\n",
       "                                         description           store  \\\n",
       "0  Product Description Make sure you're brewing t...       Cuisinart   \n",
       "1                                                                K&J   \n",
       "2                                                            Delibru   \n",
       "3                                                         SIMPLECUPS   \n",
       "4                                                     iPartsPlusMore   \n",
       "\n",
       "  parent_asin         subcategory           maker  \n",
       "0  B0BHNSLKNZ   Permanent Filters       Cuisinart  \n",
       "1  B0B3DB5HTC  Disposable Filters             K&J  \n",
       "2  B092LLM7H3    Reusable Filters         Delibru  \n",
       "3  B07P3Y8JWY    Reusable Filters     Simple Cups  \n",
       "4  B07RNJY499    Reusable Filters  iPartsPlusMore  "
      ]
     },
     "execution_count": 172,
     "metadata": {},
     "output_type": "execute_result"
    }
   ],
   "source": [
    "# Verify\n",
    "df_meta.head()"
   ]
  },
  {
   "cell_type": "markdown",
   "id": "0de0eadb",
   "metadata": {},
   "source": [
    "<div class=\"alert alert-block alert-warning\">\n",
    "[Decision Block] Decide which columns should be used as tags or combined in a feature group.\n",
    "</div>"
   ]
  },
  {
   "cell_type": "code",
   "execution_count": 173,
   "id": "317cbf38",
   "metadata": {},
   "outputs": [],
   "source": [
    "# Select the features to be used for NLP\n",
    "\n",
    "selected_features = ['parent_asin',  'main_category', 'subcategory', 'maker', 'title']\n",
    "# selected_features = ['parent_asin', 'title', 'store', 'details']\n",
    "# --Note: removed [store][details] due to resource issues - Unable to allocate 31.4 GiB for an array with shape (4220106037,) and data type int64.\n",
    "\n",
    "# Concatenate the selected features into a single string column\n",
    "df_meta['feature_group'] = df_meta[selected_features].agg(' '.join, axis=1)"
   ]
  },
  {
   "cell_type": "code",
   "execution_count": 174,
   "id": "e615035f",
   "metadata": {},
   "outputs": [
    {
     "data": {
      "text/html": [
       "<div>\n",
       "<style scoped>\n",
       "    .dataframe tbody tr th:only-of-type {\n",
       "        vertical-align: middle;\n",
       "    }\n",
       "\n",
       "    .dataframe tbody tr th {\n",
       "        vertical-align: top;\n",
       "    }\n",
       "\n",
       "    .dataframe thead th {\n",
       "        text-align: right;\n",
       "    }\n",
       "</style>\n",
       "<table border=\"1\" class=\"dataframe\">\n",
       "  <thead>\n",
       "    <tr style=\"text-align: right;\">\n",
       "      <th></th>\n",
       "      <th>main_category</th>\n",
       "      <th>title</th>\n",
       "      <th>features</th>\n",
       "      <th>description</th>\n",
       "      <th>store</th>\n",
       "      <th>parent_asin</th>\n",
       "      <th>subcategory</th>\n",
       "      <th>maker</th>\n",
       "      <th>feature_group</th>\n",
       "    </tr>\n",
       "  </thead>\n",
       "  <tbody>\n",
       "    <tr>\n",
       "      <th>0</th>\n",
       "      <td>Amazon Home</td>\n",
       "      <td>Cuisinart Replacement Water Filters, 2-Pack</td>\n",
       "      <td>Made of nonwoven polyester and activated charc...</td>\n",
       "      <td>Product Description Make sure you're brewing t...</td>\n",
       "      <td>Cuisinart</td>\n",
       "      <td>B0BHNSLKNZ</td>\n",
       "      <td>Permanent Filters</td>\n",
       "      <td>Cuisinart</td>\n",
       "      <td>B0BHNSLKNZ Amazon Home Permanent Filters Cuisi...</td>\n",
       "    </tr>\n",
       "    <tr>\n",
       "      <th>1</th>\n",
       "      <td>Amazon Home</td>\n",
       "      <td>12 Pack Keurig Filter Replacement by K&amp;J - Com...</td>\n",
       "      <td>PERFECT FIT - These Keurig-compatible replacem...</td>\n",
       "      <td></td>\n",
       "      <td>K&amp;J</td>\n",
       "      <td>B0B3DB5HTC</td>\n",
       "      <td>Disposable Filters</td>\n",
       "      <td>K&amp;J</td>\n",
       "      <td>B0B3DB5HTC Amazon Home Disposable Filters K&amp;J ...</td>\n",
       "    </tr>\n",
       "  </tbody>\n",
       "</table>\n",
       "</div>"
      ],
      "text/plain": [
       "  main_category                                              title  \\\n",
       "0   Amazon Home        Cuisinart Replacement Water Filters, 2-Pack   \n",
       "1   Amazon Home  12 Pack Keurig Filter Replacement by K&J - Com...   \n",
       "\n",
       "                                            features  \\\n",
       "0  Made of nonwoven polyester and activated charc...   \n",
       "1  PERFECT FIT - These Keurig-compatible replacem...   \n",
       "\n",
       "                                         description      store parent_asin  \\\n",
       "0  Product Description Make sure you're brewing t...  Cuisinart  B0BHNSLKNZ   \n",
       "1                                                           K&J  B0B3DB5HTC   \n",
       "\n",
       "          subcategory      maker  \\\n",
       "0   Permanent Filters  Cuisinart   \n",
       "1  Disposable Filters        K&J   \n",
       "\n",
       "                                       feature_group  \n",
       "0  B0BHNSLKNZ Amazon Home Permanent Filters Cuisi...  \n",
       "1  B0B3DB5HTC Amazon Home Disposable Filters K&J ...  "
      ]
     },
     "execution_count": 174,
     "metadata": {},
     "output_type": "execute_result"
    }
   ],
   "source": [
    "# Verify the new column\n",
    "df_meta.head(2)"
   ]
  },
  {
   "cell_type": "markdown",
   "id": "c6737803",
   "metadata": {},
   "source": [
    "### Find Similar Products"
   ]
  },
  {
   "cell_type": "code",
   "execution_count": 175,
   "id": "5669324e",
   "metadata": {},
   "outputs": [
    {
     "name": "stderr",
     "output_type": "stream",
     "text": [
      "[nltk_data] Downloading package punkt_tab to /home/edu/nltk_data...\n",
      "[nltk_data]   Package punkt_tab is already up-to-date!\n",
      "[nltk_data] Downloading package stopwords to /home/edu/nltk_data...\n",
      "[nltk_data]   Package stopwords is already up-to-date!\n"
     ]
    },
    {
     "data": {
      "text/plain": [
       "True"
      ]
     },
     "execution_count": 175,
     "metadata": {},
     "output_type": "execute_result"
    }
   ],
   "source": [
    "import re\n",
    "import nltk\n",
    "from nltk.corpus import stopwords\n",
    "from nltk.stem.porter import PorterStemmer\n",
    "from nltk.stem.wordnet import WordNetLemmatizer\n",
    "\n",
    "from sklearn.feature_extraction.text import TfidfVectorizer\n",
    "from sklearn.metrics.pairwise import cosine_similarity\n",
    "\n",
    "nltk.download('punkt_tab')\n",
    "nltk.download('stopwords')"
   ]
  },
  {
   "cell_type": "code",
   "execution_count": 176,
   "id": "9a92bf24",
   "metadata": {},
   "outputs": [],
   "source": [
    "# NLP Objects and parameters\n",
    "wnl = WordNetLemmatizer()\n",
    "stemmer = PorterStemmer()\n",
    "stop_words = set(stopwords.words('english'))"
   ]
  },
  {
   "cell_type": "markdown",
   "id": "c8d62b0f",
   "metadata": {},
   "source": [
    "#### NLP UDFs"
   ]
  },
  {
   "cell_type": "code",
   "execution_count": 177,
   "id": "6228feef",
   "metadata": {},
   "outputs": [],
   "source": [
    "def preprocess_text(text):\n",
    "    \"\"\"\n",
    "    Preprocesses the input text by removing special characters, converting to lowercase,\n",
    "    removing stop words, and applying stemming or lemmatization.\n",
    "\n",
    "    Args:\n",
    "        text (str): Input text to preprocess.\n",
    "    Returns:\n",
    "        str: Preprocessed text.\n",
    "    \"\"\"\n",
    "    \n",
    "    # Remove special characters\n",
    "    text = re.sub(r'[^a-zA-Z0-9\\s]', '', text)\n",
    "    \n",
    "    # Convert to lowercase\n",
    "    text = text.lower()\n",
    "        \n",
    "    return text"
   ]
  },
  {
   "cell_type": "code",
   "execution_count": 178,
   "id": "2107d486",
   "metadata": {},
   "outputs": [],
   "source": [
    "def tokenizer(txt):\n",
    "    \"\"\"\n",
    "    Tokenizes the input text by removing stop words and applying stemming or lemmatization.\n",
    "    Flags to indicate if tokenization is set to True. \n",
    "\n",
    "    Args:\n",
    "        txt (str): Input text to tokenize.\n",
    "    Returns:\n",
    "        list: List of tokens.\n",
    "    \"\"\"\n",
    "\n",
    "    word_tokens = nltk.word_tokenize(txt)\n",
    "    filtered_sentence = [w for w in word_tokens if not w.lower() in stop_words]\n",
    "\n",
    "    return filtered_sentence"
   ]
  },
  {
   "cell_type": "code",
   "execution_count": 179,
   "id": "30af2031",
   "metadata": {},
   "outputs": [],
   "source": [
    "def lemmatizer(txt):\n",
    "    \"\"\"\n",
    "    Lemmatizes the input text by removing stop words and applying stemming or lemmatization.\n",
    "    Flags to indicate if lemmatization is set to True.\n",
    "    Args:\n",
    "        txt (str): Input text to lemmatize.\n",
    "    Returns:\n",
    "        str: Lemmatized text.\n",
    "    \"\"\"\n",
    "    \n",
    "    filtered_text = [wnl.lemmatize(text) for text in txt]\n",
    "    \n",
    "    return ' '.join(filtered_text)"
   ]
  },
  {
   "cell_type": "markdown",
   "id": "0616e026",
   "metadata": {},
   "source": [
    "#### Apply the NLP Functions to pre-process, tokenize, lemmatize texts"
   ]
  },
  {
   "cell_type": "code",
   "execution_count": 180,
   "id": "b6acc77f",
   "metadata": {},
   "outputs": [],
   "source": [
    "# Apply preprocessing to the feature group\n",
    "df_meta['feature_group'] = df_meta['feature_group'].apply(preprocess_text)"
   ]
  },
  {
   "cell_type": "code",
   "execution_count": 181,
   "id": "bbf9d964",
   "metadata": {},
   "outputs": [],
   "source": [
    "# Apply custom tokenizer to feature_group column# Apply custom tokenizer to feature_group column\n",
    "df_meta['feature_group'] = df_meta['feature_group'].apply(lambda x: tokenizer(x))"
   ]
  },
  {
   "cell_type": "code",
   "execution_count": 182,
   "id": "c7914969",
   "metadata": {},
   "outputs": [],
   "source": [
    "# Apply lemmatizer to feature_group column\n",
    "df_meta['feature_group'] = df_meta['feature_group'].apply(lambda x: lemmatizer(x))"
   ]
  },
  {
   "cell_type": "markdown",
   "id": "afd90b47",
   "metadata": {},
   "source": [
    "#### Vectorize the [feature_group]"
   ]
  },
  {
   "cell_type": "code",
   "execution_count": 183,
   "id": "57ea609b",
   "metadata": {},
   "outputs": [],
   "source": [
    "# Create a csr matrix\n",
    "vectorizer = TfidfVectorizer(analyzer='word',stop_words='english')\n",
    "feature_vectors = vectorizer.fit_transform(df_meta['feature_group'].values)"
   ]
  },
  {
   "cell_type": "code",
   "execution_count": 184,
   "id": "8d5bea42",
   "metadata": {},
   "outputs": [
    {
     "name": "stdout",
     "output_type": "stream",
     "text": [
      "<Compressed Sparse Row sparse matrix of dtype 'float64'\n",
      "\twith 447 stored elements and shape (30, 282)>\n",
      "  Coords\tValues\n",
      "  (0, 66)\t0.3257230282117321\n",
      "  (0, 31)\t0.1855857897294682\n",
      "  (0, 150)\t0.12969818423540308\n",
      "  (0, 212)\t0.3257230282117321\n",
      "  (0, 128)\t0.33942131523625463\n",
      "  (0, 100)\t0.6514460564234642\n",
      "  (0, 227)\t0.19475975760687753\n",
      "  (0, 268)\t0.23006448114557898\n",
      "  (0, 9)\t0.3257230282117321\n",
      "  (1, 31)\t0.1497597127927342\n",
      "  (1, 150)\t0.10466083016995628\n",
      "  (1, 128)\t0.27389833434775257\n",
      "  (1, 227)\t0.1571627084450055\n",
      "  (1, 62)\t0.2628444086482938\n",
      "  (1, 111)\t0.23435502233757408\n",
      "  (1, 168)\t0.5256888172965876\n",
      "  (1, 2)\t0.23435502233757408\n",
      "  (1, 210)\t0.1856520947557252\n",
      "  (1, 166)\t0.39692528074916616\n",
      "  (1, 91)\t0.17482093276462413\n",
      "  (1, 87)\t0.17482093276462413\n",
      "  (1, 181)\t0.1856520947557252\n",
      "  (1, 5)\t0.23435502233757408\n",
      "  (1, 206)\t0.2628444086482938\n",
      "  (2, 128)\t0.1575059806162777\n",
      "  :\t:\n",
      "  (28, 215)\t0.45568775204979983\n",
      "  (28, 80)\t0.3037918346998666\n",
      "  (28, 209)\t0.1518959173499333\n",
      "  (28, 123)\t0.3037918346998666\n",
      "  (28, 247)\t0.1518959173499333\n",
      "  (28, 133)\t0.1518959173499333\n",
      "  (28, 162)\t0.1518959173499333\n",
      "  (28, 83)\t0.1518959173499333\n",
      "  (28, 171)\t0.1518959173499333\n",
      "  (28, 35)\t0.1518959173499333\n",
      "  (28, 218)\t0.1518959173499333\n",
      "  (29, 72)\t0.21324402282918592\n",
      "  (29, 246)\t0.21324402282918592\n",
      "  (29, 34)\t0.1491320759276764\n",
      "  (29, 175)\t0.46674569994200793\n",
      "  (29, 225)\t0.32949041447182487\n",
      "  (29, 97)\t0.23337284997100396\n",
      "  (29, 99)\t0.23337284997100396\n",
      "  (29, 138)\t0.23337284997100396\n",
      "  (29, 240)\t0.23337284997100396\n",
      "  (29, 51)\t0.26174283842245943\n",
      "  (29, 178)\t0.26174283842245943\n",
      "  (29, 6)\t0.26174283842245943\n",
      "  (29, 159)\t0.26174283842245943\n",
      "  (29, 109)\t0.26174283842245943\n"
     ]
    }
   ],
   "source": [
    "# Verify/Preview the sparse martrix\n",
    "print(feature_vectors)"
   ]
  },
  {
   "cell_type": "code",
   "execution_count": 185,
   "id": "809eedcc",
   "metadata": {},
   "outputs": [
    {
     "name": "stdout",
     "output_type": "stream",
     "text": [
      "Shape of feature vectors: (30, 282)\n"
     ]
    }
   ],
   "source": [
    "# Verify the shape of the feature vectors\n",
    "print(\"Shape of feature vectors:\", feature_vectors.shape)"
   ]
  },
  {
   "cell_type": "markdown",
   "id": "c0f5e62f",
   "metadata": {},
   "source": [
    "#### Calculate Cosine Similarity"
   ]
  },
  {
   "cell_type": "code",
   "execution_count": 186,
   "id": "b1b539fb",
   "metadata": {},
   "outputs": [
    {
     "data": {
      "text/plain": [
       "(30, 30)"
      ]
     },
     "execution_count": 186,
     "metadata": {},
     "output_type": "execute_result"
    }
   ],
   "source": [
    "# Calculate cosine similarity\n",
    "similarity = cosine_similarity(feature_vectors)\n",
    "similarity.shape"
   ]
  },
  {
   "cell_type": "code",
   "execution_count": 187,
   "id": "ab16e803",
   "metadata": {},
   "outputs": [],
   "source": [
    "# Set display option \n",
    "pd.options.display.max_colwidth = 1000"
   ]
  },
  {
   "cell_type": "markdown",
   "id": "1611ce06",
   "metadata": {},
   "source": [
    "#### Option A: Similar items using ASIN (product key)"
   ]
  },
  {
   "cell_type": "code",
   "execution_count": 188,
   "id": "bf46debf",
   "metadata": {},
   "outputs": [],
   "source": [
    "def get_product_data(query:str , data_df: pd.DataFrame, col: str) -> pd.DataFrame:\n",
    "    \"\"\"\n",
    "    UDF: Gets the product data by matching query with the column of interest.\n",
    "    Args:\n",
    "        query (str): Search query\n",
    "        data_df (pd.DataFrame): DataFrame to search in\n",
    "        col (str): Column to search in\n",
    "    Returns:\n",
    "        pd.DataFrame: DataFrame containing the search results\n",
    "    \"\"\"\n",
    "    \n",
    "    # Search [col] using exact query\n",
    "    l_data = data_df[data_df[col] == query] \n",
    "\n",
    "    # If exact match or single row returned \n",
    "    if len(l_data) == 1:                    \n",
    "        print('Exact product match used in query.')\n",
    "    \n",
    "    # If not exact found in [col], refine search...\n",
    "    else:\n",
    "\n",
    "        # Check in [title] if it contains the refined query (removed special characters and lower cased) \n",
    "        query = re.sub(r'[^a-zA-Z0-9\\s]', '', query)\n",
    "        l_data = data_df[data_df['title']\\\n",
    "                  .apply(lambda x: re.sub(r'[^a-zA-Z0-9\\s]', '', x))\\\n",
    "                  .str.lower()\n",
    "                  .str.contains(query.lower())\\\n",
    "                    ]\n",
    "\n",
    "        # If refined query matches one or more product names\n",
    "        if len(l_data) > 0:\n",
    "            print('Found products with similar keywords.')\n",
    "\n",
    "        else:            \n",
    "            print('No products matched the keywords in query. Try again.')\n",
    "\n",
    "    return l_data\n"
   ]
  },
  {
   "cell_type": "code",
   "execution_count": 189,
   "id": "7a680f35",
   "metadata": {},
   "outputs": [],
   "source": [
    "def get_product_index(data_df: pd.DataFrame, query:str, col: str) -> int:\n",
    "    \"\"\"\n",
    "    Get the index of the product in the DataFrame based on the query.\n",
    "    Args:\n",
    "        data_df (pd.DataFrame): DataFrame containing product data.\n",
    "        query (str): Query string to search for.\n",
    "        col (str): Column name to search in.\n",
    "    Returns:\n",
    "        int: Index of the product in the DataFrame.\n",
    "    \"\"\"\n",
    "\n",
    "    product_index = data_df[data_df[col] == query].index\n",
    "    return product_index[0] if len(product_index) > 0 else None"
   ]
  },
  {
   "cell_type": "code",
   "execution_count": 190,
   "id": "d2d5b976",
   "metadata": {},
   "outputs": [],
   "source": [
    "def search_similar_product(query: str, data_df: pd.DataFrame, cos_sim: np.array, k: int = 1) -> list:\n",
    "    \"\"\"\n",
    "    Recommend similar products based on the query and cosine similarity.\n",
    "    Args:\n",
    "        query (str): Search query.\n",
    "        data_df (pd.DataFrame): DataFrame containing product data.\n",
    "        cos_sim (np.array): Cosine similarity matrix.\n",
    "        k (int): Number of similar products to recommend. Defaults to 1.\n",
    "    Returns:\n",
    "        list: List of similar products with their IDs and titles.\n",
    "    \"\"\"\n",
    "\n",
    "    l_prods = get_product_data(query, data_df, 'parent_asin')\n",
    "\n",
    "    \n",
    "    if len(l_prods) > 0:\n",
    "\n",
    "        top_idx = l_prods.index[0]\n",
    "        distances = sorted(list(enumerate(cos_sim[top_idx])), reverse=True, key=lambda x:x[1])\n",
    "\n",
    "        # display(distances[0:k])\n",
    "        similar_items = []\n",
    "\n",
    "        # Assumptions: \n",
    "        #    l_prods length == 1: Exact product_name match or passed via pre-loaded drop_down list\n",
    "        #    l_prods length >  1 : Generic keyword search returned multiple matches. Set begin idx to 0 and include the first item in the distances list.\n",
    "\n",
    "        ret_begin_idx = 0\n",
    "\n",
    "        if len(l_prods) == 1:  # exclude the first item in the distances list\n",
    "            ret_begin_idx = 1\n",
    "            k += 1\n",
    "        \n",
    "        # Iterate over distances\n",
    "        for p_id in distances[ret_begin_idx:(k)]: \n",
    "\n",
    "            similar_items.append({'parent_asin': data_df.iloc[p_id[0]].parent_asin, \n",
    "                                 'main_category': data_df.iloc[p_id[0]].main_category, \n",
    "                                 'subcategory': data_df.iloc[p_id[0]].subcategory,\n",
    "                                 'maker': data_df.iloc[p_id[0]].maker,\n",
    "                                 'title': data_df.iloc[p_id[0]].title, \n",
    "                                 'similarity': p_id[1]})\n",
    "\n",
    "    return similar_items"
   ]
  },
  {
   "cell_type": "markdown",
   "id": "921efc09",
   "metadata": {},
   "source": [
    "<div class=\"alert alert-block alert-warning\">\n",
    "[Input block] Select/specify a product ID [asin]\n",
    "</div>"
   ]
  },
  {
   "cell_type": "code",
   "execution_count": 191,
   "id": "258c0f08",
   "metadata": {},
   "outputs": [],
   "source": [
    "# Select/Specify a product ID (ideal) or name to search for\n",
    "\n",
    "query = 'B000DLB2FI'\n",
    "# query = 'Keurig My K-Cup Reusable Coffee Filter - Old Model'"
   ]
  },
  {
   "cell_type": "code",
   "execution_count": 192,
   "id": "21d97f0a",
   "metadata": {},
   "outputs": [
    {
     "name": "stdout",
     "output_type": "stream",
     "text": [
      "Exact product match used in query.\n"
     ]
    }
   ],
   "source": [
    "# Verify\n",
    "# lookup product in df_meta by searching for the product_asin or keywords in the title\n",
    "_ = get_product_data(query, df_meta, 'parent_asin')"
   ]
  },
  {
   "cell_type": "markdown",
   "id": "4b9f89ff",
   "metadata": {},
   "source": [
    "##### Recommend Similar Products"
   ]
  },
  {
   "cell_type": "code",
   "execution_count": 193,
   "id": "d9e5e10a",
   "metadata": {},
   "outputs": [
    {
     "name": "stdout",
     "output_type": "stream",
     "text": [
      "Exact product match used in query.\n"
     ]
    }
   ],
   "source": [
    "# Call fuction: search_similar_product\n",
    "list_recos = search_similar_product(query, df_meta, similarity, k)"
   ]
  },
  {
   "cell_type": "code",
   "execution_count": 194,
   "id": "88c08f47",
   "metadata": {},
   "outputs": [],
   "source": [
    "# Convert the Top N list to DataFrame\n",
    "df_recos = pd.DataFrame(list_recos)"
   ]
  },
  {
   "cell_type": "code",
   "execution_count": 195,
   "id": "82e3d932",
   "metadata": {},
   "outputs": [
    {
     "data": {
      "text/html": [
       "<div>\n",
       "<style scoped>\n",
       "    .dataframe tbody tr th:only-of-type {\n",
       "        vertical-align: middle;\n",
       "    }\n",
       "\n",
       "    .dataframe tbody tr th {\n",
       "        vertical-align: top;\n",
       "    }\n",
       "\n",
       "    .dataframe thead th {\n",
       "        text-align: right;\n",
       "    }\n",
       "</style>\n",
       "<table border=\"1\" class=\"dataframe\">\n",
       "  <thead>\n",
       "    <tr style=\"text-align: right;\">\n",
       "      <th></th>\n",
       "      <th>parent_asin</th>\n",
       "      <th>main_category</th>\n",
       "      <th>subcategory</th>\n",
       "      <th>maker</th>\n",
       "      <th>title</th>\n",
       "      <th>similarity</th>\n",
       "    </tr>\n",
       "  </thead>\n",
       "  <tbody>\n",
       "    <tr>\n",
       "      <th>0</th>\n",
       "      <td>B07P3Y8JWY</td>\n",
       "      <td>Amazon Home</td>\n",
       "      <td>Reusable Filters</td>\n",
       "      <td>Simple Cups</td>\n",
       "      <td>Disposable Paper Coffee Filters 600 count - Compatible with Keurig, K-Cup machines &amp; other Single Serve Coffee Brewer Reusable K Cups - Use Your Own Coffee &amp; Make Your Own Pods - Works with All Brands</td>\n",
       "      <td>0.421959</td>\n",
       "    </tr>\n",
       "    <tr>\n",
       "      <th>1</th>\n",
       "      <td>B07RNJY499</td>\n",
       "      <td>Amazon Home</td>\n",
       "      <td>Reusable Filters</td>\n",
       "      <td>iPartsPlusMore</td>\n",
       "      <td>iPartPlusMore Reusable Coffee Filters Compatible with 1.0 and 2.0 Keurig Single Cup Coffee Maker - BPA-Free Stainless Steel Refillable K Cup Coffee Filter with Fine Mesh Screen (Pack of 4)</td>\n",
       "      <td>0.406264</td>\n",
       "    </tr>\n",
       "    <tr>\n",
       "      <th>2</th>\n",
       "      <td>B0B3DB5HTC</td>\n",
       "      <td>Amazon Home</td>\n",
       "      <td>Disposable Filters</td>\n",
       "      <td>K&amp;J</td>\n",
       "      <td>12 Pack Keurig Filter Replacement by K&amp;J - Compatible with Keurig Coffee Machine (2.0 and older)</td>\n",
       "      <td>0.341106</td>\n",
       "    </tr>\n",
       "    <tr>\n",
       "      <th>3</th>\n",
       "      <td>B092LLM7H3</td>\n",
       "      <td>Grocery</td>\n",
       "      <td>Reusable Filters</td>\n",
       "      <td>Delibru</td>\n",
       "      <td>Reusable coffee pods for Coffee Makers (4 PACK Black and Purple)</td>\n",
       "      <td>0.338949</td>\n",
       "    </tr>\n",
       "    <tr>\n",
       "      <th>4</th>\n",
       "      <td>B0BHNSLKNZ</td>\n",
       "      <td>Amazon Home</td>\n",
       "      <td>Permanent Filters</td>\n",
       "      <td>Cuisinart</td>\n",
       "      <td>Cuisinart Replacement Water Filters, 2-Pack</td>\n",
       "      <td>0.154537</td>\n",
       "    </tr>\n",
       "    <tr>\n",
       "      <th>5</th>\n",
       "      <td>B09YRPT4Q2</td>\n",
       "      <td>Amazon Home</td>\n",
       "      <td>Water Filters</td>\n",
       "      <td>BELVITA</td>\n",
       "      <td>BELVITA ADQ747935 Water Filter Replacement,Compatible with LT1000P,LFXS26973S,LMXS28626S,LMXS30796S,LMXC23796S,Kenmore Elite 9980 ADQ74793501 MDJ64844601,3 Pack</td>\n",
       "      <td>0.118376</td>\n",
       "    </tr>\n",
       "    <tr>\n",
       "      <th>6</th>\n",
       "      <td>B0045LLC7K</td>\n",
       "      <td>Appliances</td>\n",
       "      <td>Water Filters</td>\n",
       "      <td>Frigidaire</td>\n",
       "      <td>Frigidaire WF3CB Puresource3 Refrigerator Water Filter , White, 1 Count (Pack of 1)</td>\n",
       "      <td>0.100118</td>\n",
       "    </tr>\n",
       "    <tr>\n",
       "      <th>7</th>\n",
       "      <td>B01IAFNZGC</td>\n",
       "      <td>Tools &amp; Home Improvement</td>\n",
       "      <td>Water Filters</td>\n",
       "      <td>EXCELPURE</td>\n",
       "      <td>EXCELPURE 5231JA2006A Replacement for LG LT600P,5231JA2006B, Kenmore 46-9990, 5231JA2006F,R-9990, 5231JA2006E, LFX25975ST, LFX25960ST, EFF-6003A, LFX23961ST, SGF-LB60, Refrigerator Water Filter, 3PACK</td>\n",
       "      <td>0.079437</td>\n",
       "    </tr>\n",
       "    <tr>\n",
       "      <th>8</th>\n",
       "      <td>B0BC65XJLJ</td>\n",
       "      <td>Amazon Home</td>\n",
       "      <td>Water Filters</td>\n",
       "      <td>KASTORE F1</td>\n",
       "      <td>W10295370A Water FiIter Cap Replacement, Compatible with EDR1RXD1 Refrigerator Water FiIter 1 46-9081, 46-9930 Water FiIter Cap Replacement 1, 3Packs</td>\n",
       "      <td>0.054844</td>\n",
       "    </tr>\n",
       "    <tr>\n",
       "      <th>9</th>\n",
       "      <td>B07S9DJ2S2</td>\n",
       "      <td>Amazon Home</td>\n",
       "      <td>Ice Makers</td>\n",
       "      <td>Amazon Renewed</td>\n",
       "      <td>Frigidaire Portable Compact Maker, Counter Top Ice Making Machine, 26lb per day (Blue) (EFIC108-BLUE) (Renewed)</td>\n",
       "      <td>0.052436</td>\n",
       "    </tr>\n",
       "  </tbody>\n",
       "</table>\n",
       "</div>"
      ],
      "text/plain": [
       "  parent_asin             main_category         subcategory           maker  \\\n",
       "0  B07P3Y8JWY               Amazon Home    Reusable Filters     Simple Cups   \n",
       "1  B07RNJY499               Amazon Home    Reusable Filters  iPartsPlusMore   \n",
       "2  B0B3DB5HTC               Amazon Home  Disposable Filters             K&J   \n",
       "3  B092LLM7H3                   Grocery    Reusable Filters         Delibru   \n",
       "4  B0BHNSLKNZ               Amazon Home   Permanent Filters       Cuisinart   \n",
       "5  B09YRPT4Q2               Amazon Home       Water Filters         BELVITA   \n",
       "6  B0045LLC7K                Appliances       Water Filters      Frigidaire   \n",
       "7  B01IAFNZGC  Tools & Home Improvement       Water Filters       EXCELPURE   \n",
       "8  B0BC65XJLJ               Amazon Home       Water Filters      KASTORE F1   \n",
       "9  B07S9DJ2S2               Amazon Home          Ice Makers  Amazon Renewed   \n",
       "\n",
       "                                                                                                                                                                                                      title  \\\n",
       "0  Disposable Paper Coffee Filters 600 count - Compatible with Keurig, K-Cup machines & other Single Serve Coffee Brewer Reusable K Cups - Use Your Own Coffee & Make Your Own Pods - Works with All Brands   \n",
       "1              iPartPlusMore Reusable Coffee Filters Compatible with 1.0 and 2.0 Keurig Single Cup Coffee Maker - BPA-Free Stainless Steel Refillable K Cup Coffee Filter with Fine Mesh Screen (Pack of 4)   \n",
       "2                                                                                                          12 Pack Keurig Filter Replacement by K&J - Compatible with Keurig Coffee Machine (2.0 and older)   \n",
       "3                                                                                                                                          Reusable coffee pods for Coffee Makers (4 PACK Black and Purple)   \n",
       "4                                                                                                                                                               Cuisinart Replacement Water Filters, 2-Pack   \n",
       "5                                          BELVITA ADQ747935 Water Filter Replacement,Compatible with LT1000P,LFXS26973S,LMXS28626S,LMXS30796S,LMXC23796S,Kenmore Elite 9980 ADQ74793501 MDJ64844601,3 Pack   \n",
       "6                                                                                                                       Frigidaire WF3CB Puresource3 Refrigerator Water Filter , White, 1 Count (Pack of 1)   \n",
       "7  EXCELPURE 5231JA2006A Replacement for LG LT600P,5231JA2006B, Kenmore 46-9990, 5231JA2006F,R-9990, 5231JA2006E, LFX25975ST, LFX25960ST, EFF-6003A, LFX23961ST, SGF-LB60, Refrigerator Water Filter, 3PACK   \n",
       "8                                                     W10295370A Water FiIter Cap Replacement, Compatible with EDR1RXD1 Refrigerator Water FiIter 1 46-9081, 46-9930 Water FiIter Cap Replacement 1, 3Packs   \n",
       "9                                                                                           Frigidaire Portable Compact Maker, Counter Top Ice Making Machine, 26lb per day (Blue) (EFIC108-BLUE) (Renewed)   \n",
       "\n",
       "   similarity  \n",
       "0    0.421959  \n",
       "1    0.406264  \n",
       "2    0.341106  \n",
       "3    0.338949  \n",
       "4    0.154537  \n",
       "5    0.118376  \n",
       "6    0.100118  \n",
       "7    0.079437  \n",
       "8    0.054844  \n",
       "9    0.052436  "
      ]
     },
     "execution_count": 195,
     "metadata": {},
     "output_type": "execute_result"
    }
   ],
   "source": [
    "# Show Similar Products\n",
    "df_recos"
   ]
  },
  {
   "cell_type": "markdown",
   "id": "64a14a33",
   "metadata": {},
   "source": [
    "#### Option B: Similar items using vectorized query"
   ]
  },
  {
   "cell_type": "markdown",
   "id": "b2050dae",
   "metadata": {},
   "source": [
    "- Transform the query using the same vocabulary from the previous fit step on the corpus.\n",
    "- Calculate the pairwise cosine similarities between each document in the corpus and the query.\n",
    "- Sort them in descending order by score"
   ]
  },
  {
   "cell_type": "code",
   "execution_count": 196,
   "id": "cab4cd10",
   "metadata": {},
   "outputs": [],
   "source": [
    "def get_query_tfidf(tfidf_vectorizer: TfidfVectorizer, query:str) -> np.ndarray:\n",
    "    \"\"\"\n",
    "    Get the TF-IDF vector for the query.\n",
    "    Args:\n",
    "        data_df (pd.DataFrame): DataFrame containing product data.\n",
    "        query (str): Query string to search for.\n",
    "        col (str): Column name to search in.\n",
    "    Returns:\n",
    "        np.ndarray: TF-IDF vector for the query.\n",
    "    \"\"\"\n",
    "    \n",
    "    formatted_query = preprocess_text(query) \n",
    "    formatted_query = tokenizer(formatted_query)\n",
    "    formatted_query = lemmatizer(formatted_query)\n",
    "    query_vector = tfidf_vectorizer.transform([formatted_query])\n",
    "    \n",
    "    return query_vector"
   ]
  },
  {
   "cell_type": "code",
   "execution_count": 197,
   "id": "1db31edb",
   "metadata": {},
   "outputs": [],
   "source": [
    "def top_k(arr_cosim, k=1):\n",
    "    \"\"\"\n",
    "    Get the indices of the top k elements in an array.\n",
    "    Args:\n",
    "        arr (np.ndarray): Input array.\n",
    "        k (int): Number of top elements to retrieve. Defaults to 1.\n",
    "    Returns:\n",
    "        list: List of indices of the top k elements.\n",
    "    \"\"\"\n",
    "    kth_largest = (k+1) * -1\n",
    "    return np.argsort(arr_cosim)[:kth_largest:-1]"
   ]
  },
  {
   "cell_type": "markdown",
   "id": "45e4603f",
   "metadata": {},
   "source": [
    "<div class=\"alert alert-block alert-warning\">\n",
    "[Input block] Input search query text, keywords, or description of the product you want to search for.\n",
    "</div>"
   ]
  },
  {
   "cell_type": "code",
   "execution_count": 198,
   "id": "48b228f9",
   "metadata": {},
   "outputs": [],
   "source": [
    "query = 'K-Cup Reusable Coffee Filter'\n",
    "# query = 'Keurig My K-Cup Reusable Coffee Filter - Old Model'"
   ]
  },
  {
   "cell_type": "markdown",
   "id": "a531d058",
   "metadata": {},
   "source": [
    "##### Process query"
   ]
  },
  {
   "cell_type": "code",
   "execution_count": 199,
   "id": "03007233",
   "metadata": {},
   "outputs": [],
   "source": [
    "# Get the tfidf vector for the query\n",
    "query_tfidf = get_query_tfidf(vectorizer, query)"
   ]
  },
  {
   "cell_type": "markdown",
   "id": "31918343",
   "metadata": {},
   "source": [
    "##### Calculate Similarity"
   ]
  },
  {
   "cell_type": "code",
   "execution_count": 200,
   "id": "748bf22b",
   "metadata": {},
   "outputs": [],
   "source": [
    "# Compute cosine similarity between the query and feature vectors\n",
    "cosine_similarities = cosine_similarity(query_tfidf, feature_vectors).flatten()"
   ]
  },
  {
   "cell_type": "markdown",
   "id": "7ff9a814",
   "metadata": {},
   "source": [
    "##### Get Top K similar to query"
   ]
  },
  {
   "cell_type": "code",
   "execution_count": 201,
   "id": "e4409b73",
   "metadata": {},
   "outputs": [],
   "source": [
    "# Get top k indices\n",
    "top_indices = top_k(cosine_similarities, k)\n",
    "\n",
    "# get the distances for the top k indices\n",
    "top_distances = cosine_similarities[top_indices]"
   ]
  },
  {
   "cell_type": "code",
   "execution_count": 202,
   "id": "1d8a8a1d",
   "metadata": {},
   "outputs": [],
   "source": [
    "# Create a DataFrame for the top k recommendations\n",
    "df_top_recos = pd.DataFrame({\n",
    "    'parent_asin': df_meta['parent_asin'].iloc[top_indices],\n",
    "    'main_category': df_meta['main_category'].iloc[top_indices],\n",
    "    'subcategory': df_meta['subcategory'].iloc[top_indices],\n",
    "    'maker': df_meta['maker'].iloc[top_indices],\n",
    "    'title': df_meta['title'].iloc[top_indices],\n",
    "    'distance': top_distances\n",
    "})"
   ]
  },
  {
   "cell_type": "code",
   "execution_count": 203,
   "id": "002a29af",
   "metadata": {},
   "outputs": [
    {
     "data": {
      "text/html": [
       "<div>\n",
       "<style scoped>\n",
       "    .dataframe tbody tr th:only-of-type {\n",
       "        vertical-align: middle;\n",
       "    }\n",
       "\n",
       "    .dataframe tbody tr th {\n",
       "        vertical-align: top;\n",
       "    }\n",
       "\n",
       "    .dataframe thead th {\n",
       "        text-align: right;\n",
       "    }\n",
       "</style>\n",
       "<table border=\"1\" class=\"dataframe\">\n",
       "  <thead>\n",
       "    <tr style=\"text-align: right;\">\n",
       "      <th></th>\n",
       "      <th>parent_asin</th>\n",
       "      <th>main_category</th>\n",
       "      <th>subcategory</th>\n",
       "      <th>maker</th>\n",
       "      <th>title</th>\n",
       "      <th>distance</th>\n",
       "    </tr>\n",
       "  </thead>\n",
       "  <tbody>\n",
       "    <tr>\n",
       "      <th>7</th>\n",
       "      <td>B000DLB2FI</td>\n",
       "      <td>Amazon Home</td>\n",
       "      <td>Reusable Filters</td>\n",
       "      <td>Keurig Kitchenware</td>\n",
       "      <td>Keurig My K-Cup Reusable Coffee Filter - Old Model</td>\n",
       "      <td>0.612465</td>\n",
       "    </tr>\n",
       "    <tr>\n",
       "      <th>3</th>\n",
       "      <td>B07P3Y8JWY</td>\n",
       "      <td>Amazon Home</td>\n",
       "      <td>Reusable Filters</td>\n",
       "      <td>Simple Cups</td>\n",
       "      <td>Disposable Paper Coffee Filters 600 count - Compatible with Keurig, K-Cup machines &amp; other Single Serve Coffee Brewer Reusable K Cups - Use Your Own Coffee &amp; Make Your Own Pods - Works with All Brands</td>\n",
       "      <td>0.517858</td>\n",
       "    </tr>\n",
       "    <tr>\n",
       "      <th>2</th>\n",
       "      <td>B092LLM7H3</td>\n",
       "      <td>Grocery</td>\n",
       "      <td>Reusable Filters</td>\n",
       "      <td>Delibru</td>\n",
       "      <td>Reusable coffee pods for Coffee Makers (4 PACK Black and Purple)</td>\n",
       "      <td>0.481473</td>\n",
       "    </tr>\n",
       "    <tr>\n",
       "      <th>4</th>\n",
       "      <td>B07RNJY499</td>\n",
       "      <td>Amazon Home</td>\n",
       "      <td>Reusable Filters</td>\n",
       "      <td>iPartsPlusMore</td>\n",
       "      <td>iPartPlusMore Reusable Coffee Filters Compatible with 1.0 and 2.0 Keurig Single Cup Coffee Maker - BPA-Free Stainless Steel Refillable K Cup Coffee Filter with Fine Mesh Screen (Pack of 4)</td>\n",
       "      <td>0.445801</td>\n",
       "    </tr>\n",
       "    <tr>\n",
       "      <th>1</th>\n",
       "      <td>B0B3DB5HTC</td>\n",
       "      <td>Amazon Home</td>\n",
       "      <td>Disposable Filters</td>\n",
       "      <td>K&amp;J</td>\n",
       "      <td>12 Pack Keurig Filter Replacement by K&amp;J - Compatible with Keurig Coffee Machine (2.0 and older)</td>\n",
       "      <td>0.179620</td>\n",
       "    </tr>\n",
       "    <tr>\n",
       "      <th>0</th>\n",
       "      <td>B0BHNSLKNZ</td>\n",
       "      <td>Amazon Home</td>\n",
       "      <td>Permanent Filters</td>\n",
       "      <td>Cuisinart</td>\n",
       "      <td>Cuisinart Replacement Water Filters, 2-Pack</td>\n",
       "      <td>0.122654</td>\n",
       "    </tr>\n",
       "    <tr>\n",
       "      <th>8</th>\n",
       "      <td>B0045LLC7K</td>\n",
       "      <td>Appliances</td>\n",
       "      <td>Water Filters</td>\n",
       "      <td>Frigidaire</td>\n",
       "      <td>Frigidaire WF3CB Puresource3 Refrigerator Water Filter , White, 1 Count (Pack of 1)</td>\n",
       "      <td>0.114820</td>\n",
       "    </tr>\n",
       "    <tr>\n",
       "      <th>14</th>\n",
       "      <td>B09YRPT4Q2</td>\n",
       "      <td>Amazon Home</td>\n",
       "      <td>Water Filters</td>\n",
       "      <td>BELVITA</td>\n",
       "      <td>BELVITA ADQ747935 Water Filter Replacement,Compatible with LT1000P,LFXS26973S,LMXS28626S,LMXS30796S,LMXC23796S,Kenmore Elite 9980 ADQ74793501 MDJ64844601,3 Pack</td>\n",
       "      <td>0.093953</td>\n",
       "    </tr>\n",
       "    <tr>\n",
       "      <th>6</th>\n",
       "      <td>B01IAFNZGC</td>\n",
       "      <td>Tools &amp; Home Improvement</td>\n",
       "      <td>Water Filters</td>\n",
       "      <td>EXCELPURE</td>\n",
       "      <td>EXCELPURE 5231JA2006A Replacement for LG LT600P,5231JA2006B, Kenmore 46-9990, 5231JA2006F,R-9990, 5231JA2006E, LFX25975ST, LFX25960ST, EFF-6003A, LFX23961ST, SGF-LB60, Refrigerator Water Filter, 3PACK</td>\n",
       "      <td>0.079495</td>\n",
       "    </tr>\n",
       "    <tr>\n",
       "      <th>28</th>\n",
       "      <td>B0BD2MT2FN</td>\n",
       "      <td>Amazon Home</td>\n",
       "      <td>Milk Frothing Pitchers</td>\n",
       "      <td>CACAKEE</td>\n",
       "      <td>CACAKEE Milk Frothing Pitcher, 12 OZ/350ML Stainless Steel Espresso Steaming Pitchers, Coffee Milk Frother Jug for Espresso Machines Cappuccino Latte Art, Pour Cup</td>\n",
       "      <td>0.046603</td>\n",
       "    </tr>\n",
       "  </tbody>\n",
       "</table>\n",
       "</div>"
      ],
      "text/plain": [
       "   parent_asin             main_category             subcategory  \\\n",
       "7   B000DLB2FI               Amazon Home        Reusable Filters   \n",
       "3   B07P3Y8JWY               Amazon Home        Reusable Filters   \n",
       "2   B092LLM7H3                   Grocery        Reusable Filters   \n",
       "4   B07RNJY499               Amazon Home        Reusable Filters   \n",
       "1   B0B3DB5HTC               Amazon Home      Disposable Filters   \n",
       "0   B0BHNSLKNZ               Amazon Home       Permanent Filters   \n",
       "8   B0045LLC7K                Appliances           Water Filters   \n",
       "14  B09YRPT4Q2               Amazon Home           Water Filters   \n",
       "6   B01IAFNZGC  Tools & Home Improvement           Water Filters   \n",
       "28  B0BD2MT2FN               Amazon Home  Milk Frothing Pitchers   \n",
       "\n",
       "                 maker  \\\n",
       "7   Keurig Kitchenware   \n",
       "3          Simple Cups   \n",
       "2              Delibru   \n",
       "4       iPartsPlusMore   \n",
       "1                  K&J   \n",
       "0            Cuisinart   \n",
       "8           Frigidaire   \n",
       "14             BELVITA   \n",
       "6            EXCELPURE   \n",
       "28             CACAKEE   \n",
       "\n",
       "                                                                                                                                                                                                       title  \\\n",
       "7                                                                                                                                                         Keurig My K-Cup Reusable Coffee Filter - Old Model   \n",
       "3   Disposable Paper Coffee Filters 600 count - Compatible with Keurig, K-Cup machines & other Single Serve Coffee Brewer Reusable K Cups - Use Your Own Coffee & Make Your Own Pods - Works with All Brands   \n",
       "2                                                                                                                                           Reusable coffee pods for Coffee Makers (4 PACK Black and Purple)   \n",
       "4               iPartPlusMore Reusable Coffee Filters Compatible with 1.0 and 2.0 Keurig Single Cup Coffee Maker - BPA-Free Stainless Steel Refillable K Cup Coffee Filter with Fine Mesh Screen (Pack of 4)   \n",
       "1                                                                                                           12 Pack Keurig Filter Replacement by K&J - Compatible with Keurig Coffee Machine (2.0 and older)   \n",
       "0                                                                                                                                                                Cuisinart Replacement Water Filters, 2-Pack   \n",
       "8                                                                                                                        Frigidaire WF3CB Puresource3 Refrigerator Water Filter , White, 1 Count (Pack of 1)   \n",
       "14                                          BELVITA ADQ747935 Water Filter Replacement,Compatible with LT1000P,LFXS26973S,LMXS28626S,LMXS30796S,LMXC23796S,Kenmore Elite 9980 ADQ74793501 MDJ64844601,3 Pack   \n",
       "6   EXCELPURE 5231JA2006A Replacement for LG LT600P,5231JA2006B, Kenmore 46-9990, 5231JA2006F,R-9990, 5231JA2006E, LFX25975ST, LFX25960ST, EFF-6003A, LFX23961ST, SGF-LB60, Refrigerator Water Filter, 3PACK   \n",
       "28                                       CACAKEE Milk Frothing Pitcher, 12 OZ/350ML Stainless Steel Espresso Steaming Pitchers, Coffee Milk Frother Jug for Espresso Machines Cappuccino Latte Art, Pour Cup   \n",
       "\n",
       "    distance  \n",
       "7   0.612465  \n",
       "3   0.517858  \n",
       "2   0.481473  \n",
       "4   0.445801  \n",
       "1   0.179620  \n",
       "0   0.122654  \n",
       "8   0.114820  \n",
       "14  0.093953  \n",
       "6   0.079495  \n",
       "28  0.046603  "
      ]
     },
     "execution_count": 203,
     "metadata": {},
     "output_type": "execute_result"
    }
   ],
   "source": [
    "# Display the top k similar products\n",
    "df_top_recos"
   ]
  },
  {
   "cell_type": "markdown",
   "id": "a51445de",
   "metadata": {},
   "source": [
    "### Item-Based Collaborative Filtering"
   ]
  },
  {
   "cell_type": "markdown",
   "id": "557bcdc6",
   "metadata": {},
   "source": [
    "<div class=\"alert alert-block alert-warning\">\n",
    "[Decision Block] Align with business on what threshold to set: \n",
    "\n",
    "- Minimum no. of ratings that a product should have\n",
    "- Minimum no. of ratings that a user has provided\n",
    "\n",
    "--- Refer to EDA Distribution of ratings. \n",
    "</div>\n"
   ]
  },
  {
   "cell_type": "code",
   "execution_count": 204,
   "id": "c450df78",
   "metadata": {},
   "outputs": [],
   "source": [
    "# Set num of ratings threshold for products\n",
    "n_min_prod = 5\n",
    "\n",
    "# Set num of ratings threshold for users\n",
    "n_min_user = 2"
   ]
  },
  {
   "cell_type": "markdown",
   "id": "a48a34c3",
   "metadata": {},
   "source": [
    "## MODELING"
   ]
  },
  {
   "cell_type": "code",
   "execution_count": 205,
   "id": "07d5dcbf",
   "metadata": {},
   "outputs": [],
   "source": [
    "\n",
    "from collections import defaultdict\n",
    "from sklearn.neighbors import NearestNeighbors\n",
    "from sklearn.decomposition import TruncatedSVD\n",
    "from sklearn.metrics import mean_absolute_error, root_mean_squared_error"
   ]
  },
  {
   "cell_type": "markdown",
   "id": "fa19bdb8",
   "metadata": {},
   "source": [
    "<div class=\"alert alert-block alert-warning\">\n",
    "[Input Block] Select Product ID (ASIN) and specify the Top k no. of similar products\n",
    "</div>"
   ]
  },
  {
   "cell_type": "code",
   "execution_count": 206,
   "id": "13533c02",
   "metadata": {},
   "outputs": [],
   "source": [
    "item_id = 'B000DLB2FI'  # Example item\n",
    "k =10 # Number of recommendations"
   ]
  },
  {
   "cell_type": "markdown",
   "id": "b7eeeff6",
   "metadata": {},
   "source": [
    "#### Collaborative Filtering Class Definition"
   ]
  },
  {
   "cell_type": "code",
   "execution_count": null,
   "id": "7fcf38ae",
   "metadata": {},
   "outputs": [],
   "source": [
    "class CollaborativeFiltering:\n",
    "    \"\"\"\n",
    "    Collaborative Filtering class supporting both user-based and item-based recommendations.\n",
    "    \"\"\"\n",
    "    def __init__(self, df, mode='item', top_k=10, rel_threshold=4, random_seed=33):\n",
    "        \"\"\"\n",
    "        Args:\n",
    "            df (pd.DataFrame): Ratings DataFrame.\n",
    "            mode (str): 'item' for item-based, 'user' for user-based.\n",
    "            top_k (int): Number of recommendations.\n",
    "            rel_threshold (int): Threshold for relevant ratings.\n",
    "            random_seed (int): Random seed for reproducibility.\n",
    "        \"\"\"\n",
    "        self.df = df\n",
    "        self.mode = mode  # 'item' or 'user'\n",
    "\n",
    "        self.n_user_ratings = None\n",
    "        self.n_prod_ratings = None\n",
    "        self.top_k = top_k\n",
    "        self.rel_threshold = rel_threshold\n",
    "        self.random_seed = random_seed\n",
    "        self.knn = None\n",
    "        self.matrix = None\n",
    "        self.secondary_matrix = None\n",
    "        self.train_df = None\n",
    "        self.test_df = None\n",
    "        self.test_relevant = None\n",
    "\n",
    "        # Matrix factorization objects\n",
    "        self.svd = None\n",
    "        self.transformed_matrix = None\n",
    "        self.svd_user_index = None\n",
    "        self.svd_item_index = None\n",
    "\n",
    "\n",
    "    def reduce_noise(self, n_user_ratings=2, n_prod_ratings=5):\n",
    "        \"\"\"\n",
    "        Specify the minimum number of ratings for users and products.\n",
    "        Args:\n",
    "            n_user_ratings (int): Minimum number of ratings per user.\n",
    "            n_prod_ratings (int): Minimum number of ratings per product.\n",
    "        \"\"\"\n",
    "        self.n_user_ratings = n_user_ratings\n",
    "        self.n_prod_ratings = n_prod_ratings\n",
    "\n",
    "        self.filter_data()\n",
    "       \n",
    "\n",
    "    def filter_data(self):\n",
    "        if self.n_user_ratings is not None:\n",
    "            user_counts = self.df['user_id'].value_counts()\n",
    "            valid_users = user_counts[user_counts >= self.n_user_ratings].index       \n",
    "        if self.n_prod_ratings is not None:\n",
    "            prod_counts = self.df['asin'].value_counts()\n",
    "            valid_prods = prod_counts[prod_counts >= self.n_prod_ratings].index\n",
    "         \n",
    "        self.df = self.df[self.df['user_id'].isin(valid_users) & self.df['asin'].isin(valid_prods)]\n",
    "\n",
    "    def leave_one_out_split(self):\n",
    "        df = self.df.sample(frac=1, random_state=self.random_seed).reset_index(drop=True)\n",
    "        train_rows = []\n",
    "        test_rows = []\n",
    "        grouped = df.groupby('user_id')\n",
    "        for user, group in grouped:\n",
    "            if len(group) < 2:\n",
    "                train_rows.append(group.index)\n",
    "                continue\n",
    "            test_idx = group.sample(n=1, random_state=self.random_seed).index\n",
    "            train_idx = group.index.difference(test_idx)\n",
    "            test_rows.append(test_idx)\n",
    "            train_rows.append(train_idx)\n",
    "        train_indices = pd.Index(np.concatenate(train_rows))\n",
    "        test_indices = pd.Index(np.concatenate(test_rows))\n",
    "        self.train_df = df.loc[train_indices].reset_index(drop=True)\n",
    "        self.test_df = df.loc[test_indices].reset_index(drop=True)\n",
    "        return self.train_df, self.test_df\n",
    "\n",
    "    def train_knn(self):\n",
    "        if self.mode == 'item':\n",
    "            # Item-based: items as rows, users as columns\n",
    "            self.matrix = self.train_df.pivot(index='user_id', columns='asin', values='rating').fillna(0).T\n",
    "            self.secondary_matrix = self.matrix.T  # user-item for scoring\n",
    "        else:\n",
    "            # User-based: users as rows, items as columns\n",
    "            self.matrix = self.train_df.pivot(index='user_id', columns='asin', values='rating').fillna(0)\n",
    "            self.secondary_matrix = self.matrix.T  # item-user for scoring\n",
    "        self.knn = NearestNeighbors(metric='cosine', algorithm='brute', n_neighbors=20)\n",
    "        self.knn.fit(self.matrix)\n",
    "\n",
    "    def get_neighbors(self, idx, n_neighbors=10):\n",
    "        if idx not in self.matrix.index:\n",
    "            return []\n",
    "        vec = self.matrix.loc[idx].values.reshape(1, -1)\n",
    "        distances, indices = self.knn.kneighbors(vec, n_neighbors=n_neighbors+1)\n",
    "        neighbors = self.matrix.index[indices.flatten()[1:]]\n",
    "        return neighbors.tolist()\n",
    "\n",
    "    def recommend_items_for_user(self, user_id):\n",
    "        \n",
    "        if self.mode == 'item':\n",
    "            # Item-based: aggregate similar items to those user has rated\n",
    "            if user_id not in self.secondary_matrix.index:\n",
    "                return []\n",
    "            user_ratings = self.secondary_matrix.loc[user_id]\n",
    "            rated_items = user_ratings[user_ratings > 0].index.tolist()\n",
    "            scores = defaultdict(float)\n",
    "            for item in rated_items:\n",
    "                neighbors = self.get_neighbors(item, n_neighbors=self.top_k)\n",
    "                for neighbor in neighbors:\n",
    "                    if neighbor not in rated_items:\n",
    "                        scores[neighbor] += user_ratings[item]\n",
    "            recommended = sorted(scores.items(), key=lambda x: x[1], reverse=True)[:self.top_k]\n",
    "            return [item for item, _ in recommended]\n",
    "        else:\n",
    "            # User-based: aggregate items from similar users\n",
    "            if user_id not in self.matrix.index:\n",
    "                return []\n",
    "            neighbors = self.get_neighbors(user_id, n_neighbors=self.top_k)\n",
    "            neighbor_ratings = self.matrix.loc[neighbors]\n",
    "\n",
    "            mean_ratings = neighbor_ratings.mean(axis=0)\n",
    "            user_rated = set(self.matrix.loc[user_id][self.matrix.loc[user_id] > 0].index)\n",
    "            recommendations = mean_ratings.drop(user_rated).sort_values(ascending=False).head(self.top_k)\n",
    "            # return list(recommendations.index)\n",
    "            return recommendations\n",
    "\n",
    "    @staticmethod\n",
    "    def hit_rate(recommended, relevant):\n",
    "        return int(any(item in relevant for item in recommended))\n",
    "\n",
    "    @staticmethod\n",
    "    def precision_at_k(recommended, relevant, k):\n",
    "        recommended_k = recommended[:k]\n",
    "        hits = sum(1 for item in recommended_k if item in relevant)\n",
    "        return hits / k\n",
    "\n",
    "    @staticmethod\n",
    "    def recall_at_k(recommended, relevant, k):\n",
    "        if not relevant:\n",
    "            return 0\n",
    "        hits = sum(1 for item in recommended[:k] if item in relevant)\n",
    "        return hits / len(relevant)\n",
    "\n",
    "    @staticmethod\n",
    "    def average_precision(recommended, relevant):\n",
    "        if not relevant:\n",
    "            return 0\n",
    "        hits, sum_precisions = 0, 0\n",
    "        for i, item in enumerate(recommended, start=1):\n",
    "            if item in relevant:\n",
    "                hits += 1\n",
    "                sum_precisions += hits / i\n",
    "        return sum_precisions / hits if hits > 0 else 0\n",
    "\n",
    "    @staticmethod\n",
    "    def dcg_at_k(recommended, relevant, k):\n",
    "        dcg = 0\n",
    "        for i in range(k):\n",
    "            if i >= len(recommended): break\n",
    "            if recommended[i] in relevant:\n",
    "                dcg += 1 / np.log2(i + 2)\n",
    "        return dcg\n",
    "\n",
    "    @staticmethod\n",
    "    def ndcg_at_k(recommended, relevant, k):\n",
    "        dcg = CollaborativeFiltering.dcg_at_k(recommended, relevant, k)\n",
    "        ideal_dcg = sum(1 / np.log2(i + 2) for i in range(min(len(relevant), k)))\n",
    "        return dcg / ideal_dcg if ideal_dcg > 0 else 0\n",
    "\n",
    "    def build_test_relevant(self):\n",
    "        self.test_relevant = self.test_df[self.test_df['rating'] >= self.rel_threshold].groupby('user_id')['asin'].apply(list).to_dict()\n",
    "\n",
    "    def evaluate_ranking(self):\n",
    "        self.leave_one_out_split()\n",
    "        self.train_knn()\n",
    "        self.build_test_relevant()\n",
    "        users = list(self.test_relevant.keys())\n",
    "        metrics = {'hit': [], 'precision': [], 'recall': [], 'map': [], 'ndcg': []}\n",
    "        for user in users:\n",
    "            relevant = self.test_relevant[user]\n",
    "            recommended = self.recommend_items_for_user(user).index.tolist() if self.mode == 'user' else self.recommend_items_for_user(user)\n",
    "            metrics['hit'].append(self.hit_rate(recommended, relevant))\n",
    "            metrics['precision'].append(self.precision_at_k(recommended, relevant, self.top_k))\n",
    "            metrics['recall'].append(self.recall_at_k(recommended, relevant, self.top_k))\n",
    "            metrics['map'].append(self.average_precision(recommended, relevant))\n",
    "            metrics['ndcg'].append(self.ndcg_at_k(recommended, relevant, self.top_k))\n",
    "        print(f\"Top-{self.top_k} Evaluation Metrics ({self.mode.title()}CF, Leave-One-Out):\")\n",
    "        print(f\"Hit Rate:         {np.mean(metrics['hit']):.4f}\")\n",
    "        print(f\"Precision@{self.top_k}: {np.mean(metrics['precision']):.4f}\")\n",
    "        print(f\"Recall@{self.top_k}:    {np.mean(metrics['recall']):.4f}\")\n",
    "        print(f\"MAP:              {np.mean(metrics['map']):.4f}\")\n",
    "        print(f\"NDCG@{self.top_k}:      {np.mean(metrics['ndcg']):.4f}\")\n",
    "\n",
    "    \n",
    "    def recommend_topk(self, idx, n_neighbors=10):\n",
    "        self.leave_one_out_split()\n",
    "        self.train_knn()\n",
    "        if idx not in self.matrix.index:\n",
    "            return []\n",
    "        vec = self.matrix.loc[idx].values.reshape(1, -1)\n",
    "        distances, indices = self.knn.kneighbors(vec, n_neighbors=n_neighbors+1)\n",
    "        # Exclude the first item (itself) and return the top k recommendations\n",
    "        return sorted(list(zip(indices.flatten(), distances.flatten())), key=lambda x: x[1])[:k+1]\n",
    "    \n",
    "\n",
    "    # def matrix_factorization(self, df=None, n_components=None):\n",
    "    #     \"\"\"\n",
    "    #     Perform matrix factorization using Truncated SVD.\n",
    "    #     Args:\n",
    "    #         df (pd.DataFrame): Ratings DataFrame. If None, uses self.train_df.\n",
    "    #         n_components (int): Number of components for SVD. If None, uses self.n_components.\n",
    "    #     Returns:\n",
    "    #         np.ndarray: Transformed matrix after SVD.\n",
    "    #     \"\"\"\n",
    "    #     if df is None:\n",
    "    #         df = self.train_df\n",
    "    #     if n_components is None:\n",
    "    #         n_components = self.n_components\n",
    "    #     matrix = df.pivot(index='user_id', columns='asin', values='rating').fillna(0)\n",
    "    #     self.svd = TruncatedSVD(n_components=n_components, random_state=self.random_seed)\n",
    "    #     self.transformed_matrix = self.svd.fit_transform(matrix)\n",
    "    #     self.svd_user_index = matrix.index\n",
    "    #     return self.transformed_matrix\n",
    "\n",
    "    def get_user_factors(self, user_id):\n",
    "        \"\"\"\n",
    "        Get the latent factors for a user after matrix factorization.\n",
    "        Args:\n",
    "            user_id (str): User ID.\n",
    "        Returns:\n",
    "            np.ndarray or None: Latent factors for the user.\n",
    "        \"\"\"\n",
    "        if self.transformed_matrix is None or self.svd_user_index is None:\n",
    "            return None\n",
    "        if user_id not in self.svd_user_index:\n",
    "            return None\n",
    "        idx = list(self.svd_user_index).index(user_id)\n",
    "        return self.transformed_matrix[idx]\n",
    "    \n",
    "    def matrix_factorization(self, df=None, n_components=None):\n",
    "        \"\"\"\n",
    "        Perform matrix factorization using Truncated SVD.\n",
    "        Args:\n",
    "            df (pd.DataFrame): Ratings DataFrame. If None, uses self.train_df.\n",
    "            n_components (int): Number of components for SVD. If None, uses self.n_components.\n",
    "        Returns:\n",
    "            np.ndarray: Transformed matrix after SVD.\n",
    "        \"\"\"\n",
    "        if df is None:\n",
    "            df = self.train_df\n",
    "        if n_components is None:\n",
    "            n_components = self.n_components\n",
    "        matrix = df.pivot(index='user_id', columns='asin', values='rating').fillna(0)\n",
    "        self.svd = TruncatedSVD(n_components=n_components, random_state=self.random_seed)\n",
    "        self.transformed_matrix = self.svd.fit_transform(matrix)\n",
    "        self.svd_user_index = matrix.index\n",
    "        self.svd_item_index = matrix.columns\n",
    "        return self.transformed_matrix\n",
    "\n",
    "    def recommend_svd(self, user_id, top_k=None):\n",
    "        \"\"\"\n",
    "        Recommend items for a user using matrix factorization (SVD).\n",
    "        Args:\n",
    "            user_id (str): User ID.\n",
    "            top_k (int): Number of recommendations. If None, uses self.top_k.\n",
    "        Returns:\n",
    "            list: List of recommended item IDs.\n",
    "        \"\"\"\n",
    "        if self.transformed_matrix is None or self.svd_user_index is None:\n",
    "            raise ValueError(\"Run matrix_factorization() first.\")\n",
    "        if user_id not in self.svd_user_index:\n",
    "            return []\n",
    "        if top_k is None:\n",
    "            top_k = self.top_k\n",
    "\n",
    "        user_idx = list(self.svd_user_index).index(user_id)\n",
    "        user_factors = self.transformed_matrix[user_idx]\n",
    "        item_factors = self.svd.components_.T  # shape: (n_items, n_components)\n",
    "        scores = np.dot(item_factors, user_factors)\n",
    "        \n",
    "        # Remove items already rated by the user\n",
    "        user_rated = set(self.train_df[self.train_df['user_id'] == user_id]['asin'])\n",
    "        item_ids = np.array(self.svd_item_index)\n",
    "        mask = np.isin(item_ids, list(user_rated), invert=True)\n",
    "        filtered_scores = scores[mask]\n",
    "        filtered_items = item_ids[mask]\n",
    "        top_indices = np.argsort(filtered_scores)[::-1][:top_k]\n",
    "        return filtered_items[top_indices].tolist()\n",
    "\n",
    "    def evaluate_svd(self):\n",
    "        \"\"\"\n",
    "        Evaluate matrix factorization recommendations using standard metrics.\n",
    "        \"\"\"\n",
    "        self.leave_one_out_split()\n",
    "        self.matrix_factorization()\n",
    "        self.build_test_relevant()\n",
    "        users = list(self.test_relevant.keys())\n",
    "        metrics = {'hit': [], 'precision': [], 'recall': [], 'map': [], 'ndcg': []}\n",
    "        for user in users:\n",
    "            relevant = self.test_relevant[user]\n",
    "            recommended = self.recommend_svd(user, top_k=self.top_k)\n",
    "            metrics['hit'].append(self.hit_rate(recommended, relevant))\n",
    "            metrics['precision'].append(self.precision_at_k(recommended, relevant, self.top_k))\n",
    "            metrics['recall'].append(self.recall_at_k(recommended, relevant, self.top_k))\n",
    "            metrics['map'].append(self.average_precision(recommended, relevant))\n",
    "            metrics['ndcg'].append(self.ndcg_at_k(recommended, relevant, self.top_k))\n",
    "        print(f\"Top-{self.top_k} Evaluation Metrics (Matrix Factorization, Leave-One-Out):\")\n",
    "        print(f\"Hit Rate:         {np.mean(metrics['hit']):.4f}\")\n",
    "        print(f\"Precision@{self.top_k}: {np.mean(metrics['precision']):.4f}\")\n",
    "        print(f\"Recall@{self.top_k}:    {np.mean(metrics['recall']):.4f}\")\n",
    "        print(f\"MAP:              {np.mean(metrics['map']):.4f}\")\n",
    "        print(f\"NDCG@{self.top_k}:      {np.mean(metrics['ndcg']):.4f}\")\n",
    "\n",
    "    def predict_rating_svd(self, user_id, item_id):\n",
    "        \"\"\"\n",
    "        Predict the rating for a given user and item using matrix factorization.\n",
    "        \"\"\"\n",
    "        if self.transformed_matrix is None or self.svd is None:\n",
    "            raise ValueError(\"Run matrix_factorization() first.\")\n",
    "        if user_id not in self.svd_user_index or item_id not in self.svd_item_index:\n",
    "            return np.nan\n",
    "        user_idx = list(self.svd_user_index).index(user_id)\n",
    "        item_idx = list(self.svd_item_index).index(item_id)\n",
    "        user_factors = self.transformed_matrix[user_idx]\n",
    "        item_factors = self.svd.components_[:, item_idx]\n",
    "        return np.dot(user_factors, item_factors)\n",
    "\n",
    "    def evaluate_svd_regression(self):\n",
    "        \"\"\"\n",
    "        Evaluate SVD predictions using MAE and RMSE on the test set.\n",
    "        \"\"\"\n",
    "        self.leave_one_out_split()\n",
    "        self.matrix_factorization()\n",
    "        y_true = []\n",
    "        y_pred = []\n",
    "        for _, row in self.test_df.iterrows():\n",
    "            user_id = row['user_id']\n",
    "            item_id = row['asin']\n",
    "            true_rating = row['rating']\n",
    "            pred_rating = self.predict_rating_svd(user_id, item_id)\n",
    "            if not np.isnan(pred_rating):\n",
    "                y_true.append(true_rating)\n",
    "                y_pred.append(pred_rating)\n",
    "        mae = mean_absolute_error(y_true, y_pred)\n",
    "        rmse = root_mean_squared_error(y_true, y_pred, squared=False)\n",
    "        print(f\"Matrix Factorization Regression Metrics:\")\n",
    "        print(f\"MAE:  {mae:.4f}\")\n",
    "        print(f\"RMSE: {rmse:.4f}\")\n",
    "\n",
    "# Example usage"
   ]
  },
  {
   "cell_type": "markdown",
   "id": "91a8d035",
   "metadata": {},
   "source": [
    "#### Implement Item-Based Collaborative Filtering"
   ]
  },
  {
   "cell_type": "code",
   "execution_count": 208,
   "id": "044c3f6a",
   "metadata": {},
   "outputs": [],
   "source": [
    "# Initialize the Collaborative Filtering model\n",
    "ibcf = CollaborativeFiltering(df, mode='item', top_k=k, rel_threshold=4, random_seed=random_seed)\n",
    "\n",
    "if n_min_prod > 0 and n_min_user > 0:\n",
    "    # Reduce noise by specifying minimum ratings per product and by user\n",
    "    ibcf.reduce_noise(n_user_ratings=n_min_user, n_prod_ratings=n_min_prod)\n",
    "\n",
    "    # # Filter data based on minimum ratings\n",
    "    # ibcf.filter_data()"
   ]
  },
  {
   "cell_type": "code",
   "execution_count": 209,
   "id": "7d17a928",
   "metadata": {},
   "outputs": [],
   "source": [
    "# Extract training data for the lookup down the line\n",
    "train_df, test_df = ibcf.leave_one_out_split()"
   ]
  },
  {
   "cell_type": "code",
   "execution_count": 210,
   "id": "c613888a",
   "metadata": {},
   "outputs": [
    {
     "data": {
      "text/plain": [
       "((184, 11), (176, 11))"
      ]
     },
     "execution_count": 210,
     "metadata": {},
     "output_type": "execute_result"
    }
   ],
   "source": [
    "# Verify\n",
    "train_df.shape, test_df.shape"
   ]
  },
  {
   "cell_type": "code",
   "execution_count": 211,
   "id": "d79b8346",
   "metadata": {},
   "outputs": [],
   "source": [
    "# Check if item_id is in the trainig data\n",
    "if item_id not in train_df['asin'].values:\n",
    "    print(f\"Item {item_id} not found in training data.\")"
   ]
  },
  {
   "cell_type": "code",
   "execution_count": 212,
   "id": "bb170123",
   "metadata": {},
   "outputs": [],
   "source": [
    "# Get Top K recommendations for the item_id  \n",
    "topk_prods = ibcf.recommend_topk(item_id, n_neighbors=k)\n",
    "\n",
    "similar_recos = []\n",
    "for idx, dist in topk_prods:\n",
    "    similar_recos.append({\n",
    "        'asin': train_df['asin'].iloc[idx],\n",
    "        'parent_asin': train_df['parent_asin'].iloc[idx],\n",
    "        'main_category': train_df['main_category'].iloc[idx],\n",
    "        'subcategory': train_df['subcategory'].iloc[idx],\n",
    "        # 'maker': train_df['maker'].iloc[idx],\n",
    "        'title': train_df['title'].iloc[idx],\n",
    "        'distance': dist\n",
    "    })\n",
    "\n",
    "# Convert to DataFrame\n",
    "df_similar_recos = pd.DataFrame(similar_recos)"
   ]
  },
  {
   "cell_type": "code",
   "execution_count": 213,
   "id": "f80d8ab0",
   "metadata": {},
   "outputs": [
    {
     "data": {
      "text/html": [
       "<div>\n",
       "<style scoped>\n",
       "    .dataframe tbody tr th:only-of-type {\n",
       "        vertical-align: middle;\n",
       "    }\n",
       "\n",
       "    .dataframe tbody tr th {\n",
       "        vertical-align: top;\n",
       "    }\n",
       "\n",
       "    .dataframe thead th {\n",
       "        text-align: right;\n",
       "    }\n",
       "</style>\n",
       "<table border=\"1\" class=\"dataframe\">\n",
       "  <thead>\n",
       "    <tr style=\"text-align: right;\">\n",
       "      <th></th>\n",
       "      <th>asin</th>\n",
       "      <th>parent_asin</th>\n",
       "      <th>main_category</th>\n",
       "      <th>subcategory</th>\n",
       "      <th>title</th>\n",
       "      <th>distance</th>\n",
       "    </tr>\n",
       "  </thead>\n",
       "  <tbody>\n",
       "    <tr>\n",
       "      <th>0</th>\n",
       "      <td>B0001IRRLG</td>\n",
       "      <td>B0BHNSLKNZ</td>\n",
       "      <td>Amazon Home</td>\n",
       "      <td>Permanent Filters</td>\n",
       "      <td>Cuisinart Replacement Water Filters, 2-Pack</td>\n",
       "      <td>0.0</td>\n",
       "    </tr>\n",
       "  </tbody>\n",
       "</table>\n",
       "</div>"
      ],
      "text/plain": [
       "         asin parent_asin main_category        subcategory  \\\n",
       "0  B0001IRRLG  B0BHNSLKNZ   Amazon Home  Permanent Filters   \n",
       "\n",
       "                                         title  distance  \n",
       "0  Cuisinart Replacement Water Filters, 2-Pack       0.0  "
      ]
     },
     "execution_count": 213,
     "metadata": {},
     "output_type": "execute_result"
    }
   ],
   "source": [
    "# Verify query item on top list and dist = 0\n",
    "df_similar_recos.head(1)"
   ]
  },
  {
   "cell_type": "code",
   "execution_count": 214,
   "id": "0ebaa39d",
   "metadata": {},
   "outputs": [
    {
     "data": {
      "text/html": [
       "<div>\n",
       "<style scoped>\n",
       "    .dataframe tbody tr th:only-of-type {\n",
       "        vertical-align: middle;\n",
       "    }\n",
       "\n",
       "    .dataframe tbody tr th {\n",
       "        vertical-align: top;\n",
       "    }\n",
       "\n",
       "    .dataframe thead th {\n",
       "        text-align: right;\n",
       "    }\n",
       "</style>\n",
       "<table border=\"1\" class=\"dataframe\">\n",
       "  <thead>\n",
       "    <tr style=\"text-align: right;\">\n",
       "      <th></th>\n",
       "      <th>asin</th>\n",
       "      <th>parent_asin</th>\n",
       "      <th>main_category</th>\n",
       "      <th>subcategory</th>\n",
       "      <th>title</th>\n",
       "      <th>distance</th>\n",
       "    </tr>\n",
       "  </thead>\n",
       "  <tbody>\n",
       "    <tr>\n",
       "      <th>1</th>\n",
       "      <td>B00BUFJBQS</td>\n",
       "      <td>B07P3Y8JWY</td>\n",
       "      <td>Amazon Home</td>\n",
       "      <td>Reusable Filters</td>\n",
       "      <td>Disposable Paper Coffee Filters 600 count - Compatible with Keurig, K-Cup machines &amp; other Single Serve Coffee Brewer Reusable K Cups - Use Your Own Coffee &amp; Make Your Own Pods - Works with All Brands</td>\n",
       "      <td>0.982817</td>\n",
       "    </tr>\n",
       "    <tr>\n",
       "      <th>2</th>\n",
       "      <td>B00LGEKOMS</td>\n",
       "      <td>B07RNJY499</td>\n",
       "      <td>Amazon Home</td>\n",
       "      <td>Reusable Filters</td>\n",
       "      <td>iPartPlusMore Reusable Coffee Filters Compatible with 1.0 and 2.0 Keurig Single Cup Coffee Maker - BPA-Free Stainless Steel Refillable K Cup Coffee Filter with Fine Mesh Screen (Pack of 4)</td>\n",
       "      <td>1.000000</td>\n",
       "    </tr>\n",
       "    <tr>\n",
       "      <th>3</th>\n",
       "      <td>B01DLEL4EM</td>\n",
       "      <td>B0B3DB5HTC</td>\n",
       "      <td>Amazon Home</td>\n",
       "      <td>Disposable Filters</td>\n",
       "      <td>12 Pack Keurig Filter Replacement by K&amp;J - Compatible with Keurig Coffee Machine (2.0 and older)</td>\n",
       "      <td>1.000000</td>\n",
       "    </tr>\n",
       "    <tr>\n",
       "      <th>4</th>\n",
       "      <td>B01AUBYMK2</td>\n",
       "      <td>B07RNJY499</td>\n",
       "      <td>Amazon Home</td>\n",
       "      <td>Reusable Filters</td>\n",
       "      <td>iPartPlusMore Reusable Coffee Filters Compatible with 1.0 and 2.0 Keurig Single Cup Coffee Maker - BPA-Free Stainless Steel Refillable K Cup Coffee Filter with Fine Mesh Screen (Pack of 4)</td>\n",
       "      <td>1.000000</td>\n",
       "    </tr>\n",
       "    <tr>\n",
       "      <th>5</th>\n",
       "      <td>B07P9KVVCS</td>\n",
       "      <td>B07P3Y8JWY</td>\n",
       "      <td>Amazon Home</td>\n",
       "      <td>Reusable Filters</td>\n",
       "      <td>Disposable Paper Coffee Filters 600 count - Compatible with Keurig, K-Cup machines &amp; other Single Serve Coffee Brewer Reusable K Cups - Use Your Own Coffee &amp; Make Your Own Pods - Works with All Brands</td>\n",
       "      <td>1.000000</td>\n",
       "    </tr>\n",
       "    <tr>\n",
       "      <th>6</th>\n",
       "      <td>B00BUFJBQS</td>\n",
       "      <td>B07P3Y8JWY</td>\n",
       "      <td>Amazon Home</td>\n",
       "      <td>Reusable Filters</td>\n",
       "      <td>Disposable Paper Coffee Filters 600 count - Compatible with Keurig, K-Cup machines &amp; other Single Serve Coffee Brewer Reusable K Cups - Use Your Own Coffee &amp; Make Your Own Pods - Works with All Brands</td>\n",
       "      <td>1.000000</td>\n",
       "    </tr>\n",
       "    <tr>\n",
       "      <th>7</th>\n",
       "      <td>B00888OEQW</td>\n",
       "      <td>B07P3Y8JWY</td>\n",
       "      <td>Amazon Home</td>\n",
       "      <td>Reusable Filters</td>\n",
       "      <td>Disposable Paper Coffee Filters 600 count - Compatible with Keurig, K-Cup machines &amp; other Single Serve Coffee Brewer Reusable K Cups - Use Your Own Coffee &amp; Make Your Own Pods - Works with All Brands</td>\n",
       "      <td>1.000000</td>\n",
       "    </tr>\n",
       "    <tr>\n",
       "      <th>8</th>\n",
       "      <td>B00BUFJBQS</td>\n",
       "      <td>B07P3Y8JWY</td>\n",
       "      <td>Amazon Home</td>\n",
       "      <td>Reusable Filters</td>\n",
       "      <td>Disposable Paper Coffee Filters 600 count - Compatible with Keurig, K-Cup machines &amp; other Single Serve Coffee Brewer Reusable K Cups - Use Your Own Coffee &amp; Make Your Own Pods - Works with All Brands</td>\n",
       "      <td>1.000000</td>\n",
       "    </tr>\n",
       "    <tr>\n",
       "      <th>9</th>\n",
       "      <td>B00LGEKOMS</td>\n",
       "      <td>B07RNJY499</td>\n",
       "      <td>Amazon Home</td>\n",
       "      <td>Reusable Filters</td>\n",
       "      <td>iPartPlusMore Reusable Coffee Filters Compatible with 1.0 and 2.0 Keurig Single Cup Coffee Maker - BPA-Free Stainless Steel Refillable K Cup Coffee Filter with Fine Mesh Screen (Pack of 4)</td>\n",
       "      <td>1.000000</td>\n",
       "    </tr>\n",
       "    <tr>\n",
       "      <th>10</th>\n",
       "      <td>B01AUBYMK2</td>\n",
       "      <td>B07RNJY499</td>\n",
       "      <td>Amazon Home</td>\n",
       "      <td>Reusable Filters</td>\n",
       "      <td>iPartPlusMore Reusable Coffee Filters Compatible with 1.0 and 2.0 Keurig Single Cup Coffee Maker - BPA-Free Stainless Steel Refillable K Cup Coffee Filter with Fine Mesh Screen (Pack of 4)</td>\n",
       "      <td>1.000000</td>\n",
       "    </tr>\n",
       "  </tbody>\n",
       "</table>\n",
       "</div>"
      ],
      "text/plain": [
       "          asin parent_asin main_category         subcategory  \\\n",
       "1   B00BUFJBQS  B07P3Y8JWY   Amazon Home    Reusable Filters   \n",
       "2   B00LGEKOMS  B07RNJY499   Amazon Home    Reusable Filters   \n",
       "3   B01DLEL4EM  B0B3DB5HTC   Amazon Home  Disposable Filters   \n",
       "4   B01AUBYMK2  B07RNJY499   Amazon Home    Reusable Filters   \n",
       "5   B07P9KVVCS  B07P3Y8JWY   Amazon Home    Reusable Filters   \n",
       "6   B00BUFJBQS  B07P3Y8JWY   Amazon Home    Reusable Filters   \n",
       "7   B00888OEQW  B07P3Y8JWY   Amazon Home    Reusable Filters   \n",
       "8   B00BUFJBQS  B07P3Y8JWY   Amazon Home    Reusable Filters   \n",
       "9   B00LGEKOMS  B07RNJY499   Amazon Home    Reusable Filters   \n",
       "10  B01AUBYMK2  B07RNJY499   Amazon Home    Reusable Filters   \n",
       "\n",
       "                                                                                                                                                                                                       title  \\\n",
       "1   Disposable Paper Coffee Filters 600 count - Compatible with Keurig, K-Cup machines & other Single Serve Coffee Brewer Reusable K Cups - Use Your Own Coffee & Make Your Own Pods - Works with All Brands   \n",
       "2               iPartPlusMore Reusable Coffee Filters Compatible with 1.0 and 2.0 Keurig Single Cup Coffee Maker - BPA-Free Stainless Steel Refillable K Cup Coffee Filter with Fine Mesh Screen (Pack of 4)   \n",
       "3                                                                                                           12 Pack Keurig Filter Replacement by K&J - Compatible with Keurig Coffee Machine (2.0 and older)   \n",
       "4               iPartPlusMore Reusable Coffee Filters Compatible with 1.0 and 2.0 Keurig Single Cup Coffee Maker - BPA-Free Stainless Steel Refillable K Cup Coffee Filter with Fine Mesh Screen (Pack of 4)   \n",
       "5   Disposable Paper Coffee Filters 600 count - Compatible with Keurig, K-Cup machines & other Single Serve Coffee Brewer Reusable K Cups - Use Your Own Coffee & Make Your Own Pods - Works with All Brands   \n",
       "6   Disposable Paper Coffee Filters 600 count - Compatible with Keurig, K-Cup machines & other Single Serve Coffee Brewer Reusable K Cups - Use Your Own Coffee & Make Your Own Pods - Works with All Brands   \n",
       "7   Disposable Paper Coffee Filters 600 count - Compatible with Keurig, K-Cup machines & other Single Serve Coffee Brewer Reusable K Cups - Use Your Own Coffee & Make Your Own Pods - Works with All Brands   \n",
       "8   Disposable Paper Coffee Filters 600 count - Compatible with Keurig, K-Cup machines & other Single Serve Coffee Brewer Reusable K Cups - Use Your Own Coffee & Make Your Own Pods - Works with All Brands   \n",
       "9               iPartPlusMore Reusable Coffee Filters Compatible with 1.0 and 2.0 Keurig Single Cup Coffee Maker - BPA-Free Stainless Steel Refillable K Cup Coffee Filter with Fine Mesh Screen (Pack of 4)   \n",
       "10              iPartPlusMore Reusable Coffee Filters Compatible with 1.0 and 2.0 Keurig Single Cup Coffee Maker - BPA-Free Stainless Steel Refillable K Cup Coffee Filter with Fine Mesh Screen (Pack of 4)   \n",
       "\n",
       "    distance  \n",
       "1   0.982817  \n",
       "2   1.000000  \n",
       "3   1.000000  \n",
       "4   1.000000  \n",
       "5   1.000000  \n",
       "6   1.000000  \n",
       "7   1.000000  \n",
       "8   1.000000  \n",
       "9   1.000000  \n",
       "10  1.000000  "
      ]
     },
     "execution_count": 214,
     "metadata": {},
     "output_type": "execute_result"
    }
   ],
   "source": [
    "# Display the top k similar products\n",
    "df_similar_recos[1:]"
   ]
  },
  {
   "cell_type": "markdown",
   "id": "2f91b67e",
   "metadata": {},
   "source": [
    "Metrics Evaluation"
   ]
  },
  {
   "cell_type": "code",
   "execution_count": 215,
   "id": "502a82b3",
   "metadata": {},
   "outputs": [
    {
     "name": "stdout",
     "output_type": "stream",
     "text": [
      "Top-10 Evaluation Metrics (ItemCF, Leave-One-Out):\n",
      "Hit Rate:         0.7547\n",
      "Precision@10: 0.0755\n",
      "Recall@10:    0.7547\n",
      "MAP:              0.3025\n",
      "NDCG@10:      0.4062\n"
     ]
    }
   ],
   "source": [
    "ibcf.evaluate_ranking()"
   ]
  },
  {
   "cell_type": "markdown",
   "id": "b2c05bc3",
   "metadata": {},
   "source": [
    "#### Implement User-Based Collaborative Filtering\n"
   ]
  },
  {
   "cell_type": "code",
   "execution_count": 266,
   "id": "c5ce4739",
   "metadata": {},
   "outputs": [],
   "source": [
    "ubcf = CollaborativeFiltering(df, mode='user', top_k=k, rel_threshold=4, random_seed=random_seed)\n",
    "if n_min_prod > 0 and n_min_user > 0:\n",
    "    # Reduce noise by specifying minimum ratings per product and by user\n",
    "    ubcf.reduce_noise(n_user_ratings=n_min_user, n_prod_ratings=n_min_prod)\n",
    "\n",
    "train_df, test_df = ubcf.leave_one_out_split()\n",
    "ubcf.train_knn()"
   ]
  },
  {
   "cell_type": "code",
   "execution_count": 267,
   "id": "a582ba6e",
   "metadata": {},
   "outputs": [],
   "source": [
    "# Randomize or manually pick user id\n",
    "user_id = 'AHXVMVJEAMRUIE4FDV5ZWWPWLNCA'  # Example user ID\n",
    "# user_id = train_df['user_id'].sample(1, random_state=random_seed).values[0]  # Rand user from tr df"
   ]
  },
  {
   "cell_type": "code",
   "execution_count": 274,
   "id": "80b2bf9f",
   "metadata": {},
   "outputs": [
    {
     "data": {
      "text/plain": [
       "0      AE52GPMH6YF7HQMRWALACH3BBNBQ\n",
       "1      AE5MCZGKGW5BCO437LRGRUHMK5RQ\n",
       "2      AE6HYBNWZFMX3QTIL5LY2H4AT5JQ\n",
       "3      AE6JZUKDILHPDYAS4NCSW7IOVZSQ\n",
       "4      AE6OIQD2NCZH75MBGXG3KHHZ7VTQ\n",
       "                   ...             \n",
       "179    AHXSF5SH5PKQ6J7UZSWVKVQDNLTQ\n",
       "180    AHXVMVJEAMRUIE4FDV5ZWWPWLNCA\n",
       "181    AHXWAX3Z3AIEMGMF7KSSGQTINH4A\n",
       "182    AHYC2JSO7SYAKYZ6PQQKLB23BP4Q\n",
       "183    AHZHG5JUZEACCMCUPOPNCWC27EWA\n",
       "Name: user_id, Length: 184, dtype: object"
      ]
     },
     "execution_count": 274,
     "metadata": {},
     "output_type": "execute_result"
    }
   ],
   "source": [
    "# Verify\n",
    "train_df.user_id"
   ]
  },
  {
   "cell_type": "code",
   "execution_count": 269,
   "id": "463e2f49",
   "metadata": {},
   "outputs": [],
   "source": [
    "topk_items = ubcf.recommend_items_for_user(user_id)"
   ]
  },
  {
   "cell_type": "code",
   "execution_count": 270,
   "id": "773ee299",
   "metadata": {},
   "outputs": [
    {
     "name": "stdout",
     "output_type": "stream",
     "text": [
      "Recommended Item: B00BUFJBQS, Score: 1.0\n",
      "Recommended Item: B07P9KVVCS, Score: 0.5\n",
      "Recommended Item: B01AUBYMK2, Score: 0.5\n",
      "Recommended Item: B01DLEL4EM, Score: 0.5\n",
      "Recommended Item: B0001IRRLQ, Score: 0.4\n",
      "Recommended Item: B00LGEKOMS, Score: 0.4\n",
      "Recommended Item: B0001IRRLG, Score: 0.2\n",
      "Recommended Item: B00888OEQW, Score: 0.0\n",
      "Recommended Item: B000TETMVK, Score: 0.0\n",
      "Recommended Item: B00ST3XBKG, Score: 0.0\n"
     ]
    }
   ],
   "source": [
    "for asin, score in topk_items.items():\n",
    "    print(f\"Recommended Item: {asin}, Score: {score}\")"
   ]
  },
  {
   "cell_type": "code",
   "execution_count": 271,
   "id": "e1bd9b03",
   "metadata": {},
   "outputs": [
    {
     "data": {
      "text/plain": [
       "{'B0045LLC7K'}"
      ]
     },
     "execution_count": 271,
     "metadata": {},
     "output_type": "execute_result"
    }
   ],
   "source": [
    "# Verify\n",
    "uim = train_df.pivot(index='user_id', columns='asin', values='rating').fillna(0)\n",
    "user_rated = set(uim.loc[user_id][uim.loc[user_id] > 0].index)\n",
    "user_rated"
   ]
  },
  {
   "cell_type": "code",
   "execution_count": 272,
   "id": "18a7b33e",
   "metadata": {},
   "outputs": [],
   "source": [
    "similar_recos = []\n",
    "\n",
    "for asin, score in topk_items.items():\n",
    "    row = train_df[train_df['asin'] == asin].iloc[0]\n",
    "    similar_recos.append({\n",
    "        'asin': row['asin'],\n",
    "        'parent_asin': row['parent_asin'],\n",
    "        'main_category': row['main_category'],\n",
    "        'subcategory': row['subcategory'],\n",
    "        # 'maker': row['maker'],\n",
    "        'title': row['title'],\n",
    "        'similar user_id': row['user_id']\n",
    "    })\n",
    "\n",
    "# Convert to DataFrame\n",
    "df_similar_recos = pd.DataFrame(similar_recos)"
   ]
  },
  {
   "cell_type": "code",
   "execution_count": 273,
   "id": "3a586ba9",
   "metadata": {},
   "outputs": [
    {
     "data": {
      "text/html": [
       "<div>\n",
       "<style scoped>\n",
       "    .dataframe tbody tr th:only-of-type {\n",
       "        vertical-align: middle;\n",
       "    }\n",
       "\n",
       "    .dataframe tbody tr th {\n",
       "        vertical-align: top;\n",
       "    }\n",
       "\n",
       "    .dataframe thead th {\n",
       "        text-align: right;\n",
       "    }\n",
       "</style>\n",
       "<table border=\"1\" class=\"dataframe\">\n",
       "  <thead>\n",
       "    <tr style=\"text-align: right;\">\n",
       "      <th></th>\n",
       "      <th>asin</th>\n",
       "      <th>parent_asin</th>\n",
       "      <th>main_category</th>\n",
       "      <th>subcategory</th>\n",
       "      <th>title</th>\n",
       "      <th>similar user_id</th>\n",
       "    </tr>\n",
       "  </thead>\n",
       "  <tbody>\n",
       "    <tr>\n",
       "      <th>0</th>\n",
       "      <td>B00BUFJBQS</td>\n",
       "      <td>B07P3Y8JWY</td>\n",
       "      <td>Amazon Home</td>\n",
       "      <td>Reusable Filters</td>\n",
       "      <td>Disposable Paper Coffee Filters 600 count - Compatible with Keurig, K-Cup machines &amp; other Single Serve Coffee Brewer Reusable K Cups - Use Your Own Coffee &amp; Make Your Own Pods - Works with All Brands</td>\n",
       "      <td>AE6OIQD2NCZH75MBGXG3KHHZ7VTQ</td>\n",
       "    </tr>\n",
       "    <tr>\n",
       "      <th>1</th>\n",
       "      <td>B07P9KVVCS</td>\n",
       "      <td>B07P3Y8JWY</td>\n",
       "      <td>Amazon Home</td>\n",
       "      <td>Reusable Filters</td>\n",
       "      <td>Disposable Paper Coffee Filters 600 count - Compatible with Keurig, K-Cup machines &amp; other Single Serve Coffee Brewer Reusable K Cups - Use Your Own Coffee &amp; Make Your Own Pods - Works with All Brands</td>\n",
       "      <td>AE6OIQD2NCZH75MBGXG3KHHZ7VTQ</td>\n",
       "    </tr>\n",
       "    <tr>\n",
       "      <th>2</th>\n",
       "      <td>B01AUBYMK2</td>\n",
       "      <td>B07RNJY499</td>\n",
       "      <td>Amazon Home</td>\n",
       "      <td>Reusable Filters</td>\n",
       "      <td>iPartPlusMore Reusable Coffee Filters Compatible with 1.0 and 2.0 Keurig Single Cup Coffee Maker - BPA-Free Stainless Steel Refillable K Cup Coffee Filter with Fine Mesh Screen (Pack of 4)</td>\n",
       "      <td>AE6JZUKDILHPDYAS4NCSW7IOVZSQ</td>\n",
       "    </tr>\n",
       "    <tr>\n",
       "      <th>3</th>\n",
       "      <td>B01DLEL4EM</td>\n",
       "      <td>B0B3DB5HTC</td>\n",
       "      <td>Amazon Home</td>\n",
       "      <td>Disposable Filters</td>\n",
       "      <td>12 Pack Keurig Filter Replacement by K&amp;J - Compatible with Keurig Coffee Machine (2.0 and older)</td>\n",
       "      <td>AE52GPMH6YF7HQMRWALACH3BBNBQ</td>\n",
       "    </tr>\n",
       "    <tr>\n",
       "      <th>4</th>\n",
       "      <td>B0001IRRLQ</td>\n",
       "      <td>B0BHNSLKNZ</td>\n",
       "      <td>Amazon Home</td>\n",
       "      <td>Permanent Filters</td>\n",
       "      <td>Cuisinart Replacement Water Filters, 2-Pack</td>\n",
       "      <td>AEGHRMGHNK2723AIUD3JHXYO3FQQ</td>\n",
       "    </tr>\n",
       "    <tr>\n",
       "      <th>5</th>\n",
       "      <td>B00LGEKOMS</td>\n",
       "      <td>B07RNJY499</td>\n",
       "      <td>Amazon Home</td>\n",
       "      <td>Reusable Filters</td>\n",
       "      <td>iPartPlusMore Reusable Coffee Filters Compatible with 1.0 and 2.0 Keurig Single Cup Coffee Maker - BPA-Free Stainless Steel Refillable K Cup Coffee Filter with Fine Mesh Screen (Pack of 4)</td>\n",
       "      <td>AE5MCZGKGW5BCO437LRGRUHMK5RQ</td>\n",
       "    </tr>\n",
       "    <tr>\n",
       "      <th>6</th>\n",
       "      <td>B0001IRRLG</td>\n",
       "      <td>B0BHNSLKNZ</td>\n",
       "      <td>Amazon Home</td>\n",
       "      <td>Permanent Filters</td>\n",
       "      <td>Cuisinart Replacement Water Filters, 2-Pack</td>\n",
       "      <td>AE6HYBNWZFMX3QTIL5LY2H4AT5JQ</td>\n",
       "    </tr>\n",
       "    <tr>\n",
       "      <th>7</th>\n",
       "      <td>B00888OEQW</td>\n",
       "      <td>B07P3Y8JWY</td>\n",
       "      <td>Amazon Home</td>\n",
       "      <td>Reusable Filters</td>\n",
       "      <td>Disposable Paper Coffee Filters 600 count - Compatible with Keurig, K-Cup machines &amp; other Single Serve Coffee Brewer Reusable K Cups - Use Your Own Coffee &amp; Make Your Own Pods - Works with All Brands</td>\n",
       "      <td>AEBXNYPC5RW2PRFDLQVILRSOON6Q</td>\n",
       "    </tr>\n",
       "    <tr>\n",
       "      <th>8</th>\n",
       "      <td>B000TETMVK</td>\n",
       "      <td>B0BHNSLKNZ</td>\n",
       "      <td>Amazon Home</td>\n",
       "      <td>Permanent Filters</td>\n",
       "      <td>Cuisinart Replacement Water Filters, 2-Pack</td>\n",
       "      <td>AERYURF52GLN35JSFZVAMRZAZA7A</td>\n",
       "    </tr>\n",
       "    <tr>\n",
       "      <th>9</th>\n",
       "      <td>B00ST3XBKG</td>\n",
       "      <td>B07RNJY499</td>\n",
       "      <td>Amazon Home</td>\n",
       "      <td>Reusable Filters</td>\n",
       "      <td>iPartPlusMore Reusable Coffee Filters Compatible with 1.0 and 2.0 Keurig Single Cup Coffee Maker - BPA-Free Stainless Steel Refillable K Cup Coffee Filter with Fine Mesh Screen (Pack of 4)</td>\n",
       "      <td>AEXC6XAUJR3BCIEIFKOBV2OHPFGQ</td>\n",
       "    </tr>\n",
       "  </tbody>\n",
       "</table>\n",
       "</div>"
      ],
      "text/plain": [
       "         asin parent_asin main_category         subcategory  \\\n",
       "0  B00BUFJBQS  B07P3Y8JWY   Amazon Home    Reusable Filters   \n",
       "1  B07P9KVVCS  B07P3Y8JWY   Amazon Home    Reusable Filters   \n",
       "2  B01AUBYMK2  B07RNJY499   Amazon Home    Reusable Filters   \n",
       "3  B01DLEL4EM  B0B3DB5HTC   Amazon Home  Disposable Filters   \n",
       "4  B0001IRRLQ  B0BHNSLKNZ   Amazon Home   Permanent Filters   \n",
       "5  B00LGEKOMS  B07RNJY499   Amazon Home    Reusable Filters   \n",
       "6  B0001IRRLG  B0BHNSLKNZ   Amazon Home   Permanent Filters   \n",
       "7  B00888OEQW  B07P3Y8JWY   Amazon Home    Reusable Filters   \n",
       "8  B000TETMVK  B0BHNSLKNZ   Amazon Home   Permanent Filters   \n",
       "9  B00ST3XBKG  B07RNJY499   Amazon Home    Reusable Filters   \n",
       "\n",
       "                                                                                                                                                                                                      title  \\\n",
       "0  Disposable Paper Coffee Filters 600 count - Compatible with Keurig, K-Cup machines & other Single Serve Coffee Brewer Reusable K Cups - Use Your Own Coffee & Make Your Own Pods - Works with All Brands   \n",
       "1  Disposable Paper Coffee Filters 600 count - Compatible with Keurig, K-Cup machines & other Single Serve Coffee Brewer Reusable K Cups - Use Your Own Coffee & Make Your Own Pods - Works with All Brands   \n",
       "2              iPartPlusMore Reusable Coffee Filters Compatible with 1.0 and 2.0 Keurig Single Cup Coffee Maker - BPA-Free Stainless Steel Refillable K Cup Coffee Filter with Fine Mesh Screen (Pack of 4)   \n",
       "3                                                                                                          12 Pack Keurig Filter Replacement by K&J - Compatible with Keurig Coffee Machine (2.0 and older)   \n",
       "4                                                                                                                                                               Cuisinart Replacement Water Filters, 2-Pack   \n",
       "5              iPartPlusMore Reusable Coffee Filters Compatible with 1.0 and 2.0 Keurig Single Cup Coffee Maker - BPA-Free Stainless Steel Refillable K Cup Coffee Filter with Fine Mesh Screen (Pack of 4)   \n",
       "6                                                                                                                                                               Cuisinart Replacement Water Filters, 2-Pack   \n",
       "7  Disposable Paper Coffee Filters 600 count - Compatible with Keurig, K-Cup machines & other Single Serve Coffee Brewer Reusable K Cups - Use Your Own Coffee & Make Your Own Pods - Works with All Brands   \n",
       "8                                                                                                                                                               Cuisinart Replacement Water Filters, 2-Pack   \n",
       "9              iPartPlusMore Reusable Coffee Filters Compatible with 1.0 and 2.0 Keurig Single Cup Coffee Maker - BPA-Free Stainless Steel Refillable K Cup Coffee Filter with Fine Mesh Screen (Pack of 4)   \n",
       "\n",
       "                similar user_id  \n",
       "0  AE6OIQD2NCZH75MBGXG3KHHZ7VTQ  \n",
       "1  AE6OIQD2NCZH75MBGXG3KHHZ7VTQ  \n",
       "2  AE6JZUKDILHPDYAS4NCSW7IOVZSQ  \n",
       "3  AE52GPMH6YF7HQMRWALACH3BBNBQ  \n",
       "4  AEGHRMGHNK2723AIUD3JHXYO3FQQ  \n",
       "5  AE5MCZGKGW5BCO437LRGRUHMK5RQ  \n",
       "6  AE6HYBNWZFMX3QTIL5LY2H4AT5JQ  \n",
       "7  AEBXNYPC5RW2PRFDLQVILRSOON6Q  \n",
       "8  AERYURF52GLN35JSFZVAMRZAZA7A  \n",
       "9  AEXC6XAUJR3BCIEIFKOBV2OHPFGQ  "
      ]
     },
     "execution_count": 273,
     "metadata": {},
     "output_type": "execute_result"
    }
   ],
   "source": [
    "df_similar_recos"
   ]
  }
 ],
 "metadata": {
  "kernelspec": {
   "display_name": "venv_re",
   "language": "python",
   "name": "python3"
  },
  "language_info": {
   "codemirror_mode": {
    "name": "ipython",
    "version": 3
   },
   "file_extension": ".py",
   "mimetype": "text/x-python",
   "name": "python",
   "nbconvert_exporter": "python",
   "pygments_lexer": "ipython3",
   "version": "3.12.4"
  }
 },
 "nbformat": 4,
 "nbformat_minor": 5
}
