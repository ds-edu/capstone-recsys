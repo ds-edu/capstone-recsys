{
 "cells": [
  {
   "cell_type": "code",
   "execution_count": 121,
   "id": "78e1fac2",
   "metadata": {},
   "outputs": [],
   "source": [
    "import os\n",
    "import sys\n",
    "\n",
    "import pandas as pd\n",
    "import numpy as np\n",
    "\n",
    "import matplotlib.pyplot as plt\n",
    "import seaborn as sns\n",
    "\n",
    "import random\n",
    "# import pyspark\n",
    "# from pyspark.sql import SparkSession\n",
    "\n",
    "import warnings\n",
    "warnings.filterwarnings(\"ignore\")"
   ]
  },
  {
   "cell_type": "markdown",
   "id": "ecb73ad9",
   "metadata": {},
   "source": [
    "### Read JSON from URL"
   ]
  },
  {
   "cell_type": "code",
   "execution_count": 122,
   "id": "831b84d6",
   "metadata": {},
   "outputs": [],
   "source": [
    "def read_json_sampling(url, chunk_size, sample_size, random_state=None):\n",
    "    \"\"\"\n",
    "    Reads a JSON file in chunks, samples from each chunk, and returns a combined sample.\n",
    "\n",
    "    Args:\n",
    "        url (str): JSON file url\n",
    "        chunk_size (int): Number of rows to read in each chunk.\n",
    "        sample_size (int): Total number of rows to sample.\n",
    "        random_state (int, optional): Seed for random sampling. Defaults to None.\n",
    "\n",
    "    Returns:\n",
    "        pd.DataFrame: A DataFrame containing the sampled rows.\n",
    "    \"\"\"\n",
    "    if random_state is not None:\n",
    "        random.seed(random_state)\n",
    "\n",
    "    sampled_chunks = []\n",
    "    total_rows = 0\n",
    "\n",
    "    for chunk in pd.read_json(url, lines=True, chunksize=chunk_size):\n",
    "       \n",
    "        chunk_sample_size = min(sample_size - total_rows, len(chunk))\n",
    "        if chunk_sample_size > 0:\n",
    "            sampled_chunk = chunk.sample(n=chunk_sample_size, random_state=random_state)\n",
    "            sampled_chunks.append(sampled_chunk)\n",
    "            total_rows += chunk_sample_size\n",
    "        if total_rows >= sample_size:\n",
    "            break\n",
    "\n",
    "    return pd.concat(sampled_chunks, ignore_index=True)"
   ]
  },
  {
   "cell_type": "markdown",
   "id": "08d7701c",
   "metadata": {},
   "source": [
    "#### Json from Local"
   ]
  },
  {
   "cell_type": "code",
   "execution_count": 123,
   "id": "6a836b7b",
   "metadata": {},
   "outputs": [],
   "source": [
    "# url_reviews = '/../data/Appliances.jsonl.gz'\n",
    "# url_meta= '../../data/meta_Appliances.jsonl.gz'"
   ]
  },
  {
   "cell_type": "markdown",
   "id": "a47a9639",
   "metadata": {},
   "source": [
    "#### Json from URL"
   ]
  },
  {
   "cell_type": "code",
   "execution_count": 124,
   "id": "7b62d47c",
   "metadata": {},
   "outputs": [],
   "source": [
    "# # Appliances\n",
    "# url_reviews = 'https://mcauleylab.ucsd.edu:8443/public_datasets/data/amazon_2023/raw/review_categories/Appliances.jsonl.gz'\n",
    "# url_meta = 'https://mcauleylab.ucsd.edu:8443/public_datasets/data/amazon_2023/raw/meta_categories/meta_Appliances.jsonl.gz'\n",
    "\n",
    "# Music\n",
    "# url_reviews = 'https://mcauleylab.ucsd.edu/public_datasets/data/amazon_2023/raw/review_categories/Digital_Music.jsonl.gz'# df_ratings = None\n",
    "# url_meta = 'https://mcauleylab.ucsd.edu/public_datasets/data/amazon_2023/raw/meta_categories/meta_Digital_Music.jsonl.gz'"
   ]
  },
  {
   "cell_type": "code",
   "execution_count": 125,
   "id": "0bd36ecd",
   "metadata": {},
   "outputs": [],
   "source": [
    "# df_meta = read_json_sampling(url_meta, 1000, 100000, 33)"
   ]
  },
  {
   "cell_type": "code",
   "execution_count": 126,
   "id": "eaefdc26",
   "metadata": {},
   "outputs": [],
   "source": [
    "# df_ratings = read_json_sampling(url_reviews, 1000, 200000, 33)"
   ]
  },
  {
   "cell_type": "markdown",
   "id": "05ad76b2",
   "metadata": {},
   "source": [
    "#### Backup full file"
   ]
  },
  {
   "cell_type": "code",
   "execution_count": 127,
   "id": "e5f4caee",
   "metadata": {},
   "outputs": [],
   "source": [
    "# df_meta_full = df_meta.copy(deep=True)\n",
    "# df_ratings_full = df_ratings.copy(deep=True)"
   ]
  },
  {
   "cell_type": "code",
   "execution_count": 128,
   "id": "ea7c4aee",
   "metadata": {},
   "outputs": [],
   "source": [
    "# Try- For resetting display \n",
    "pd.options.display.max_colwidth = 50"
   ]
  },
  {
   "cell_type": "markdown",
   "id": "c2404a74",
   "metadata": {},
   "source": [
    "### Dummy Test: Override auto load with manual dummy file test"
   ]
  },
  {
   "cell_type": "code",
   "execution_count": 129,
   "id": "2dff87ba",
   "metadata": {},
   "outputs": [],
   "source": [
    "dummy_ratings = ('../data/raw/dummy_ratings.jsonl.gz')\n",
    "dummy_meta = ('../data/raw/dummy_meta.jsonl.gz') "
   ]
  },
  {
   "cell_type": "code",
   "execution_count": 130,
   "id": "791a97d2",
   "metadata": {},
   "outputs": [],
   "source": [
    "df_meta = pd.read_json(dummy_meta)\n",
    "df_ratings = pd.read_json(dummy_ratings)"
   ]
  },
  {
   "cell_type": "code",
   "execution_count": 131,
   "id": "918da130",
   "metadata": {},
   "outputs": [],
   "source": [
    "df_meta.reset_index(drop=True, inplace=True)\n",
    "df_ratings.reset_index(drop=True, inplace=True)"
   ]
  },
  {
   "cell_type": "markdown",
   "id": "623e7756",
   "metadata": {},
   "source": [
    "## DATA CLEANING"
   ]
  },
  {
   "cell_type": "markdown",
   "id": "4f787962",
   "metadata": {},
   "source": [
    "#### Cleaning META"
   ]
  },
  {
   "cell_type": "code",
   "execution_count": 132,
   "id": "70f1fdfd",
   "metadata": {},
   "outputs": [
    {
     "data": {
      "text/plain": [
       "(30, 16)"
      ]
     },
     "execution_count": 132,
     "metadata": {},
     "output_type": "execute_result"
    }
   ],
   "source": [
    "# Verify shape\n",
    "df_meta.shape"
   ]
  },
  {
   "cell_type": "code",
   "execution_count": 133,
   "id": "38659e21",
   "metadata": {},
   "outputs": [
    {
     "data": {
      "text/plain": [
       "main_category       object\n",
       "title               object\n",
       "average_rating     float64\n",
       "rating_number        int64\n",
       "features            object\n",
       "description         object\n",
       "price              float64\n",
       "images              object\n",
       "videos              object\n",
       "store               object\n",
       "categories          object\n",
       "details             object\n",
       "parent_asin         object\n",
       "bought_together    float64\n",
       "subtitle           float64\n",
       "author             float64\n",
       "dtype: object"
      ]
     },
     "execution_count": 133,
     "metadata": {},
     "output_type": "execute_result"
    }
   ],
   "source": [
    "# Verify dtypes\n",
    "df_meta.dtypes"
   ]
  },
  {
   "cell_type": "code",
   "execution_count": 134,
   "id": "eb3fad3f",
   "metadata": {},
   "outputs": [
    {
     "data": {
      "text/plain": [
       "Index(['main_category', 'title', 'average_rating', 'rating_number', 'features',\n",
       "       'description', 'price', 'images', 'videos', 'store', 'categories',\n",
       "       'details', 'parent_asin', 'bought_together', 'subtitle', 'author'],\n",
       "      dtype='object')"
      ]
     },
     "execution_count": 134,
     "metadata": {},
     "output_type": "execute_result"
    }
   ],
   "source": [
    "# Verify columns \n",
    "df_meta.columns"
   ]
  },
  {
   "cell_type": "markdown",
   "id": "287cc3d9",
   "metadata": {},
   "source": [
    "<div class=\"alert alert-block alert-warning\">\n",
    "Decide which columns to drop\n",
    "</div>"
   ]
  },
  {
   "cell_type": "code",
   "execution_count": 135,
   "id": "5bab949d",
   "metadata": {},
   "outputs": [],
   "source": [
    "# Drop columns that are not needed in the analysis\n",
    "\n",
    "# Images and videos won't be utilized in the analysis\n",
    "# Price is not needed for this analysis so we drop it for now. \n",
    "# Average_rating and rating number can be dropped as well \n",
    "\n",
    "\n",
    "cols_to_drop = [ 'average_rating', 'rating_number', 'price', 'images', 'videos', 'bought_together', 'subtitle', 'author']\n",
    "df_meta.drop( cols_to_drop, axis=1, inplace=True )\n"
   ]
  },
  {
   "cell_type": "code",
   "execution_count": 136,
   "id": "5c6ab9c9",
   "metadata": {},
   "outputs": [
    {
     "name": "stdout",
     "output_type": "stream",
     "text": [
      "<class 'pandas.core.frame.DataFrame'>\n",
      "RangeIndex: 30 entries, 0 to 29\n",
      "Data columns (total 8 columns):\n",
      " #   Column         Non-Null Count  Dtype \n",
      "---  ------         --------------  ----- \n",
      " 0   main_category  30 non-null     object\n",
      " 1   title          30 non-null     object\n",
      " 2   features       30 non-null     object\n",
      " 3   description    30 non-null     object\n",
      " 4   store          30 non-null     object\n",
      " 5   categories     30 non-null     object\n",
      " 6   details        30 non-null     object\n",
      " 7   parent_asin    30 non-null     object\n",
      "dtypes: object(8)\n",
      "memory usage: 2.0+ KB\n"
     ]
    }
   ],
   "source": [
    "# Verify: After dropping columns. df_meta types and counts\n",
    "df_meta.info()"
   ]
  },
  {
   "cell_type": "code",
   "execution_count": 137,
   "id": "abb2d62b",
   "metadata": {},
   "outputs": [
    {
     "name": "stdout",
     "output_type": "stream",
     "text": [
      "Empty [features] : 20.00%\n",
      "Empty [description] : 43.33%\n",
      "Empty [categories] : 6.67%\n"
     ]
    }
   ],
   "source": [
    "# Dealing with empty lists in columns:\n",
    "\n",
    "# Get % of empty lists [] in cols of interest.\n",
    "# Delete column if it exceeds threshold values - separate this functionality\n",
    "\n",
    "threshold = 0.25\n",
    "cols_of_interest = ['features', 'description', 'categories'] #-- Exclude description as it can be used in feature groups down the line.\n",
    "\n",
    "for col in cols_of_interest:\n",
    "\n",
    "    pct = sum(~df_meta[col].astype(bool)) / len(df_meta)\n",
    "    print(f'Empty [{col}] : {100*pct:.2f}%')\n",
    "    \n",
    "    # # Drop column if it exceeds threshold value for empty list\n",
    "    # if pct >= threshold:\n",
    "    #     df_meta.drop(col, axis=1, inplace=True)\n"
   ]
  },
  {
   "cell_type": "code",
   "execution_count": 138,
   "id": "8ccd6933",
   "metadata": {},
   "outputs": [
    {
     "data": {
      "text/plain": [
       "main_category    0\n",
       "title            0\n",
       "features         0\n",
       "description      0\n",
       "store            0\n",
       "categories       0\n",
       "details          0\n",
       "parent_asin      0\n",
       "dtype: int64"
      ]
     },
     "execution_count": 138,
     "metadata": {},
     "output_type": "execute_result"
    }
   ],
   "source": [
    "# Verify: No null columns in meta\n",
    "df_meta.isna().sum()"
   ]
  },
  {
   "cell_type": "code",
   "execution_count": 139,
   "id": "f7300550",
   "metadata": {},
   "outputs": [],
   "source": [
    "# Fill null values, as needed. \n",
    "df_meta.store.fillna('Undescribed', inplace=True)\n",
    "df_meta.main_category.fillna('Uncategorized', inplace=True)"
   ]
  },
  {
   "cell_type": "code",
   "execution_count": 140,
   "id": "f2bf8034",
   "metadata": {},
   "outputs": [
    {
     "data": {
      "text/plain": [
       "main_category    0\n",
       "title            0\n",
       "features         0\n",
       "description      0\n",
       "store            0\n",
       "categories       0\n",
       "details          0\n",
       "parent_asin      0\n",
       "dtype: int64"
      ]
     },
     "execution_count": 140,
     "metadata": {},
     "output_type": "execute_result"
    }
   ],
   "source": [
    "# UT: No null columns in meta\n",
    "df_meta.isna().sum()"
   ]
  },
  {
   "cell_type": "code",
   "execution_count": 141,
   "id": "13a6e5f5",
   "metadata": {},
   "outputs": [
    {
     "data": {
      "text/plain": [
       "(30, 8)"
      ]
     },
     "execution_count": 141,
     "metadata": {},
     "output_type": "execute_result"
    }
   ],
   "source": [
    "# Verify shape after cleaning steps\n",
    "df_meta.shape"
   ]
  },
  {
   "cell_type": "markdown",
   "id": "3039e1ff",
   "metadata": {},
   "source": [
    "#### Cleaning RATINGS"
   ]
  },
  {
   "cell_type": "code",
   "execution_count": 142,
   "id": "bd806da0",
   "metadata": {},
   "outputs": [
    {
     "data": {
      "text/plain": [
       "(5547, 10)"
      ]
     },
     "execution_count": 142,
     "metadata": {},
     "output_type": "execute_result"
    }
   ],
   "source": [
    "# Verify shape\n",
    "df_ratings.shape"
   ]
  },
  {
   "cell_type": "code",
   "execution_count": 143,
   "id": "3580d4d6",
   "metadata": {},
   "outputs": [
    {
     "data": {
      "text/plain": [
       "rating                        int64\n",
       "title                        object\n",
       "text                         object\n",
       "images                       object\n",
       "asin                         object\n",
       "parent_asin                  object\n",
       "user_id                      object\n",
       "timestamp            datetime64[ns]\n",
       "helpful_vote                  int64\n",
       "verified_purchase              bool\n",
       "dtype: object"
      ]
     },
     "execution_count": 143,
     "metadata": {},
     "output_type": "execute_result"
    }
   ],
   "source": [
    "# Verify dtypes\n",
    "df_ratings.dtypes"
   ]
  },
  {
   "cell_type": "code",
   "execution_count": 144,
   "id": "dce7b7b1",
   "metadata": {},
   "outputs": [
    {
     "data": {
      "text/html": [
       "<div>\n",
       "<style scoped>\n",
       "    .dataframe tbody tr th:only-of-type {\n",
       "        vertical-align: middle;\n",
       "    }\n",
       "\n",
       "    .dataframe tbody tr th {\n",
       "        vertical-align: top;\n",
       "    }\n",
       "\n",
       "    .dataframe thead th {\n",
       "        text-align: right;\n",
       "    }\n",
       "</style>\n",
       "<table border=\"1\" class=\"dataframe\">\n",
       "  <thead>\n",
       "    <tr style=\"text-align: right;\">\n",
       "      <th></th>\n",
       "      <th>rating</th>\n",
       "      <th>title</th>\n",
       "      <th>text</th>\n",
       "      <th>images</th>\n",
       "      <th>asin</th>\n",
       "      <th>parent_asin</th>\n",
       "      <th>user_id</th>\n",
       "      <th>timestamp</th>\n",
       "      <th>helpful_vote</th>\n",
       "      <th>verified_purchase</th>\n",
       "    </tr>\n",
       "  </thead>\n",
       "  <tbody>\n",
       "    <tr>\n",
       "      <th>0</th>\n",
       "      <td>5</td>\n",
       "      <td>I am AMAZED to See Bad Reviews.</td>\n",
       "      <td>I came here to post a review because these are...</td>\n",
       "      <td>[]</td>\n",
       "      <td>B00LGEKOMS</td>\n",
       "      <td>B07RNJY499</td>\n",
       "      <td>AEDTXOC3YW6O7P2UPM22VNNRF77A</td>\n",
       "      <td>2020-10-16 20:26:21.427</td>\n",
       "      <td>0</td>\n",
       "      <td>True</td>\n",
       "    </tr>\n",
       "    <tr>\n",
       "      <th>1</th>\n",
       "      <td>5</td>\n",
       "      <td>Works well</td>\n",
       "      <td>Happy with product</td>\n",
       "      <td>[]</td>\n",
       "      <td>B01DP1IWKU</td>\n",
       "      <td>B092LLM7H3</td>\n",
       "      <td>AE6DFDMIJAVW57EVMRJH2M2X6ACA</td>\n",
       "      <td>2021-12-01 22:22:40.165</td>\n",
       "      <td>1</td>\n",
       "      <td>True</td>\n",
       "    </tr>\n",
       "    <tr>\n",
       "      <th>2</th>\n",
       "      <td>4</td>\n",
       "      <td>Four Stars</td>\n",
       "      <td>This works well.</td>\n",
       "      <td>[]</td>\n",
       "      <td>B000DLB2FI</td>\n",
       "      <td>B000DLB2FI</td>\n",
       "      <td>AEVGR67KN3CT4TO5D6HO3WNZGRPA</td>\n",
       "      <td>2015-02-27 12:51:16.000</td>\n",
       "      <td>0</td>\n",
       "      <td>True</td>\n",
       "    </tr>\n",
       "    <tr>\n",
       "      <th>3</th>\n",
       "      <td>5</td>\n",
       "      <td>Five Stars</td>\n",
       "      <td>GREAT</td>\n",
       "      <td>[]</td>\n",
       "      <td>B0001IRRLQ</td>\n",
       "      <td>B0BHNSLKNZ</td>\n",
       "      <td>AFLEUJNQJQOYOYDUJ2PSZ4O2TUJA</td>\n",
       "      <td>2015-11-07 03:54:08.000</td>\n",
       "      <td>0</td>\n",
       "      <td>True</td>\n",
       "    </tr>\n",
       "    <tr>\n",
       "      <th>4</th>\n",
       "      <td>5</td>\n",
       "      <td>Savings</td>\n",
       "      <td>Exelent,  save on coffee,  water,  no waste, e...</td>\n",
       "      <td>[]</td>\n",
       "      <td>B00LGEKOMS</td>\n",
       "      <td>B07RNJY499</td>\n",
       "      <td>AEOVCZC77QZJQPBIAIKCFV7AS7PA</td>\n",
       "      <td>2017-10-16 22:46:40.529</td>\n",
       "      <td>0</td>\n",
       "      <td>True</td>\n",
       "    </tr>\n",
       "  </tbody>\n",
       "</table>\n",
       "</div>"
      ],
      "text/plain": [
       "   rating                            title  \\\n",
       "0       5  I am AMAZED to See Bad Reviews.   \n",
       "1       5                       Works well   \n",
       "2       4                       Four Stars   \n",
       "3       5                       Five Stars   \n",
       "4       5                          Savings   \n",
       "\n",
       "                                                text images        asin  \\\n",
       "0  I came here to post a review because these are...     []  B00LGEKOMS   \n",
       "1                                 Happy with product     []  B01DP1IWKU   \n",
       "2                                   This works well.     []  B000DLB2FI   \n",
       "3                                              GREAT     []  B0001IRRLQ   \n",
       "4  Exelent,  save on coffee,  water,  no waste, e...     []  B00LGEKOMS   \n",
       "\n",
       "  parent_asin                       user_id               timestamp  \\\n",
       "0  B07RNJY499  AEDTXOC3YW6O7P2UPM22VNNRF77A 2020-10-16 20:26:21.427   \n",
       "1  B092LLM7H3  AE6DFDMIJAVW57EVMRJH2M2X6ACA 2021-12-01 22:22:40.165   \n",
       "2  B000DLB2FI  AEVGR67KN3CT4TO5D6HO3WNZGRPA 2015-02-27 12:51:16.000   \n",
       "3  B0BHNSLKNZ  AFLEUJNQJQOYOYDUJ2PSZ4O2TUJA 2015-11-07 03:54:08.000   \n",
       "4  B07RNJY499  AEOVCZC77QZJQPBIAIKCFV7AS7PA 2017-10-16 22:46:40.529   \n",
       "\n",
       "   helpful_vote  verified_purchase  \n",
       "0             0               True  \n",
       "1             1               True  \n",
       "2             0               True  \n",
       "3             0               True  \n",
       "4             0               True  "
      ]
     },
     "execution_count": 144,
     "metadata": {},
     "output_type": "execute_result"
    }
   ],
   "source": [
    "# Verify dataset\n",
    "df_ratings.head()"
   ]
  },
  {
   "cell_type": "code",
   "execution_count": 145,
   "id": "08f73856",
   "metadata": {},
   "outputs": [],
   "source": [
    "# Drop columns that are not needed in the analysis\n",
    "cols_to_drop = ['title', 'text', 'images', 'helpful_vote', 'timestamp', 'verified_purchase' ]\n",
    "\n",
    "# Drop columns\n",
    "df_ratings.drop(cols_to_drop, axis=1, inplace=True)"
   ]
  },
  {
   "cell_type": "code",
   "execution_count": 146,
   "id": "705d5c87",
   "metadata": {},
   "outputs": [
    {
     "data": {
      "text/plain": [
       "rating         0\n",
       "asin           0\n",
       "parent_asin    0\n",
       "user_id        0\n",
       "dtype: int64"
      ]
     },
     "execution_count": 146,
     "metadata": {},
     "output_type": "execute_result"
    }
   ],
   "source": [
    "# UT: No null columns in df_ratings\n",
    "df_ratings.isna().sum()"
   ]
  },
  {
   "cell_type": "markdown",
   "id": "b7360f5c",
   "metadata": {},
   "source": [
    "## EDA"
   ]
  },
  {
   "cell_type": "markdown",
   "id": "2d536846",
   "metadata": {},
   "source": [
    "#### Merging meta and reviews"
   ]
  },
  {
   "cell_type": "code",
   "execution_count": 147,
   "id": "7374809c",
   "metadata": {},
   "outputs": [],
   "source": [
    "# Merge metadata and reviews dataset\n",
    "df = pd.merge(df_meta, df_ratings, how='left', on='parent_asin')"
   ]
  },
  {
   "cell_type": "code",
   "execution_count": 148,
   "id": "7e88683f",
   "metadata": {},
   "outputs": [
    {
     "data": {
      "text/plain": [
       "(5567, 11)"
      ]
     },
     "execution_count": 148,
     "metadata": {},
     "output_type": "execute_result"
    }
   ],
   "source": [
    "# Verify shape\n",
    "df.shape"
   ]
  },
  {
   "cell_type": "code",
   "execution_count": 149,
   "id": "b084bd97",
   "metadata": {},
   "outputs": [
    {
     "data": {
      "text/plain": [
       "main_category     0\n",
       "title             0\n",
       "features          0\n",
       "description       0\n",
       "store             0\n",
       "categories        0\n",
       "details           0\n",
       "parent_asin       0\n",
       "rating           20\n",
       "asin             20\n",
       "user_id          20\n",
       "dtype: int64"
      ]
     },
     "execution_count": 149,
     "metadata": {},
     "output_type": "execute_result"
    }
   ],
   "source": [
    "# Verify null columns\n",
    "df.isna().sum()"
   ]
  },
  {
   "cell_type": "code",
   "execution_count": 150,
   "id": "7f93ac37",
   "metadata": {},
   "outputs": [
    {
     "name": "stdout",
     "output_type": "stream",
     "text": [
      "Percentage of Blank [Store] rows : 0.0 % -> Fill\n"
     ]
    }
   ],
   "source": [
    "# Show no. of null rows. \n",
    "print(f'Percentage of Blank [Store] rows : { round(100 * df.store.isna().sum() / len(df), 2) } % -> Fill' ) "
   ]
  },
  {
   "cell_type": "markdown",
   "id": "f6e14547",
   "metadata": {},
   "source": [
    "##### Try: Find unrated items"
   ]
  },
  {
   "cell_type": "markdown",
   "id": "c9a5dc60",
   "metadata": {},
   "source": [
    "[asin] represents a variant of a parent product. The granularity of evaluating a product rating should be in terms of its variant and not its parent [parent_asin].\\\n",
    "The [parent_asin] can be dropped. "
   ]
  },
  {
   "cell_type": "markdown",
   "id": "b6b55982",
   "metadata": {},
   "source": [
    "Find which records in df_meta were not in df_ratings"
   ]
  },
  {
   "cell_type": "code",
   "execution_count": 151,
   "id": "ceb6b495",
   "metadata": {},
   "outputs": [
    {
     "data": {
      "text/html": [
       "<div>\n",
       "<style scoped>\n",
       "    .dataframe tbody tr th:only-of-type {\n",
       "        vertical-align: middle;\n",
       "    }\n",
       "\n",
       "    .dataframe tbody tr th {\n",
       "        vertical-align: top;\n",
       "    }\n",
       "\n",
       "    .dataframe thead th {\n",
       "        text-align: right;\n",
       "    }\n",
       "</style>\n",
       "<table border=\"1\" class=\"dataframe\">\n",
       "  <thead>\n",
       "    <tr style=\"text-align: right;\">\n",
       "      <th></th>\n",
       "      <th>parent_asin</th>\n",
       "      <th>title</th>\n",
       "    </tr>\n",
       "  </thead>\n",
       "  <tbody>\n",
       "    <tr>\n",
       "      <th>5547</th>\n",
       "      <td>B07S9DJ2S2</td>\n",
       "      <td>Frigidaire Portable Compact Maker, Counter Top...</td>\n",
       "    </tr>\n",
       "    <tr>\n",
       "      <th>5548</th>\n",
       "      <td>B07QZHQTVJ</td>\n",
       "      <td>Whirlpool W10918546 Igniter</td>\n",
       "    </tr>\n",
       "    <tr>\n",
       "      <th>5549</th>\n",
       "      <td>B0BC65XJLJ</td>\n",
       "      <td>W10295370A Water FiIter Cap Replacement, Compa...</td>\n",
       "    </tr>\n",
       "    <tr>\n",
       "      <th>5550</th>\n",
       "      <td>B08VHW1WQW</td>\n",
       "      <td>Supplying Demand WR9X520 WR09X0520 Refrigerato...</td>\n",
       "    </tr>\n",
       "    <tr>\n",
       "      <th>5551</th>\n",
       "      <td>B09YRPT4Q2</td>\n",
       "      <td>BELVITA ADQ747935 Water Filter Replacement,Com...</td>\n",
       "    </tr>\n",
       "    <tr>\n",
       "      <th>5552</th>\n",
       "      <td>B0B5V1VTX1</td>\n",
       "      <td>MANWU 2 sets flame indicators ring stove stick...</td>\n",
       "    </tr>\n",
       "    <tr>\n",
       "      <th>5553</th>\n",
       "      <td>B00LOX5BNS</td>\n",
       "      <td>General Electric WH02X10093 Ring Compression</td>\n",
       "    </tr>\n",
       "    <tr>\n",
       "      <th>5554</th>\n",
       "      <td>B07L4HVLZJ</td>\n",
       "      <td>2pc WD24X10018 - Piston and Nut Assembly for G...</td>\n",
       "    </tr>\n",
       "    <tr>\n",
       "      <th>5555</th>\n",
       "      <td>B078RCY7SQ</td>\n",
       "      <td>Compatible Door Bin for Frigidaire FRS26R2AW6,...</td>\n",
       "    </tr>\n",
       "    <tr>\n",
       "      <th>5556</th>\n",
       "      <td>B01N638EFK</td>\n",
       "      <td>Shark XHF350 Navigator Lift Away NV350 NV351 N...</td>\n",
       "    </tr>\n",
       "    <tr>\n",
       "      <th>5557</th>\n",
       "      <td>B01FIHH4MG</td>\n",
       "      <td>Fire Magic Vent Hood Duct Cover - 42\"</td>\n",
       "    </tr>\n",
       "    <tr>\n",
       "      <th>5558</th>\n",
       "      <td>B09P6MFM2F</td>\n",
       "      <td>(OCN) New AP3885460 PS1145040 Range Stove Elem...</td>\n",
       "    </tr>\n",
       "    <tr>\n",
       "      <th>5559</th>\n",
       "      <td>B001HO55EY</td>\n",
       "      <td>GE WB06X10541 Wave Guide Cover</td>\n",
       "    </tr>\n",
       "    <tr>\n",
       "      <th>5560</th>\n",
       "      <td>B002AFBAKW</td>\n",
       "      <td>Whirlpool : ED5LHAXWB 25 cu. ft. Side-by-Side ...</td>\n",
       "    </tr>\n",
       "    <tr>\n",
       "      <th>5561</th>\n",
       "      <td>B00IIH5CRS</td>\n",
       "      <td>Samsung DC92-01040B Washer Electronic Control ...</td>\n",
       "    </tr>\n",
       "    <tr>\n",
       "      <th>5562</th>\n",
       "      <td>B00QZPBGMA</td>\n",
       "      <td>Frigidaire 316225001 Range Bake Element Assembly</td>\n",
       "    </tr>\n",
       "    <tr>\n",
       "      <th>5563</th>\n",
       "      <td>B07F9G2LFL</td>\n",
       "      <td>RO6G CH5829 Range Bake Unit Heating Oven Eleme...</td>\n",
       "    </tr>\n",
       "    <tr>\n",
       "      <th>5564</th>\n",
       "      <td>B0024I8PFS</td>\n",
       "      <td>Whirlpool Part Number 16910: Pin, Hinge</td>\n",
       "    </tr>\n",
       "    <tr>\n",
       "      <th>5565</th>\n",
       "      <td>B0BD2MT2FN</td>\n",
       "      <td>CACAKEE Milk Frothing Pitcher, 12 OZ/350ML Sta...</td>\n",
       "    </tr>\n",
       "    <tr>\n",
       "      <th>5566</th>\n",
       "      <td>B07DHXZFXV</td>\n",
       "      <td>LG LSXC22396D 22 Cu. Ft. Black Stainless Insta...</td>\n",
       "    </tr>\n",
       "  </tbody>\n",
       "</table>\n",
       "</div>"
      ],
      "text/plain": [
       "     parent_asin                                              title\n",
       "5547  B07S9DJ2S2  Frigidaire Portable Compact Maker, Counter Top...\n",
       "5548  B07QZHQTVJ                        Whirlpool W10918546 Igniter\n",
       "5549  B0BC65XJLJ  W10295370A Water FiIter Cap Replacement, Compa...\n",
       "5550  B08VHW1WQW  Supplying Demand WR9X520 WR09X0520 Refrigerato...\n",
       "5551  B09YRPT4Q2  BELVITA ADQ747935 Water Filter Replacement,Com...\n",
       "5552  B0B5V1VTX1  MANWU 2 sets flame indicators ring stove stick...\n",
       "5553  B00LOX5BNS       General Electric WH02X10093 Ring Compression\n",
       "5554  B07L4HVLZJ  2pc WD24X10018 - Piston and Nut Assembly for G...\n",
       "5555  B078RCY7SQ  Compatible Door Bin for Frigidaire FRS26R2AW6,...\n",
       "5556  B01N638EFK  Shark XHF350 Navigator Lift Away NV350 NV351 N...\n",
       "5557  B01FIHH4MG              Fire Magic Vent Hood Duct Cover - 42\"\n",
       "5558  B09P6MFM2F  (OCN) New AP3885460 PS1145040 Range Stove Elem...\n",
       "5559  B001HO55EY                     GE WB06X10541 Wave Guide Cover\n",
       "5560  B002AFBAKW  Whirlpool : ED5LHAXWB 25 cu. ft. Side-by-Side ...\n",
       "5561  B00IIH5CRS  Samsung DC92-01040B Washer Electronic Control ...\n",
       "5562  B00QZPBGMA   Frigidaire 316225001 Range Bake Element Assembly\n",
       "5563  B07F9G2LFL  RO6G CH5829 Range Bake Unit Heating Oven Eleme...\n",
       "5564  B0024I8PFS            Whirlpool Part Number 16910: Pin, Hinge\n",
       "5565  B0BD2MT2FN  CACAKEE Milk Frothing Pitcher, 12 OZ/350ML Sta...\n",
       "5566  B07DHXZFXV  LG LSXC22396D 22 Cu. Ft. Black Stainless Insta..."
      ]
     },
     "execution_count": 151,
     "metadata": {},
     "output_type": "execute_result"
    }
   ],
   "source": [
    "df_unrated = df[df.rating.isna()]\n",
    "df_unrated[['parent_asin', 'title']]"
   ]
  },
  {
   "cell_type": "markdown",
   "id": "63dbb6a1",
   "metadata": {},
   "source": [
    "<div class=\"alert alert-block alert-warning\">\n",
    "Decide whether to drop the null ASINs or unreviewed ASINS ( meaning exists in meta but not in reviews)\n",
    "</div>"
   ]
  },
  {
   "cell_type": "markdown",
   "id": "2934a8d5",
   "metadata": {},
   "source": [
    "#### Summary Statistics"
   ]
  },
  {
   "cell_type": "code",
   "execution_count": 152,
   "id": "4c13c950",
   "metadata": {},
   "outputs": [
    {
     "name": "stdout",
     "output_type": "stream",
     "text": [
      "Total unique products: 27\n",
      "Total unique product name: 30\n",
      "Total ratings: 5567\n",
      "Total unique users: 5363\n"
     ]
    }
   ],
   "source": [
    "# Info on counts\n",
    "\n",
    "# n_products_pasin = df.parent_asin.nunique()\n",
    "\n",
    "n_products = df.asin.nunique()\n",
    "n_titles = df.title.nunique()\n",
    "n_ratings = len(df.rating)\n",
    "n_users = df.user_id.nunique()\n",
    "\n",
    "# print(f'Total unique parent products: {n_products_pasin}')\n",
    "print(f'Total unique products: {n_products}')\n",
    "print(f'Total unique product name: {n_titles}')\n",
    "print(f'Total ratings: {n_ratings}')\n",
    "print(f'Total unique users: {n_users}')"
   ]
  },
  {
   "cell_type": "markdown",
   "id": "61c16b12",
   "metadata": {},
   "source": [
    "> Note: ASIN is used as the main identifier in the analysis as it corresponds to the specific product variant that HAS BEEN RATED."
   ]
  },
  {
   "cell_type": "code",
   "execution_count": 153,
   "id": "c4f817ef",
   "metadata": {},
   "outputs": [
    {
     "name": "stdout",
     "output_type": "stream",
     "text": [
      "Average no. of ratings per product: 206.19\n",
      "Average no. of ratings per user: 1.04\n"
     ]
    }
   ],
   "source": [
    "# Summary Statistics\n",
    "avg_rating_p_product = round(n_ratings/n_products, 2)\n",
    "avg_rating_p_user = round(n_ratings/n_users, 2)\n",
    "\n",
    "print(f'Average no. of ratings per product: {avg_rating_p_product}')\n",
    "print(f'Average no. of ratings per user: {avg_rating_p_user}')"
   ]
  },
  {
   "cell_type": "code",
   "execution_count": 154,
   "id": "454b6b37",
   "metadata": {},
   "outputs": [
    {
     "data": {
      "text/html": [
       "<div>\n",
       "<style scoped>\n",
       "    .dataframe tbody tr th:only-of-type {\n",
       "        vertical-align: middle;\n",
       "    }\n",
       "\n",
       "    .dataframe tbody tr th {\n",
       "        vertical-align: top;\n",
       "    }\n",
       "\n",
       "    .dataframe thead th {\n",
       "        text-align: right;\n",
       "    }\n",
       "</style>\n",
       "<table border=\"1\" class=\"dataframe\">\n",
       "  <thead>\n",
       "    <tr style=\"text-align: right;\">\n",
       "      <th></th>\n",
       "      <th>rating</th>\n",
       "    </tr>\n",
       "  </thead>\n",
       "  <tbody>\n",
       "    <tr>\n",
       "      <th>count</th>\n",
       "      <td>5547.000000</td>\n",
       "    </tr>\n",
       "    <tr>\n",
       "      <th>mean</th>\n",
       "      <td>4.416261</td>\n",
       "    </tr>\n",
       "    <tr>\n",
       "      <th>std</th>\n",
       "      <td>1.160401</td>\n",
       "    </tr>\n",
       "    <tr>\n",
       "      <th>min</th>\n",
       "      <td>1.000000</td>\n",
       "    </tr>\n",
       "    <tr>\n",
       "      <th>25%</th>\n",
       "      <td>4.000000</td>\n",
       "    </tr>\n",
       "    <tr>\n",
       "      <th>50%</th>\n",
       "      <td>5.000000</td>\n",
       "    </tr>\n",
       "    <tr>\n",
       "      <th>75%</th>\n",
       "      <td>5.000000</td>\n",
       "    </tr>\n",
       "    <tr>\n",
       "      <th>max</th>\n",
       "      <td>5.000000</td>\n",
       "    </tr>\n",
       "  </tbody>\n",
       "</table>\n",
       "</div>"
      ],
      "text/plain": [
       "            rating\n",
       "count  5547.000000\n",
       "mean      4.416261\n",
       "std       1.160401\n",
       "min       1.000000\n",
       "25%       4.000000\n",
       "50%       5.000000\n",
       "75%       5.000000\n",
       "max       5.000000"
      ]
     },
     "execution_count": 154,
     "metadata": {},
     "output_type": "execute_result"
    }
   ],
   "source": [
    "# Summary statistics using describe()\n",
    "df.select_dtypes(include = 'number').describe()"
   ]
  },
  {
   "cell_type": "code",
   "execution_count": 155,
   "id": "9ece0fc6",
   "metadata": {},
   "outputs": [
    {
     "data": {
      "image/png": "[encoded data removed]",
      "text/plain": [
       "<Figure size 500x400 with 1 Axes>"
      ]
     },
     "metadata": {},
     "output_type": "display_data"
    }
   ],
   "source": [
    "# Distribution of ratings\n",
    "sns.set_style('dark', {'axes.grid':False})\n",
    "\n",
    "plt.figure(figsize=(5,4))\n",
    "# _ = sns.histplot(data=df, x='rating', color='teal', bins=5, kde=True)\n",
    "_ = sns.kdeplot(data=df, x='rating', fill=True, alpha=0.5)\n",
    "_.set_title('Distribution of ratings')\n",
    "plt.axvline(x=df['rating'].mean(), ls='--', linewidth=1, color='red')\n",
    "plt.tight_layout()\n",
    "plt.show()"
   ]
  },
  {
   "cell_type": "code",
   "execution_count": 156,
   "id": "e4773f3d",
   "metadata": {},
   "outputs": [
    {
     "data": {
      "image/png": "[encoded data removed]",
      "text/plain": [
       "<Figure size 500x300 with 1 Axes>"
      ]
     },
     "metadata": {},
     "output_type": "display_data"
    }
   ],
   "source": [
    "# Count Ratings\n",
    "# sns.set_style('dark', {'axes.grid':False})\n",
    "plt.figure(figsize=(5,3))\n",
    "_ = sns.countplot(data=df, x='rating', color='teal')\n",
    "_.set_title('Count of ratings')\n",
    "plt.tight_layout()\n",
    "plt.show()"
   ]
  },
  {
   "cell_type": "markdown",
   "id": "33054a4a",
   "metadata": {},
   "source": [
    "#### Top Main Categories"
   ]
  },
  {
   "cell_type": "code",
   "execution_count": 157,
   "id": "e6654fa3",
   "metadata": {},
   "outputs": [],
   "source": [
    "# Set n results to extract and display\n",
    "n_result = 10"
   ]
  },
  {
   "cell_type": "code",
   "execution_count": 158,
   "id": "17f83474",
   "metadata": {},
   "outputs": [
    {
     "data": {
      "text/html": [
       "<div>\n",
       "<style scoped>\n",
       "    .dataframe tbody tr th:only-of-type {\n",
       "        vertical-align: middle;\n",
       "    }\n",
       "\n",
       "    .dataframe tbody tr th {\n",
       "        vertical-align: top;\n",
       "    }\n",
       "\n",
       "    .dataframe thead th {\n",
       "        text-align: right;\n",
       "    }\n",
       "</style>\n",
       "<table border=\"1\" class=\"dataframe\">\n",
       "  <thead>\n",
       "    <tr style=\"text-align: right;\">\n",
       "      <th></th>\n",
       "      <th>main_category</th>\n",
       "      <th>count</th>\n",
       "    </tr>\n",
       "  </thead>\n",
       "  <tbody>\n",
       "    <tr>\n",
       "      <th>0</th>\n",
       "      <td>Amazon Home</td>\n",
       "      <td>4416</td>\n",
       "    </tr>\n",
       "    <tr>\n",
       "      <th>1</th>\n",
       "      <td>Appliances</td>\n",
       "      <td>586</td>\n",
       "    </tr>\n",
       "    <tr>\n",
       "      <th>2</th>\n",
       "      <td>Grocery</td>\n",
       "      <td>545</td>\n",
       "    </tr>\n",
       "    <tr>\n",
       "      <th>3</th>\n",
       "      <td>Tools &amp; Home Improvement</td>\n",
       "      <td>18</td>\n",
       "    </tr>\n",
       "    <tr>\n",
       "      <th>4</th>\n",
       "      <td>Industrial &amp; Scientific</td>\n",
       "      <td>1</td>\n",
       "    </tr>\n",
       "    <tr>\n",
       "      <th>5</th>\n",
       "      <td>All Beauty</td>\n",
       "      <td>1</td>\n",
       "    </tr>\n",
       "  </tbody>\n",
       "</table>\n",
       "</div>"
      ],
      "text/plain": [
       "              main_category  count\n",
       "0               Amazon Home   4416\n",
       "1                Appliances    586\n",
       "2                   Grocery    545\n",
       "3  Tools & Home Improvement     18\n",
       "4   Industrial & Scientific      1\n",
       "5                All Beauty      1"
      ]
     },
     "execution_count": 158,
     "metadata": {},
     "output_type": "execute_result"
    }
   ],
   "source": [
    "# Top 10 Categories\n",
    "vc_categories = pd.DataFrame(df['main_category'].value_counts()).reset_index()\n",
    "vc_categories[0:n_result]"
   ]
  },
  {
   "cell_type": "code",
   "execution_count": 159,
   "id": "59335865",
   "metadata": {},
   "outputs": [
    {
     "data": {
      "image/png": "[encoded data removed]",
      "text/plain": [
       "<Figure size 500x500 with 1 Axes>"
      ]
     },
     "metadata": {},
     "output_type": "display_data"
    }
   ],
   "source": [
    "# Plot categories\n",
    "sns.set_style('dark', {'axes.grid':False})\n",
    "plt.figure(figsize=(5,5))\n",
    "\n",
    "_ = sns.barplot(data=vc_categories, y='main_category', x='count', color='teal')\n",
    "_.set_title('Items in each category')\n",
    "plt.tight_layout()\n",
    "plt.show()"
   ]
  },
  {
   "cell_type": "markdown",
   "id": "60d8f861",
   "metadata": {},
   "source": [
    "<div class=\"alert alert-block alert-warning\">\n",
    "Extracting True Categories:<br>\n",
    "Use Text Classfication of LLMs to tidy up the categories. \n",
    "Decide whether to drop the null ASINs (in meta but not in reviews)\n",
    "Set a mininmum no. of items for that category to be considered as a major category.\n",
    "</div>"
   ]
  },
  {
   "cell_type": "markdown",
   "id": "e4752aa9",
   "metadata": {},
   "source": [
    "#### Extracting Subcategory"
   ]
  },
  {
   "cell_type": "code",
   "execution_count": 160,
   "id": "ae9b5633",
   "metadata": {},
   "outputs": [
    {
     "data": {
      "text/plain": [
       "np.int64(2)"
      ]
     },
     "execution_count": 160,
     "metadata": {},
     "output_type": "execute_result"
    }
   ],
   "source": [
    "# Extract the last category in the list values in [categories] \n",
    "df_meta['subcategory'] = df_meta['categories'].apply(lambda x: x[-1] if len(x) else None)\n",
    "df_meta.subcategory.isna().sum()"
   ]
  },
  {
   "cell_type": "code",
   "execution_count": 161,
   "id": "cae2f742",
   "metadata": {},
   "outputs": [
    {
     "data": {
      "text/plain": [
       "np.int64(0)"
      ]
     },
     "execution_count": 161,
     "metadata": {},
     "output_type": "execute_result"
    }
   ],
   "source": [
    "# If [categories] is empty, assign value from [main_category]\n",
    "df_meta.subcategory.fillna(df_meta['main_category'], inplace=True)\n",
    "df_meta.subcategory.isna().sum()"
   ]
  },
  {
   "cell_type": "code",
   "execution_count": 162,
   "id": "731cce27",
   "metadata": {},
   "outputs": [
    {
     "data": {
      "image/png": "[encoded data removed]",
      "text/plain": [
       "<Figure size 500x500 with 1 Axes>"
      ]
     },
     "metadata": {},
     "output_type": "display_data"
    }
   ],
   "source": [
    "# Plot subcategories\n",
    "\n",
    "vc_subcategory = df_meta.subcategory.value_counts().reset_index()\n",
    "\n",
    "plt.figure(figsize=(5,5))\n",
    "_ = sns.barplot(data=vc_subcategory, y='subcategory', x='count', color='teal')\n",
    "_.set_title('Count of True categories')\n",
    "plt.tight_layout()\n",
    "plt.show()"
   ]
  },
  {
   "cell_type": "code",
   "execution_count": 163,
   "id": "1b5aa4f1",
   "metadata": {},
   "outputs": [],
   "source": [
    "# Drop the categories column with dictionary values\n",
    "df_meta.drop('categories', axis=1, inplace=True)"
   ]
  },
  {
   "cell_type": "markdown",
   "id": "0c7ec089",
   "metadata": {},
   "source": [
    "### Content-Based Filtering"
   ]
  },
  {
   "cell_type": "markdown",
   "id": "69cc9613",
   "metadata": {},
   "source": [
    "### Recommending Top Rated Items - A solution to Cold-Start problem"
   ]
  },
  {
   "cell_type": "code",
   "execution_count": 164,
   "id": "355c48c0",
   "metadata": {},
   "outputs": [
    {
     "data": {
      "text/html": [
       "<div>\n",
       "<style scoped>\n",
       "    .dataframe tbody tr th:only-of-type {\n",
       "        vertical-align: middle;\n",
       "    }\n",
       "\n",
       "    .dataframe tbody tr th {\n",
       "        vertical-align: top;\n",
       "    }\n",
       "\n",
       "    .dataframe thead th {\n",
       "        text-align: right;\n",
       "    }\n",
       "</style>\n",
       "<table border=\"1\" class=\"dataframe\">\n",
       "  <thead>\n",
       "    <tr style=\"text-align: right;\">\n",
       "      <th></th>\n",
       "      <th>rating</th>\n",
       "      <th>asin</th>\n",
       "      <th>parent_asin</th>\n",
       "      <th>user_id</th>\n",
       "      <th>main_category</th>\n",
       "      <th>title</th>\n",
       "      <th>features</th>\n",
       "      <th>description</th>\n",
       "      <th>store</th>\n",
       "      <th>details</th>\n",
       "      <th>subcategory</th>\n",
       "    </tr>\n",
       "  </thead>\n",
       "  <tbody>\n",
       "    <tr>\n",
       "      <th>0</th>\n",
       "      <td>5</td>\n",
       "      <td>B00LGEKOMS</td>\n",
       "      <td>B07RNJY499</td>\n",
       "      <td>AEDTXOC3YW6O7P2UPM22VNNRF77A</td>\n",
       "      <td>Amazon Home</td>\n",
       "      <td>iPartPlusMore Reusable Coffee Filters Compatib...</td>\n",
       "      <td>[ECO-ALTERNATIVE COFFEE FILTERS: Save up to 80...</td>\n",
       "      <td>[]</td>\n",
       "      <td>iPartsPlusMore</td>\n",
       "      <td>{'Product Dimensions': '1 x 1 x 1 inches', 'It...</td>\n",
       "      <td>Reusable Filters</td>\n",
       "    </tr>\n",
       "    <tr>\n",
       "      <th>1</th>\n",
       "      <td>5</td>\n",
       "      <td>B01DP1IWKU</td>\n",
       "      <td>B092LLM7H3</td>\n",
       "      <td>AE6DFDMIJAVW57EVMRJH2M2X6ACA</td>\n",
       "      <td>Grocery</td>\n",
       "      <td>Reusable coffee pods for Coffee Makers (4 PACK...</td>\n",
       "      <td>[]</td>\n",
       "      <td>[]</td>\n",
       "      <td>Delibru</td>\n",
       "      <td>{'Product Dimensions': '3.94 x 1.97 x 3.94 inc...</td>\n",
       "      <td>Reusable Filters</td>\n",
       "    </tr>\n",
       "    <tr>\n",
       "      <th>2</th>\n",
       "      <td>4</td>\n",
       "      <td>B000DLB2FI</td>\n",
       "      <td>B000DLB2FI</td>\n",
       "      <td>AEVGR67KN3CT4TO5D6HO3WNZGRPA</td>\n",
       "      <td>Amazon Home</td>\n",
       "      <td>Keurig My K-Cup Reusable Coffee Filter - Old M...</td>\n",
       "      <td>[Rinse clean under running water after each us...</td>\n",
       "      <td>[Keurig 5048 My K-Cup Reusable Coffee Filter -...</td>\n",
       "      <td>Keurig</td>\n",
       "      <td>{'Product Dimensions': '3 x 3 x 5 inches', 'It...</td>\n",
       "      <td>Reusable Filters</td>\n",
       "    </tr>\n",
       "    <tr>\n",
       "      <th>3</th>\n",
       "      <td>5</td>\n",
       "      <td>B0001IRRLQ</td>\n",
       "      <td>B0BHNSLKNZ</td>\n",
       "      <td>AFLEUJNQJQOYOYDUJ2PSZ4O2TUJA</td>\n",
       "      <td>Amazon Home</td>\n",
       "      <td>Cuisinart Replacement Water Filters, 2-Pack</td>\n",
       "      <td>[Made of nonwoven polyester and activated char...</td>\n",
       "      <td>[Product Description, Make sure you're brewing...</td>\n",
       "      <td>Cuisinart</td>\n",
       "      <td>{'Material': 'Man-made-material', 'Product Dim...</td>\n",
       "      <td>Permanent Filters</td>\n",
       "    </tr>\n",
       "    <tr>\n",
       "      <th>4</th>\n",
       "      <td>5</td>\n",
       "      <td>B00LGEKOMS</td>\n",
       "      <td>B07RNJY499</td>\n",
       "      <td>AEOVCZC77QZJQPBIAIKCFV7AS7PA</td>\n",
       "      <td>Amazon Home</td>\n",
       "      <td>iPartPlusMore Reusable Coffee Filters Compatib...</td>\n",
       "      <td>[ECO-ALTERNATIVE COFFEE FILTERS: Save up to 80...</td>\n",
       "      <td>[]</td>\n",
       "      <td>iPartsPlusMore</td>\n",
       "      <td>{'Product Dimensions': '1 x 1 x 1 inches', 'It...</td>\n",
       "      <td>Reusable Filters</td>\n",
       "    </tr>\n",
       "  </tbody>\n",
       "</table>\n",
       "</div>"
      ],
      "text/plain": [
       "   rating        asin parent_asin                       user_id main_category  \\\n",
       "0       5  B00LGEKOMS  B07RNJY499  AEDTXOC3YW6O7P2UPM22VNNRF77A   Amazon Home   \n",
       "1       5  B01DP1IWKU  B092LLM7H3  AE6DFDMIJAVW57EVMRJH2M2X6ACA       Grocery   \n",
       "2       4  B000DLB2FI  B000DLB2FI  AEVGR67KN3CT4TO5D6HO3WNZGRPA   Amazon Home   \n",
       "3       5  B0001IRRLQ  B0BHNSLKNZ  AFLEUJNQJQOYOYDUJ2PSZ4O2TUJA   Amazon Home   \n",
       "4       5  B00LGEKOMS  B07RNJY499  AEOVCZC77QZJQPBIAIKCFV7AS7PA   Amazon Home   \n",
       "\n",
       "                                               title  \\\n",
       "0  iPartPlusMore Reusable Coffee Filters Compatib...   \n",
       "1  Reusable coffee pods for Coffee Makers (4 PACK...   \n",
       "2  Keurig My K-Cup Reusable Coffee Filter - Old M...   \n",
       "3        Cuisinart Replacement Water Filters, 2-Pack   \n",
       "4  iPartPlusMore Reusable Coffee Filters Compatib...   \n",
       "\n",
       "                                            features  \\\n",
       "0  [ECO-ALTERNATIVE COFFEE FILTERS: Save up to 80...   \n",
       "1                                                 []   \n",
       "2  [Rinse clean under running water after each us...   \n",
       "3  [Made of nonwoven polyester and activated char...   \n",
       "4  [ECO-ALTERNATIVE COFFEE FILTERS: Save up to 80...   \n",
       "\n",
       "                                         description           store  \\\n",
       "0                                                 []  iPartsPlusMore   \n",
       "1                                                 []         Delibru   \n",
       "2  [Keurig 5048 My K-Cup Reusable Coffee Filter -...          Keurig   \n",
       "3  [Product Description, Make sure you're brewing...       Cuisinart   \n",
       "4                                                 []  iPartsPlusMore   \n",
       "\n",
       "                                             details        subcategory  \n",
       "0  {'Product Dimensions': '1 x 1 x 1 inches', 'It...   Reusable Filters  \n",
       "1  {'Product Dimensions': '3.94 x 1.97 x 3.94 inc...   Reusable Filters  \n",
       "2  {'Product Dimensions': '3 x 3 x 5 inches', 'It...   Reusable Filters  \n",
       "3  {'Material': 'Man-made-material', 'Product Dim...  Permanent Filters  \n",
       "4  {'Product Dimensions': '1 x 1 x 1 inches', 'It...   Reusable Filters  "
      ]
     },
     "execution_count": 164,
     "metadata": {},
     "output_type": "execute_result"
    }
   ],
   "source": [
    "# Re-merge updated meta with ratings\n",
    "\n",
    "df = df_ratings.merge(df_meta, how='left', on='parent_asin')\n",
    "df.head(5)"
   ]
  },
  {
   "cell_type": "code",
   "execution_count": 165,
   "id": "c0981146",
   "metadata": {},
   "outputs": [
    {
     "data": {
      "text/plain": [
       "(5547, 11)"
      ]
     },
     "execution_count": 165,
     "metadata": {},
     "output_type": "execute_result"
    }
   ],
   "source": [
    "df.shape"
   ]
  },
  {
   "cell_type": "markdown",
   "id": "82357ce0",
   "metadata": {},
   "source": [
    "#### Top 10 Frequently rated"
   ]
  },
  {
   "cell_type": "code",
   "execution_count": 166,
   "id": "e5758747",
   "metadata": {},
   "outputs": [
    {
     "data": {
      "text/html": [
       "<div>\n",
       "<style scoped>\n",
       "    .dataframe tbody tr th:only-of-type {\n",
       "        vertical-align: middle;\n",
       "    }\n",
       "\n",
       "    .dataframe tbody tr th {\n",
       "        vertical-align: top;\n",
       "    }\n",
       "\n",
       "    .dataframe thead th {\n",
       "        text-align: right;\n",
       "    }\n",
       "</style>\n",
       "<table border=\"1\" class=\"dataframe\">\n",
       "  <thead>\n",
       "    <tr style=\"text-align: right;\">\n",
       "      <th></th>\n",
       "      <th>parent_asin</th>\n",
       "      <th>title</th>\n",
       "      <th>main_category</th>\n",
       "      <th>subcategory</th>\n",
       "      <th>count</th>\n",
       "    </tr>\n",
       "  </thead>\n",
       "  <tbody>\n",
       "    <tr>\n",
       "      <th>0</th>\n",
       "      <td>B07RNJY499</td>\n",
       "      <td>iPartPlusMore Reusable Coffee Filters Compatib...</td>\n",
       "      <td>Amazon Home</td>\n",
       "      <td>Reusable Filters</td>\n",
       "      <td>1329</td>\n",
       "    </tr>\n",
       "    <tr>\n",
       "      <th>1</th>\n",
       "      <td>B0B3DB5HTC</td>\n",
       "      <td>12 Pack Keurig Filter Replacement by K&amp;J - Com...</td>\n",
       "      <td>Amazon Home</td>\n",
       "      <td>Disposable Filters</td>\n",
       "      <td>1220</td>\n",
       "    </tr>\n",
       "    <tr>\n",
       "      <th>2</th>\n",
       "      <td>B000DLB2FI</td>\n",
       "      <td>Keurig My K-Cup Reusable Coffee Filter - Old M...</td>\n",
       "      <td>Amazon Home</td>\n",
       "      <td>Reusable Filters</td>\n",
       "      <td>681</td>\n",
       "    </tr>\n",
       "    <tr>\n",
       "      <th>3</th>\n",
       "      <td>B0BHNSLKNZ</td>\n",
       "      <td>Cuisinart Replacement Water Filters, 2-Pack</td>\n",
       "      <td>Amazon Home</td>\n",
       "      <td>Permanent Filters</td>\n",
       "      <td>605</td>\n",
       "    </tr>\n",
       "    <tr>\n",
       "      <th>4</th>\n",
       "      <td>B07P3Y8JWY</td>\n",
       "      <td>Disposable Paper Coffee Filters 600 count - Co...</td>\n",
       "      <td>Amazon Home</td>\n",
       "      <td>Reusable Filters</td>\n",
       "      <td>577</td>\n",
       "    </tr>\n",
       "    <tr>\n",
       "      <th>5</th>\n",
       "      <td>B0045LLC7K</td>\n",
       "      <td>Frigidaire WF3CB Puresource3 Refrigerator Wate...</td>\n",
       "      <td>Appliances</td>\n",
       "      <td>Water Filters</td>\n",
       "      <td>574</td>\n",
       "    </tr>\n",
       "    <tr>\n",
       "      <th>6</th>\n",
       "      <td>B092LLM7H3</td>\n",
       "      <td>Reusable coffee pods for Coffee Makers (4 PACK...</td>\n",
       "      <td>Grocery</td>\n",
       "      <td>Reusable Filters</td>\n",
       "      <td>545</td>\n",
       "    </tr>\n",
       "    <tr>\n",
       "      <th>7</th>\n",
       "      <td>B01IAFNZGC</td>\n",
       "      <td>EXCELPURE 5231JA2006A Replacement for LG LT600...</td>\n",
       "      <td>Tools &amp; Home Improvement</td>\n",
       "      <td>Water Filters</td>\n",
       "      <td>10</td>\n",
       "    </tr>\n",
       "    <tr>\n",
       "      <th>8</th>\n",
       "      <td>B0BJ2CJTB5</td>\n",
       "      <td>Mini Washing Machine Portable Turbine Washer w...</td>\n",
       "      <td>Appliances</td>\n",
       "      <td>Portable Washers</td>\n",
       "      <td>5</td>\n",
       "    </tr>\n",
       "    <tr>\n",
       "      <th>9</th>\n",
       "      <td>B01DMRHDZ2</td>\n",
       "      <td>ClimaTek Gas Oven Range Stove Ignitor Igniter ...</td>\n",
       "      <td>Industrial &amp; Scientific</td>\n",
       "      <td>Parts &amp; Accessories</td>\n",
       "      <td>1</td>\n",
       "    </tr>\n",
       "  </tbody>\n",
       "</table>\n",
       "</div>"
      ],
      "text/plain": [
       "  parent_asin                                              title  \\\n",
       "0  B07RNJY499  iPartPlusMore Reusable Coffee Filters Compatib...   \n",
       "1  B0B3DB5HTC  12 Pack Keurig Filter Replacement by K&J - Com...   \n",
       "2  B000DLB2FI  Keurig My K-Cup Reusable Coffee Filter - Old M...   \n",
       "3  B0BHNSLKNZ        Cuisinart Replacement Water Filters, 2-Pack   \n",
       "4  B07P3Y8JWY  Disposable Paper Coffee Filters 600 count - Co...   \n",
       "5  B0045LLC7K  Frigidaire WF3CB Puresource3 Refrigerator Wate...   \n",
       "6  B092LLM7H3  Reusable coffee pods for Coffee Makers (4 PACK...   \n",
       "7  B01IAFNZGC  EXCELPURE 5231JA2006A Replacement for LG LT600...   \n",
       "8  B0BJ2CJTB5  Mini Washing Machine Portable Turbine Washer w...   \n",
       "9  B01DMRHDZ2  ClimaTek Gas Oven Range Stove Ignitor Igniter ...   \n",
       "\n",
       "              main_category          subcategory  count  \n",
       "0               Amazon Home     Reusable Filters   1329  \n",
       "1               Amazon Home   Disposable Filters   1220  \n",
       "2               Amazon Home     Reusable Filters    681  \n",
       "3               Amazon Home    Permanent Filters    605  \n",
       "4               Amazon Home     Reusable Filters    577  \n",
       "5                Appliances        Water Filters    574  \n",
       "6                   Grocery     Reusable Filters    545  \n",
       "7  Tools & Home Improvement        Water Filters     10  \n",
       "8                Appliances     Portable Washers      5  \n",
       "9   Industrial & Scientific  Parts & Accessories      1  "
      ]
     },
     "execution_count": 166,
     "metadata": {},
     "output_type": "execute_result"
    }
   ],
   "source": [
    "# Top 10 Frequently Rated\n",
    "n_result = 10\n",
    "df_most_rated = pd.DataFrame(df[['parent_asin', 'title', 'main_category', 'subcategory']].value_counts()[0:n_result]).reset_index()\n",
    "df_most_rated"
   ]
  },
  {
   "cell_type": "markdown",
   "id": "0e8daaa7",
   "metadata": {},
   "source": [
    "#### Top 10 Highly Rated"
   ]
  },
  {
   "cell_type": "code",
   "execution_count": 167,
   "id": "188f343c",
   "metadata": {},
   "outputs": [
    {
     "data": {
      "text/html": [
       "<div>\n",
       "<style scoped>\n",
       "    .dataframe tbody tr th:only-of-type {\n",
       "        vertical-align: middle;\n",
       "    }\n",
       "\n",
       "    .dataframe tbody tr th {\n",
       "        vertical-align: top;\n",
       "    }\n",
       "\n",
       "    .dataframe thead th {\n",
       "        text-align: right;\n",
       "    }\n",
       "</style>\n",
       "<table border=\"1\" class=\"dataframe\">\n",
       "  <thead>\n",
       "    <tr style=\"text-align: right;\">\n",
       "      <th></th>\n",
       "      <th>parent_asin</th>\n",
       "      <th>title</th>\n",
       "      <th>main_category</th>\n",
       "      <th>subcategory</th>\n",
       "      <th>count</th>\n",
       "      <th>mean</th>\n",
       "    </tr>\n",
       "  </thead>\n",
       "  <tbody>\n",
       "    <tr>\n",
       "      <th>3</th>\n",
       "      <td>B01IAFNZGC</td>\n",
       "      <td>EXCELPURE 5231JA2006A Replacement for LG LT600...</td>\n",
       "      <td>Tools &amp; Home Improvement</td>\n",
       "      <td>Water Filters</td>\n",
       "      <td>10</td>\n",
       "      <td>5.000000</td>\n",
       "    </tr>\n",
       "    <tr>\n",
       "      <th>7</th>\n",
       "      <td>B0B3DB5HTC</td>\n",
       "      <td>12 Pack Keurig Filter Replacement by K&amp;J - Com...</td>\n",
       "      <td>Amazon Home</td>\n",
       "      <td>Disposable Filters</td>\n",
       "      <td>1220</td>\n",
       "      <td>4.890984</td>\n",
       "    </tr>\n",
       "    <tr>\n",
       "      <th>6</th>\n",
       "      <td>B092LLM7H3</td>\n",
       "      <td>Reusable coffee pods for Coffee Makers (4 PACK...</td>\n",
       "      <td>Grocery</td>\n",
       "      <td>Reusable Filters</td>\n",
       "      <td>545</td>\n",
       "      <td>4.502752</td>\n",
       "    </tr>\n",
       "    <tr>\n",
       "      <th>8</th>\n",
       "      <td>B0BHNSLKNZ</td>\n",
       "      <td>Cuisinart Replacement Water Filters, 2-Pack</td>\n",
       "      <td>Amazon Home</td>\n",
       "      <td>Permanent Filters</td>\n",
       "      <td>605</td>\n",
       "      <td>4.419835</td>\n",
       "    </tr>\n",
       "    <tr>\n",
       "      <th>1</th>\n",
       "      <td>B0045LLC7K</td>\n",
       "      <td>Frigidaire WF3CB Puresource3 Refrigerator Wate...</td>\n",
       "      <td>Appliances</td>\n",
       "      <td>Water Filters</td>\n",
       "      <td>574</td>\n",
       "      <td>4.397213</td>\n",
       "    </tr>\n",
       "    <tr>\n",
       "      <th>5</th>\n",
       "      <td>B07RNJY499</td>\n",
       "      <td>iPartPlusMore Reusable Coffee Filters Compatib...</td>\n",
       "      <td>Amazon Home</td>\n",
       "      <td>Reusable Filters</td>\n",
       "      <td>1329</td>\n",
       "      <td>4.263356</td>\n",
       "    </tr>\n",
       "    <tr>\n",
       "      <th>4</th>\n",
       "      <td>B07P3Y8JWY</td>\n",
       "      <td>Disposable Paper Coffee Filters 600 count - Co...</td>\n",
       "      <td>Amazon Home</td>\n",
       "      <td>Reusable Filters</td>\n",
       "      <td>577</td>\n",
       "      <td>4.235702</td>\n",
       "    </tr>\n",
       "    <tr>\n",
       "      <th>0</th>\n",
       "      <td>B000DLB2FI</td>\n",
       "      <td>Keurig My K-Cup Reusable Coffee Filter - Old M...</td>\n",
       "      <td>Amazon Home</td>\n",
       "      <td>Reusable Filters</td>\n",
       "      <td>681</td>\n",
       "      <td>3.979442</td>\n",
       "    </tr>\n",
       "    <tr>\n",
       "      <th>9</th>\n",
       "      <td>B0BJ2CJTB5</td>\n",
       "      <td>Mini Washing Machine Portable Turbine Washer w...</td>\n",
       "      <td>Appliances</td>\n",
       "      <td>Portable Washers</td>\n",
       "      <td>5</td>\n",
       "      <td>1.400000</td>\n",
       "    </tr>\n",
       "    <tr>\n",
       "      <th>2</th>\n",
       "      <td>B01DMRHDZ2</td>\n",
       "      <td>ClimaTek Gas Oven Range Stove Ignitor Igniter ...</td>\n",
       "      <td>Industrial &amp; Scientific</td>\n",
       "      <td>Parts &amp; Accessories</td>\n",
       "      <td>1</td>\n",
       "      <td>1.000000</td>\n",
       "    </tr>\n",
       "  </tbody>\n",
       "</table>\n",
       "</div>"
      ],
      "text/plain": [
       "  parent_asin                                              title  \\\n",
       "3  B01IAFNZGC  EXCELPURE 5231JA2006A Replacement for LG LT600...   \n",
       "7  B0B3DB5HTC  12 Pack Keurig Filter Replacement by K&J - Com...   \n",
       "6  B092LLM7H3  Reusable coffee pods for Coffee Makers (4 PACK...   \n",
       "8  B0BHNSLKNZ        Cuisinart Replacement Water Filters, 2-Pack   \n",
       "1  B0045LLC7K  Frigidaire WF3CB Puresource3 Refrigerator Wate...   \n",
       "5  B07RNJY499  iPartPlusMore Reusable Coffee Filters Compatib...   \n",
       "4  B07P3Y8JWY  Disposable Paper Coffee Filters 600 count - Co...   \n",
       "0  B000DLB2FI  Keurig My K-Cup Reusable Coffee Filter - Old M...   \n",
       "9  B0BJ2CJTB5  Mini Washing Machine Portable Turbine Washer w...   \n",
       "2  B01DMRHDZ2  ClimaTek Gas Oven Range Stove Ignitor Igniter ...   \n",
       "\n",
       "              main_category          subcategory  count      mean  \n",
       "3  Tools & Home Improvement        Water Filters     10  5.000000  \n",
       "7               Amazon Home   Disposable Filters   1220  4.890984  \n",
       "6                   Grocery     Reusable Filters    545  4.502752  \n",
       "8               Amazon Home    Permanent Filters    605  4.419835  \n",
       "1                Appliances        Water Filters    574  4.397213  \n",
       "5               Amazon Home     Reusable Filters   1329  4.263356  \n",
       "4               Amazon Home     Reusable Filters    577  4.235702  \n",
       "0               Amazon Home     Reusable Filters    681  3.979442  \n",
       "9                Appliances     Portable Washers      5  1.400000  \n",
       "2   Industrial & Scientific  Parts & Accessories      1  1.000000  "
      ]
     },
     "execution_count": 167,
     "metadata": {},
     "output_type": "execute_result"
    }
   ],
   "source": [
    "# Sort ratings then count. Not the ideal way to \n",
    "\n",
    "prod_stats = df.groupby(['parent_asin', 'title', 'main_category', 'subcategory'])['rating']\\\n",
    "        .agg(['count', 'mean'])\\\n",
    "        .reset_index()\\\n",
    "        .sort_values(['mean', 'count'], ascending=False)\n",
    "\n",
    "prod_stats.head(n_result)"
   ]
  },
  {
   "cell_type": "markdown",
   "id": "716a84c1",
   "metadata": {},
   "source": [
    "##### Calculating Bayesian Average of Ratings"
   ]
  },
  {
   "cell_type": "code",
   "execution_count": 168,
   "id": "ac18c66f",
   "metadata": {},
   "outputs": [
    {
     "name": "stdout",
     "output_type": "stream",
     "text": [
      "Confidence : 554.7\n",
      "Priori: 3.808928296460555\n"
     ]
    }
   ],
   "source": [
    "# c_confidence:  typical dataset size or average number(or count) of ratings for a given movie\n",
    "c_confidence = prod_stats['count'].mean()\n",
    "\n",
    "# m_priori :  mean rating across all products\n",
    "m_priori = prod_stats['mean'].mean()\n",
    "\n",
    "print(f'Confidence : {c_confidence}')\n",
    "print(f'Priori: {m_priori}')"
   ]
  },
  {
   "cell_type": "code",
   "execution_count": 169,
   "id": "dc3b8e62",
   "metadata": {},
   "outputs": [],
   "source": [
    "def bayesian_average(l_ratings):\n",
    "    \"\"\"\n",
    "    Calculate the Bayesian average rating for a product.\n",
    "    Args:\n",
    "        l_ratings (pd.Series): Series of ratings for a product.\n",
    "    Returns:\n",
    "        float: Bayesian average rating.\n",
    "    \"\"\"\n",
    "    bayes_avg =  ( (c_confidence * m_priori) + l_ratings.sum() )/ ( c_confidence + l_ratings.count())\n",
    "    return round(bayes_avg, 3)"
   ]
  },
  {
   "cell_type": "code",
   "execution_count": 170,
   "id": "8331b6d8",
   "metadata": {},
   "outputs": [
    {
     "data": {
      "text/html": [
       "<div>\n",
       "<style scoped>\n",
       "    .dataframe tbody tr th:only-of-type {\n",
       "        vertical-align: middle;\n",
       "    }\n",
       "\n",
       "    .dataframe tbody tr th {\n",
       "        vertical-align: top;\n",
       "    }\n",
       "\n",
       "    .dataframe thead th {\n",
       "        text-align: right;\n",
       "    }\n",
       "</style>\n",
       "<table border=\"1\" class=\"dataframe\">\n",
       "  <thead>\n",
       "    <tr style=\"text-align: right;\">\n",
       "      <th></th>\n",
       "      <th>asin</th>\n",
       "      <th>main_category</th>\n",
       "      <th>subcategory</th>\n",
       "      <th>title</th>\n",
       "      <th>rating</th>\n",
       "    </tr>\n",
       "  </thead>\n",
       "  <tbody>\n",
       "    <tr>\n",
       "      <th>14</th>\n",
       "      <td>B01DLEL4EM</td>\n",
       "      <td>Amazon Home</td>\n",
       "      <td>Disposable Filters</td>\n",
       "      <td>12 Pack Keurig Filter Replacement by K&amp;J - Com...</td>\n",
       "      <td>4.485</td>\n",
       "    </tr>\n",
       "    <tr>\n",
       "      <th>17</th>\n",
       "      <td>B01GAGM62M</td>\n",
       "      <td>Amazon Home</td>\n",
       "      <td>Disposable Filters</td>\n",
       "      <td>12 Pack Keurig Filter Replacement by K&amp;J - Com...</td>\n",
       "      <td>4.185</td>\n",
       "    </tr>\n",
       "    <tr>\n",
       "      <th>16</th>\n",
       "      <td>B01DP1IWKU</td>\n",
       "      <td>Grocery</td>\n",
       "      <td>Reusable Filters</td>\n",
       "      <td>Reusable coffee pods for Coffee Makers (4 PACK...</td>\n",
       "      <td>4.149</td>\n",
       "    </tr>\n",
       "    <tr>\n",
       "      <th>8</th>\n",
       "      <td>B0045LLC7K</td>\n",
       "      <td>Appliances</td>\n",
       "      <td>Water Filters</td>\n",
       "      <td>Frigidaire WF3CB Puresource3 Refrigerator Wate...</td>\n",
       "      <td>4.108</td>\n",
       "    </tr>\n",
       "    <tr>\n",
       "      <th>11</th>\n",
       "      <td>B00LGEKOMS</td>\n",
       "      <td>Amazon Home</td>\n",
       "      <td>Reusable Filters</td>\n",
       "      <td>iPartPlusMore Reusable Coffee Filters Compatib...</td>\n",
       "      <td>4.036</td>\n",
       "    </tr>\n",
       "    <tr>\n",
       "      <th>1</th>\n",
       "      <td>B0001IRRLG</td>\n",
       "      <td>Amazon Home</td>\n",
       "      <td>Permanent Filters</td>\n",
       "      <td>Cuisinart Replacement Water Filters, 2-Pack</td>\n",
       "      <td>4.011</td>\n",
       "    </tr>\n",
       "    <tr>\n",
       "      <th>10</th>\n",
       "      <td>B00BUFJBQS</td>\n",
       "      <td>Amazon Home</td>\n",
       "      <td>Reusable Filters</td>\n",
       "      <td>Disposable Paper Coffee Filters 600 count - Co...</td>\n",
       "      <td>4.009</td>\n",
       "    </tr>\n",
       "    <tr>\n",
       "      <th>13</th>\n",
       "      <td>B01AUBYMK2</td>\n",
       "      <td>Amazon Home</td>\n",
       "      <td>Reusable Filters</td>\n",
       "      <td>iPartPlusMore Reusable Coffee Filters Compatib...</td>\n",
       "      <td>3.963</td>\n",
       "    </tr>\n",
       "    <tr>\n",
       "      <th>6</th>\n",
       "      <td>B000TETMVK</td>\n",
       "      <td>Amazon Home</td>\n",
       "      <td>Permanent Filters</td>\n",
       "      <td>Cuisinart Replacement Water Filters, 2-Pack</td>\n",
       "      <td>3.950</td>\n",
       "    </tr>\n",
       "    <tr>\n",
       "      <th>19</th>\n",
       "      <td>B06X9RFT2J</td>\n",
       "      <td>Amazon Home</td>\n",
       "      <td>Reusable Filters</td>\n",
       "      <td>iPartPlusMore Reusable Coffee Filters Compatib...</td>\n",
       "      <td>3.946</td>\n",
       "    </tr>\n",
       "  </tbody>\n",
       "</table>\n",
       "</div>"
      ],
      "text/plain": [
       "          asin main_category         subcategory  \\\n",
       "14  B01DLEL4EM   Amazon Home  Disposable Filters   \n",
       "17  B01GAGM62M   Amazon Home  Disposable Filters   \n",
       "16  B01DP1IWKU       Grocery    Reusable Filters   \n",
       "8   B0045LLC7K    Appliances       Water Filters   \n",
       "11  B00LGEKOMS   Amazon Home    Reusable Filters   \n",
       "1   B0001IRRLG   Amazon Home   Permanent Filters   \n",
       "10  B00BUFJBQS   Amazon Home    Reusable Filters   \n",
       "13  B01AUBYMK2   Amazon Home    Reusable Filters   \n",
       "6   B000TETMVK   Amazon Home   Permanent Filters   \n",
       "19  B06X9RFT2J   Amazon Home    Reusable Filters   \n",
       "\n",
       "                                                title  rating  \n",
       "14  12 Pack Keurig Filter Replacement by K&J - Com...   4.485  \n",
       "17  12 Pack Keurig Filter Replacement by K&J - Com...   4.185  \n",
       "16  Reusable coffee pods for Coffee Makers (4 PACK...   4.149  \n",
       "8   Frigidaire WF3CB Puresource3 Refrigerator Wate...   4.108  \n",
       "11  iPartPlusMore Reusable Coffee Filters Compatib...   4.036  \n",
       "1         Cuisinart Replacement Water Filters, 2-Pack   4.011  \n",
       "10  Disposable Paper Coffee Filters 600 count - Co...   4.009  \n",
       "13  iPartPlusMore Reusable Coffee Filters Compatib...   3.963  \n",
       "6         Cuisinart Replacement Water Filters, 2-Pack   3.950  \n",
       "19  iPartPlusMore Reusable Coffee Filters Compatib...   3.946  "
      ]
     },
     "execution_count": 170,
     "metadata": {},
     "output_type": "execute_result"
    }
   ],
   "source": [
    "# Get the bayesian average in prod_stats\n",
    "bayesian_ratings = df.groupby(['asin', 'main_category', 'subcategory', 'title'])['rating'].agg(bayesian_average).reset_index().sort_values('rating', ascending=False)\n",
    "bayesian_ratings[0:n_result]"
   ]
  },
  {
   "cell_type": "markdown",
   "id": "4b417f78",
   "metadata": {},
   "source": [
    "#### Feature Text Preparation"
   ]
  },
  {
   "cell_type": "code",
   "execution_count": 171,
   "id": "ff4d2c89",
   "metadata": {},
   "outputs": [
    {
     "data": {
      "text/plain": [
       "main_category    0\n",
       "title            0\n",
       "features         0\n",
       "description      0\n",
       "store            0\n",
       "details          0\n",
       "parent_asin      0\n",
       "subcategory      0\n",
       "dtype: int64"
      ]
     },
     "execution_count": 171,
     "metadata": {},
     "output_type": "execute_result"
    }
   ],
   "source": [
    "df_meta.isna().sum()"
   ]
  },
  {
   "cell_type": "markdown",
   "id": "598d37e3",
   "metadata": {},
   "source": [
    "Feature Texts = ASIN + TITLE + DETAILS['Brand or Manufacturer]"
   ]
  },
  {
   "cell_type": "code",
   "execution_count": 172,
   "id": "bd6aa161",
   "metadata": {},
   "outputs": [],
   "source": [
    "# Backup meta\n",
    "df_meta_c = df_meta.copy(deep=True)"
   ]
  },
  {
   "cell_type": "code",
   "execution_count": 173,
   "id": "09714515",
   "metadata": {},
   "outputs": [],
   "source": [
    "# Create new column [maker] and assign/extract brand or manufacturer from {details} \n",
    "df_meta['maker'] = df_meta['details'].apply(lambda x: x.get('Brand') if not x else x.get('Manufacturer'))"
   ]
  },
  {
   "cell_type": "code",
   "execution_count": 174,
   "id": "5fcef9d0",
   "metadata": {},
   "outputs": [
    {
     "data": {
      "text/plain": [
       "np.int64(0)"
      ]
     },
     "execution_count": 174,
     "metadata": {},
     "output_type": "execute_result"
    }
   ],
   "source": [
    "# If [details] have no dict{} values, assign the [store] value\n",
    "df_meta.maker.fillna(df_meta['store'], inplace=True)\n",
    "df_meta.maker.isna().sum()"
   ]
  },
  {
   "cell_type": "code",
   "execution_count": 175,
   "id": "706362c5",
   "metadata": {},
   "outputs": [
    {
     "data": {
      "text/html": [
       "<div>\n",
       "<style scoped>\n",
       "    .dataframe tbody tr th:only-of-type {\n",
       "        vertical-align: middle;\n",
       "    }\n",
       "\n",
       "    .dataframe tbody tr th {\n",
       "        vertical-align: top;\n",
       "    }\n",
       "\n",
       "    .dataframe thead th {\n",
       "        text-align: right;\n",
       "    }\n",
       "</style>\n",
       "<table border=\"1\" class=\"dataframe\">\n",
       "  <thead>\n",
       "    <tr style=\"text-align: right;\">\n",
       "      <th></th>\n",
       "      <th>main_category</th>\n",
       "      <th>title</th>\n",
       "      <th>store</th>\n",
       "      <th>maker</th>\n",
       "    </tr>\n",
       "  </thead>\n",
       "  <tbody>\n",
       "    <tr>\n",
       "      <th>0</th>\n",
       "      <td>Amazon Home</td>\n",
       "      <td>Cuisinart Replacement Water Filters, 2-Pack</td>\n",
       "      <td>Cuisinart</td>\n",
       "      <td>Cuisinart</td>\n",
       "    </tr>\n",
       "    <tr>\n",
       "      <th>1</th>\n",
       "      <td>Amazon Home</td>\n",
       "      <td>12 Pack Keurig Filter Replacement by K&amp;J - Com...</td>\n",
       "      <td>K&amp;J</td>\n",
       "      <td>K&amp;J</td>\n",
       "    </tr>\n",
       "    <tr>\n",
       "      <th>2</th>\n",
       "      <td>Grocery</td>\n",
       "      <td>Reusable coffee pods for Coffee Makers (4 PACK...</td>\n",
       "      <td>Delibru</td>\n",
       "      <td>Delibru</td>\n",
       "    </tr>\n",
       "    <tr>\n",
       "      <th>3</th>\n",
       "      <td>Amazon Home</td>\n",
       "      <td>Disposable Paper Coffee Filters 600 count - Co...</td>\n",
       "      <td>SIMPLECUPS</td>\n",
       "      <td>Simple Cups</td>\n",
       "    </tr>\n",
       "    <tr>\n",
       "      <th>4</th>\n",
       "      <td>Amazon Home</td>\n",
       "      <td>iPartPlusMore Reusable Coffee Filters Compatib...</td>\n",
       "      <td>iPartsPlusMore</td>\n",
       "      <td>iPartsPlusMore</td>\n",
       "    </tr>\n",
       "  </tbody>\n",
       "</table>\n",
       "</div>"
      ],
      "text/plain": [
       "  main_category                                              title  \\\n",
       "0   Amazon Home        Cuisinart Replacement Water Filters, 2-Pack   \n",
       "1   Amazon Home  12 Pack Keurig Filter Replacement by K&J - Com...   \n",
       "2       Grocery  Reusable coffee pods for Coffee Makers (4 PACK...   \n",
       "3   Amazon Home  Disposable Paper Coffee Filters 600 count - Co...   \n",
       "4   Amazon Home  iPartPlusMore Reusable Coffee Filters Compatib...   \n",
       "\n",
       "            store           maker  \n",
       "0       Cuisinart       Cuisinart  \n",
       "1             K&J             K&J  \n",
       "2         Delibru         Delibru  \n",
       "3      SIMPLECUPS     Simple Cups  \n",
       "4  iPartsPlusMore  iPartsPlusMore  "
      ]
     },
     "execution_count": 175,
     "metadata": {},
     "output_type": "execute_result"
    }
   ],
   "source": [
    "df_meta[['main_category', 'title', 'store', 'maker']].head()"
   ]
  },
  {
   "cell_type": "markdown",
   "id": "ebe08fdc",
   "metadata": {},
   "source": [
    "#### Word counts"
   ]
  },
  {
   "cell_type": "markdown",
   "id": "258d3206",
   "metadata": {},
   "source": [
    "Analyze the word counts in title, description, store and details.\n"
   ]
  },
  {
   "cell_type": "code",
   "execution_count": 176,
   "id": "f6817343",
   "metadata": {},
   "outputs": [],
   "source": [
    "# Transform [description] and features list to a stream of str \n",
    "df_meta['description'] = df_meta['description'].apply(lambda x: ' '.join(x))\n",
    "df_meta['features'] = df_meta['features'].apply(lambda x: ' '.join(x))"
   ]
  },
  {
   "cell_type": "code",
   "execution_count": 177,
   "id": "e5565cd7",
   "metadata": {},
   "outputs": [],
   "source": [
    "# Drop categories and details - for now\n",
    "df_meta.drop('details', axis=1, inplace=True)"
   ]
  },
  {
   "cell_type": "code",
   "execution_count": 178,
   "id": "fef21514",
   "metadata": {},
   "outputs": [],
   "source": [
    "# cols_object = df_meta.select_dtypes(include='object').columns\n",
    "cols_object = ['title', 'description', 'features']"
   ]
  },
  {
   "cell_type": "code",
   "execution_count": 179,
   "id": "b9886627",
   "metadata": {},
   "outputs": [
    {
     "data": {
      "image/png": "[encoded data removed]",
      "text/plain": [
       "<Figure size 500x300 with 1 Axes>"
      ]
     },
     "metadata": {},
     "output_type": "display_data"
    },
    {
     "data": {
      "image/png": "[encoded data removed]",
      "text/plain": [
       "<Figure size 500x300 with 1 Axes>"
      ]
     },
     "metadata": {},
     "output_type": "display_data"
    },
    {
     "data": {
      "image/png": "[encoded data removed]",
      "text/plain": [
       "<Figure size 500x300 with 1 Axes>"
      ]
     },
     "metadata": {},
     "output_type": "display_data"
    }
   ],
   "source": [
    "# Count words for columns of interests.\n",
    "for col in cols_object:\n",
    "\n",
    "    word_ct = df_meta[col].str.split().str.len()\n",
    "\n",
    "    sns.set_style('dark')\n",
    "    plt.figure(figsize=(5,3))\n",
    "\n",
    "    hist = sns.histplot(x=word_ct, bins=10)\n",
    "    hist.set_title(f'Word Count for {col} column')\n",
    "    plt.show()"
   ]
  },
  {
   "cell_type": "markdown",
   "id": "480c517f",
   "metadata": {},
   "source": [
    "## PRE-PROCESSING"
   ]
  },
  {
   "cell_type": "markdown",
   "id": "be17c1a8",
   "metadata": {},
   "source": [
    "##### Prep [details] and [store] for feature group in merged dataframe"
   ]
  },
  {
   "cell_type": "markdown",
   "id": "f2a20781",
   "metadata": {},
   "source": [
    "> Note: For feature group [parent_asin] was used because products that have not been reviewed does not have a corresponding [asin]"
   ]
  },
  {
   "cell_type": "code",
   "execution_count": 180,
   "id": "07e65623",
   "metadata": {},
   "outputs": [
    {
     "data": {
      "text/html": [
       "<div>\n",
       "<style scoped>\n",
       "    .dataframe tbody tr th:only-of-type {\n",
       "        vertical-align: middle;\n",
       "    }\n",
       "\n",
       "    .dataframe tbody tr th {\n",
       "        vertical-align: top;\n",
       "    }\n",
       "\n",
       "    .dataframe thead th {\n",
       "        text-align: right;\n",
       "    }\n",
       "</style>\n",
       "<table border=\"1\" class=\"dataframe\">\n",
       "  <thead>\n",
       "    <tr style=\"text-align: right;\">\n",
       "      <th></th>\n",
       "      <th>main_category</th>\n",
       "      <th>title</th>\n",
       "      <th>features</th>\n",
       "      <th>description</th>\n",
       "      <th>store</th>\n",
       "      <th>parent_asin</th>\n",
       "      <th>subcategory</th>\n",
       "      <th>maker</th>\n",
       "    </tr>\n",
       "  </thead>\n",
       "  <tbody>\n",
       "    <tr>\n",
       "      <th>0</th>\n",
       "      <td>Amazon Home</td>\n",
       "      <td>Cuisinart Replacement Water Filters, 2-Pack</td>\n",
       "      <td>Made of nonwoven polyester and activated charc...</td>\n",
       "      <td>Product Description Make sure you're brewing t...</td>\n",
       "      <td>Cuisinart</td>\n",
       "      <td>B0BHNSLKNZ</td>\n",
       "      <td>Permanent Filters</td>\n",
       "      <td>Cuisinart</td>\n",
       "    </tr>\n",
       "    <tr>\n",
       "      <th>1</th>\n",
       "      <td>Amazon Home</td>\n",
       "      <td>12 Pack Keurig Filter Replacement by K&amp;J - Com...</td>\n",
       "      <td>PERFECT FIT - These Keurig-compatible replacem...</td>\n",
       "      <td></td>\n",
       "      <td>K&amp;J</td>\n",
       "      <td>B0B3DB5HTC</td>\n",
       "      <td>Disposable Filters</td>\n",
       "      <td>K&amp;J</td>\n",
       "    </tr>\n",
       "    <tr>\n",
       "      <th>2</th>\n",
       "      <td>Grocery</td>\n",
       "      <td>Reusable coffee pods for Coffee Makers (4 PACK...</td>\n",
       "      <td></td>\n",
       "      <td></td>\n",
       "      <td>Delibru</td>\n",
       "      <td>B092LLM7H3</td>\n",
       "      <td>Reusable Filters</td>\n",
       "      <td>Delibru</td>\n",
       "    </tr>\n",
       "    <tr>\n",
       "      <th>3</th>\n",
       "      <td>Amazon Home</td>\n",
       "      <td>Disposable Paper Coffee Filters 600 count - Co...</td>\n",
       "      <td>Compatible with Solofill, Solo Filters, EZ-Cup...</td>\n",
       "      <td></td>\n",
       "      <td>SIMPLECUPS</td>\n",
       "      <td>B07P3Y8JWY</td>\n",
       "      <td>Reusable Filters</td>\n",
       "      <td>Simple Cups</td>\n",
       "    </tr>\n",
       "    <tr>\n",
       "      <th>4</th>\n",
       "      <td>Amazon Home</td>\n",
       "      <td>iPartPlusMore Reusable Coffee Filters Compatib...</td>\n",
       "      <td>ECO-ALTERNATIVE COFFEE FILTERS: Save up to 80%...</td>\n",
       "      <td></td>\n",
       "      <td>iPartsPlusMore</td>\n",
       "      <td>B07RNJY499</td>\n",
       "      <td>Reusable Filters</td>\n",
       "      <td>iPartsPlusMore</td>\n",
       "    </tr>\n",
       "  </tbody>\n",
       "</table>\n",
       "</div>"
      ],
      "text/plain": [
       "  main_category                                              title  \\\n",
       "0   Amazon Home        Cuisinart Replacement Water Filters, 2-Pack   \n",
       "1   Amazon Home  12 Pack Keurig Filter Replacement by K&J - Com...   \n",
       "2       Grocery  Reusable coffee pods for Coffee Makers (4 PACK...   \n",
       "3   Amazon Home  Disposable Paper Coffee Filters 600 count - Co...   \n",
       "4   Amazon Home  iPartPlusMore Reusable Coffee Filters Compatib...   \n",
       "\n",
       "                                            features  \\\n",
       "0  Made of nonwoven polyester and activated charc...   \n",
       "1  PERFECT FIT - These Keurig-compatible replacem...   \n",
       "2                                                      \n",
       "3  Compatible with Solofill, Solo Filters, EZ-Cup...   \n",
       "4  ECO-ALTERNATIVE COFFEE FILTERS: Save up to 80%...   \n",
       "\n",
       "                                         description           store  \\\n",
       "0  Product Description Make sure you're brewing t...       Cuisinart   \n",
       "1                                                                K&J   \n",
       "2                                                            Delibru   \n",
       "3                                                         SIMPLECUPS   \n",
       "4                                                     iPartsPlusMore   \n",
       "\n",
       "  parent_asin         subcategory           maker  \n",
       "0  B0BHNSLKNZ   Permanent Filters       Cuisinart  \n",
       "1  B0B3DB5HTC  Disposable Filters             K&J  \n",
       "2  B092LLM7H3    Reusable Filters         Delibru  \n",
       "3  B07P3Y8JWY    Reusable Filters     Simple Cups  \n",
       "4  B07RNJY499    Reusable Filters  iPartsPlusMore  "
      ]
     },
     "execution_count": 180,
     "metadata": {},
     "output_type": "execute_result"
    }
   ],
   "source": [
    "df_meta.head()"
   ]
  },
  {
   "cell_type": "code",
   "execution_count": 181,
   "id": "e615035f",
   "metadata": {},
   "outputs": [
    {
     "data": {
      "text/html": [
       "<div>\n",
       "<style scoped>\n",
       "    .dataframe tbody tr th:only-of-type {\n",
       "        vertical-align: middle;\n",
       "    }\n",
       "\n",
       "    .dataframe tbody tr th {\n",
       "        vertical-align: top;\n",
       "    }\n",
       "\n",
       "    .dataframe thead th {\n",
       "        text-align: right;\n",
       "    }\n",
       "</style>\n",
       "<table border=\"1\" class=\"dataframe\">\n",
       "  <thead>\n",
       "    <tr style=\"text-align: right;\">\n",
       "      <th></th>\n",
       "      <th>main_category</th>\n",
       "      <th>title</th>\n",
       "      <th>features</th>\n",
       "      <th>description</th>\n",
       "      <th>store</th>\n",
       "      <th>parent_asin</th>\n",
       "      <th>subcategory</th>\n",
       "      <th>maker</th>\n",
       "      <th>feature_group</th>\n",
       "    </tr>\n",
       "  </thead>\n",
       "  <tbody>\n",
       "    <tr>\n",
       "      <th>0</th>\n",
       "      <td>Amazon Home</td>\n",
       "      <td>Cuisinart Replacement Water Filters, 2-Pack</td>\n",
       "      <td>Made of nonwoven polyester and activated charc...</td>\n",
       "      <td>Product Description Make sure you're brewing t...</td>\n",
       "      <td>Cuisinart</td>\n",
       "      <td>B0BHNSLKNZ</td>\n",
       "      <td>Permanent Filters</td>\n",
       "      <td>Cuisinart</td>\n",
       "      <td>B0BHNSLKNZ Amazon Home Permanent Filters Cuisi...</td>\n",
       "    </tr>\n",
       "    <tr>\n",
       "      <th>1</th>\n",
       "      <td>Amazon Home</td>\n",
       "      <td>12 Pack Keurig Filter Replacement by K&amp;J - Com...</td>\n",
       "      <td>PERFECT FIT - These Keurig-compatible replacem...</td>\n",
       "      <td></td>\n",
       "      <td>K&amp;J</td>\n",
       "      <td>B0B3DB5HTC</td>\n",
       "      <td>Disposable Filters</td>\n",
       "      <td>K&amp;J</td>\n",
       "      <td>B0B3DB5HTC Amazon Home Disposable Filters K&amp;J ...</td>\n",
       "    </tr>\n",
       "  </tbody>\n",
       "</table>\n",
       "</div>"
      ],
      "text/plain": [
       "  main_category                                              title  \\\n",
       "0   Amazon Home        Cuisinart Replacement Water Filters, 2-Pack   \n",
       "1   Amazon Home  12 Pack Keurig Filter Replacement by K&J - Com...   \n",
       "\n",
       "                                            features  \\\n",
       "0  Made of nonwoven polyester and activated charc...   \n",
       "1  PERFECT FIT - These Keurig-compatible replacem...   \n",
       "\n",
       "                                         description      store parent_asin  \\\n",
       "0  Product Description Make sure you're brewing t...  Cuisinart  B0BHNSLKNZ   \n",
       "1                                                           K&J  B0B3DB5HTC   \n",
       "\n",
       "          subcategory      maker  \\\n",
       "0   Permanent Filters  Cuisinart   \n",
       "1  Disposable Filters        K&J   \n",
       "\n",
       "                                       feature_group  \n",
       "0  B0BHNSLKNZ Amazon Home Permanent Filters Cuisi...  \n",
       "1  B0B3DB5HTC Amazon Home Disposable Filters K&J ...  "
      ]
     },
     "execution_count": 181,
     "metadata": {},
     "output_type": "execute_result"
    }
   ],
   "source": [
    "# Select the features to be used for NLP\n",
    "\n",
    "selected_features = ['parent_asin',  'main_category', 'subcategory', 'maker', 'title']\n",
    "# selected_features = ['parent_asin', 'title', 'store', 'details']\n",
    "# removed [store][details] due to resource issues - Unable to allocate 31.4 GiB for an array with shape (4220106037,) and data type int64.\n",
    "\n",
    "# df['feature_group'] = df[selected_features].apply(lambda x: ' '.join(x))\n",
    "df_meta['feature_group'] = df_meta[selected_features].agg(' '.join, axis=1)\n",
    "df_meta.head(2)"
   ]
  },
  {
   "cell_type": "markdown",
   "id": "c6737803",
   "metadata": {},
   "source": [
    "### Find Similar Products"
   ]
  },
  {
   "cell_type": "code",
   "execution_count": 182,
   "id": "5669324e",
   "metadata": {},
   "outputs": [
    {
     "name": "stderr",
     "output_type": "stream",
     "text": [
      "[nltk_data] Downloading package punkt_tab to /home/edu/nltk_data...\n",
      "[nltk_data]   Package punkt_tab is already up-to-date!\n",
      "[nltk_data] Downloading package stopwords to /home/edu/nltk_data...\n",
      "[nltk_data]   Package stopwords is already up-to-date!\n"
     ]
    },
    {
     "data": {
      "text/plain": [
       "True"
      ]
     },
     "execution_count": 182,
     "metadata": {},
     "output_type": "execute_result"
    }
   ],
   "source": [
    "import re\n",
    "import nltk\n",
    "from nltk.corpus import stopwords\n",
    "from nltk.stem.porter import PorterStemmer\n",
    "from nltk.stem.wordnet import WordNetLemmatizer\n",
    "\n",
    "from sklearn.feature_extraction.text import TfidfVectorizer\n",
    "from sklearn.metrics.pairwise import cosine_similarity\n",
    "\n",
    "nltk.download('punkt_tab')\n",
    "nltk.download('stopwords')"
   ]
  },
  {
   "cell_type": "code",
   "execution_count": 183,
   "id": "9a92bf24",
   "metadata": {},
   "outputs": [],
   "source": [
    "# NLP Objects and parameters\n",
    "wnl = WordNetLemmatizer()\n",
    "stemmer = PorterStemmer()\n",
    "stop_words = set(stopwords.words('english'))"
   ]
  },
  {
   "cell_type": "markdown",
   "id": "c8d62b0f",
   "metadata": {},
   "source": [
    "#### NLP UDFs"
   ]
  },
  {
   "cell_type": "code",
   "execution_count": 184,
   "id": "6228feef",
   "metadata": {},
   "outputs": [],
   "source": [
    "def preprocess_text(text):\n",
    "    \"\"\"\n",
    "    Preprocesses the input text by removing special characters, converting to lowercase,\n",
    "    removing stop words, and applying stemming or lemmatization.\n",
    "\n",
    "    Args:\n",
    "        text (str): Input text to preprocess.\n",
    "    Returns:\n",
    "        str: Preprocessed text.\n",
    "    \"\"\"\n",
    "    \n",
    "    # Remove special characters\n",
    "    text = re.sub(r'[^a-zA-Z0-9\\s]', '', text)\n",
    "    \n",
    "    # Convert to lowercase\n",
    "    text = text.lower()\n",
    "        \n",
    "    return text"
   ]
  },
  {
   "cell_type": "code",
   "execution_count": 185,
   "id": "2107d486",
   "metadata": {},
   "outputs": [],
   "source": [
    "def tokenizer(txt):\n",
    "    \"\"\"\n",
    "    Tokenizes the input text by removing stop words and applying stemming or lemmatization.\n",
    "    Flags to indicate if tokenization is set to True. \n",
    "\n",
    "    Args:\n",
    "        txt (str): Input text to tokenize.\n",
    "    Returns:\n",
    "        list: List of tokens.\n",
    "    \"\"\"\n",
    "\n",
    "    word_tokens = nltk.word_tokenize(txt)\n",
    "    filtered_sentence = [w for w in word_tokens if not w.lower() in stop_words]\n",
    "\n",
    "    return filtered_sentence"
   ]
  },
  {
   "cell_type": "code",
   "execution_count": 186,
   "id": "30af2031",
   "metadata": {},
   "outputs": [],
   "source": [
    "def lemmatizer(txt):\n",
    "    \"\"\"\n",
    "    Lemmatizes the input text by removing stop words and applying stemming or lemmatization.\n",
    "    Flags to indicate if lemmatization is set to True.\n",
    "    Args:\n",
    "        txt (str): Input text to lemmatize.\n",
    "    Returns:\n",
    "        str: Lemmatized text.\n",
    "    \"\"\"\n",
    "    \n",
    "    filtered_text = [wnl.lemmatize(text) for text in txt]\n",
    "    \n",
    "    return ' '.join(filtered_text)"
   ]
  },
  {
   "cell_type": "markdown",
   "id": "0616e026",
   "metadata": {},
   "source": [
    "#### Apply the NLP Functions to pre-process, tokenize, lemmatize texts"
   ]
  },
  {
   "cell_type": "code",
   "execution_count": 187,
   "id": "b6acc77f",
   "metadata": {},
   "outputs": [],
   "source": [
    "# Apply preprocessing to the feature group\n",
    "df_meta['feature_group'] = df_meta['feature_group'].apply(preprocess_text)"
   ]
  },
  {
   "cell_type": "code",
   "execution_count": 188,
   "id": "bbf9d964",
   "metadata": {},
   "outputs": [],
   "source": [
    "# Apply custom tokenizer to feature_group column# Apply custom tokenizer to feature_group column\n",
    "df_meta['feature_group'] = df_meta['feature_group'].apply(lambda x: tokenizer(x))"
   ]
  },
  {
   "cell_type": "code",
   "execution_count": 189,
   "id": "c7914969",
   "metadata": {},
   "outputs": [],
   "source": [
    "# Apply lemmatizer to feature_group column\n",
    "df_meta['feature_group'] = df_meta['feature_group'].apply(lambda x: lemmatizer(x))"
   ]
  },
  {
   "cell_type": "markdown",
   "id": "afd90b47",
   "metadata": {},
   "source": [
    "#### Vectorize the [feature_group]"
   ]
  },
  {
   "cell_type": "code",
   "execution_count": 190,
   "id": "57ea609b",
   "metadata": {},
   "outputs": [],
   "source": [
    "# Create a csr matrix\n",
    "vectorizer = TfidfVectorizer(analyzer='word',stop_words='english')\n",
    "feature_vectors = vectorizer.fit_transform(df_meta['feature_group'].values)"
   ]
  },
  {
   "cell_type": "code",
   "execution_count": 191,
   "id": "8d5bea42",
   "metadata": {},
   "outputs": [
    {
     "name": "stdout",
     "output_type": "stream",
     "text": [
      "<Compressed Sparse Row sparse matrix of dtype 'float64'\n",
      "\twith 447 stored elements and shape (30, 282)>\n",
      "  Coords\tValues\n",
      "  (0, 66)\t0.3257230282117321\n",
      "  (0, 31)\t0.1855857897294682\n",
      "  (0, 150)\t0.12969818423540308\n",
      "  (0, 212)\t0.3257230282117321\n",
      "  (0, 128)\t0.33942131523625463\n",
      "  (0, 100)\t0.6514460564234642\n",
      "  (0, 227)\t0.19475975760687753\n",
      "  (0, 268)\t0.23006448114557898\n",
      "  (0, 9)\t0.3257230282117321\n",
      "  (1, 31)\t0.1497597127927342\n",
      "  (1, 150)\t0.10466083016995628\n",
      "  (1, 128)\t0.27389833434775257\n",
      "  (1, 227)\t0.1571627084450055\n",
      "  (1, 62)\t0.2628444086482938\n",
      "  (1, 111)\t0.23435502233757408\n",
      "  (1, 168)\t0.5256888172965876\n",
      "  (1, 2)\t0.23435502233757408\n",
      "  (1, 210)\t0.1856520947557252\n",
      "  (1, 166)\t0.39692528074916616\n",
      "  (1, 91)\t0.17482093276462413\n",
      "  (1, 87)\t0.17482093276462413\n",
      "  (1, 181)\t0.1856520947557252\n",
      "  (1, 5)\t0.23435502233757408\n",
      "  (1, 206)\t0.2628444086482938\n",
      "  (2, 128)\t0.1575059806162777\n",
      "  :\t:\n",
      "  (28, 215)\t0.45568775204979983\n",
      "  (28, 80)\t0.3037918346998666\n",
      "  (28, 209)\t0.1518959173499333\n",
      "  (28, 123)\t0.3037918346998666\n",
      "  (28, 247)\t0.1518959173499333\n",
      "  (28, 133)\t0.1518959173499333\n",
      "  (28, 162)\t0.1518959173499333\n",
      "  (28, 83)\t0.1518959173499333\n",
      "  (28, 171)\t0.1518959173499333\n",
      "  (28, 35)\t0.1518959173499333\n",
      "  (28, 218)\t0.1518959173499333\n",
      "  (29, 72)\t0.21324402282918592\n",
      "  (29, 246)\t0.21324402282918592\n",
      "  (29, 34)\t0.1491320759276764\n",
      "  (29, 175)\t0.46674569994200793\n",
      "  (29, 225)\t0.32949041447182487\n",
      "  (29, 97)\t0.23337284997100396\n",
      "  (29, 99)\t0.23337284997100396\n",
      "  (29, 138)\t0.23337284997100396\n",
      "  (29, 240)\t0.23337284997100396\n",
      "  (29, 51)\t0.26174283842245943\n",
      "  (29, 178)\t0.26174283842245943\n",
      "  (29, 6)\t0.26174283842245943\n",
      "  (29, 159)\t0.26174283842245943\n",
      "  (29, 109)\t0.26174283842245943\n"
     ]
    }
   ],
   "source": [
    "# Verify\n",
    "print(feature_vectors)"
   ]
  },
  {
   "cell_type": "code",
   "execution_count": 192,
   "id": "809eedcc",
   "metadata": {},
   "outputs": [
    {
     "data": {
      "text/plain": [
       "(30, 282)"
      ]
     },
     "execution_count": 192,
     "metadata": {},
     "output_type": "execute_result"
    }
   ],
   "source": [
    "# Verify\n",
    "feature_vectors.shape"
   ]
  },
  {
   "cell_type": "markdown",
   "id": "c0f5e62f",
   "metadata": {},
   "source": [
    "#### Calculate Cosine Similarity"
   ]
  },
  {
   "cell_type": "code",
   "execution_count": 193,
   "id": "b1b539fb",
   "metadata": {},
   "outputs": [
    {
     "data": {
      "text/plain": [
       "(30, 30)"
      ]
     },
     "execution_count": 193,
     "metadata": {},
     "output_type": "execute_result"
    }
   ],
   "source": [
    "# Calculate cosine similarity\n",
    "similarity = cosine_similarity(feature_vectors)\n",
    "similarity.shape"
   ]
  },
  {
   "cell_type": "code",
   "execution_count": 194,
   "id": "ab16e803",
   "metadata": {},
   "outputs": [],
   "source": [
    "# Set display option \n",
    "pd.options.display.max_colwidth = 1000"
   ]
  },
  {
   "cell_type": "markdown",
   "id": "1611ce06",
   "metadata": {},
   "source": [
    "#### Option A: Similar items using ASIN (product key)"
   ]
  },
  {
   "cell_type": "code",
   "execution_count": 195,
   "id": "bf46debf",
   "metadata": {},
   "outputs": [],
   "source": [
    "def get_product_data(query:str , data_df: pd.DataFrame, col: str) : # -> pd.DataFrame:\n",
    "    \"\"\"UDF: get_product_data using query\n",
    "    Args:\n",
    "        query (str): Search query\n",
    "        data_df (pd.DataFrame): DataFrame to search in\n",
    "        col (str): Column to search in\n",
    "    Returns:\n",
    "        pd.DataFrame: DataFrame containing the search results\n",
    "    \"\"\"\n",
    "    \n",
    "    # Search using exact query\n",
    "    l_data = data_df[data_df[col] == query] \n",
    "\n",
    "    if len(l_data) == 1:\n",
    "        print('Exact product match used in query.')\n",
    "    \n",
    "    # If not exact, refine search...\n",
    "    else:\n",
    "\n",
    "        query = re.sub(r'[^a-zA-Z0-9\\s]', '', query)\n",
    "        l_data = data_df[data_df['title']\\\n",
    "                  .apply(lambda x: re.sub(r'[^a-zA-Z0-9\\s]', '', x))\\\n",
    "                  .str.lower()\n",
    "                  .str.contains(query.lower())\\\n",
    "                    ]\n",
    "\n",
    "        # If refined query matches one or more product names\n",
    "        if len(l_data) > 0:\n",
    "            print('Found products with similar keywords.')\n",
    "\n",
    "        else:            \n",
    "            print('No products matched the keywords in query. Try again.')\n",
    "          \n",
    "    return l_data\n"
   ]
  },
  {
   "cell_type": "code",
   "execution_count": 196,
   "id": "7a680f35",
   "metadata": {},
   "outputs": [],
   "source": [
    "def get_product_index(data_df: pd.DataFrame, query:str, col: str) -> int:\n",
    "    \"\"\"\n",
    "    Get the index of the product in the DataFrame based on the query.\n",
    "    Args:\n",
    "        data_df (pd.DataFrame): DataFrame containing product data.\n",
    "        query (str): Query string to search for.\n",
    "        col (str): Column name to search in.\n",
    "    Returns:\n",
    "        int: Index of the product in the DataFrame.\n",
    "    \"\"\"\n",
    "\n",
    "    product_index = data_df[data_df[col] == query].index\n",
    "    return product_index[0] if len(product_index) > 0 else None"
   ]
  },
  {
   "cell_type": "code",
   "execution_count": 226,
   "id": "d2d5b976",
   "metadata": {},
   "outputs": [],
   "source": [
    "def recommend_similar_products(query: str, data_df: pd.DataFrame, cos_sim: np.array, n_result: int = 1):\n",
    "    \"\"\"\n",
    "    Recommend similar products based on the query and cosine similarity.\n",
    "    Args:\n",
    "        query (str): Search query.\n",
    "        data_df (pd.DataFrame): DataFrame containing product data.\n",
    "        cos_sim (np.array): Cosine similarity matrix.\n",
    "        n_result (int): Number of similar products to recommend. Defaults to 1.\n",
    "    Returns:\n",
    "        list: List of similar products with their IDs and titles.\n",
    "    \"\"\"\n",
    "\n",
    "    l_prods = get_product_data(query, data_df, 'parent_asin')\n",
    "    print('l_prod index: ', l_prods.index[0])\n",
    "    display(l_prods)\n",
    "    \n",
    "    if len(l_prods) > 0:\n",
    "\n",
    "        top_idx = l_prods.index[0]\n",
    "        distances = sorted(list(enumerate(cos_sim[top_idx])), reverse=True, key=lambda x:x[1])\n",
    "\n",
    "        similar_items = []\n",
    "\n",
    "        # Assumptions: \n",
    "        #    l_prods.size == 1: Exact product_name match or passed via pre-loaded drop_down list\n",
    "        #    l_prods.size > 1 : Generic keyword search returned multiple matches\n",
    "\n",
    "        ret_begin_idx = 0\n",
    "\n",
    "        if l_prods.size == 1:  # exclude the first item in the distances list\n",
    "            ret_begin_idx = 1\n",
    "            n_result += 1\n",
    "        \n",
    "        # Iterate over distances\n",
    "        for p_id in distances[ret_begin_idx:(n_result)]: \n",
    "            \n",
    "            similar_items.append({'id': data_df.iloc[p_id[0]].parent_asin, 'title': data_df.iloc[p_id[0]].title})\n",
    "\n",
    "    return similar_items"
   ]
  },
  {
   "cell_type": "code",
   "execution_count": 227,
   "id": "d416def7",
   "metadata": {},
   "outputs": [],
   "source": [
    "# # UT:: Test get prod index\n",
    "# idx = get_product_index(df_meta, query, 'title')\n",
    "# print(f'Index of product in DataFrame: {idx}')"
   ]
  },
  {
   "cell_type": "code",
   "execution_count": 228,
   "id": "9ef925d1",
   "metadata": {},
   "outputs": [],
   "source": [
    "# # UT: Test function get_product_data\n",
    "# x = get_product_data(query, df_meta, 'title')\n",
    "# print(x.index[0])"
   ]
  },
  {
   "cell_type": "markdown",
   "id": "d963eeb0",
   "metadata": {},
   "source": [
    "##### Input using Prod ID - preloaded in front end"
   ]
  },
  {
   "cell_type": "code",
   "execution_count": 229,
   "id": "258c0f08",
   "metadata": {},
   "outputs": [],
   "source": [
    "# Try\n",
    "query = 'B000DLB2FI'\n",
    "# query = query.lower()\n",
    "# query = 'Keurig My K-Cup Reusable Coffee Filter - Old Model'"
   ]
  },
  {
   "cell_type": "markdown",
   "id": "4b9f89ff",
   "metadata": {},
   "source": [
    "##### Recommend"
   ]
  },
  {
   "cell_type": "code",
   "execution_count": 230,
   "id": "21d97f0a",
   "metadata": {},
   "outputs": [
    {
     "name": "stdout",
     "output_type": "stream",
     "text": [
      "Exact product match used in query.\n"
     ]
    }
   ],
   "source": [
    "x = get_product_data(query, df_meta, 'parent_asin')\n"
   ]
  },
  {
   "cell_type": "code",
   "execution_count": 231,
   "id": "fa07771c",
   "metadata": {},
   "outputs": [
    {
     "name": "stdout",
     "output_type": "stream",
     "text": [
      "Exact product match used in query.\n",
      "l_prod index:  7\n"
     ]
    },
    {
     "data": {
      "text/html": [
       "<div>\n",
       "<style scoped>\n",
       "    .dataframe tbody tr th:only-of-type {\n",
       "        vertical-align: middle;\n",
       "    }\n",
       "\n",
       "    .dataframe tbody tr th {\n",
       "        vertical-align: top;\n",
       "    }\n",
       "\n",
       "    .dataframe thead th {\n",
       "        text-align: right;\n",
       "    }\n",
       "</style>\n",
       "<table border=\"1\" class=\"dataframe\">\n",
       "  <thead>\n",
       "    <tr style=\"text-align: right;\">\n",
       "      <th></th>\n",
       "      <th>main_category</th>\n",
       "      <th>title</th>\n",
       "      <th>features</th>\n",
       "      <th>description</th>\n",
       "      <th>store</th>\n",
       "      <th>parent_asin</th>\n",
       "      <th>subcategory</th>\n",
       "      <th>maker</th>\n",
       "      <th>feature_group</th>\n",
       "    </tr>\n",
       "  </thead>\n",
       "  <tbody>\n",
       "    <tr>\n",
       "      <th>7</th>\n",
       "      <td>Amazon Home</td>\n",
       "      <td>Keurig My K-Cup Reusable Coffee Filter - Old Model</td>\n",
       "      <td>Rinse clean under running water after each use Does not fit Keurig 2.0, B100, B100P, or B2000/3, B130 Keurig Office and commercial model brewers Works in Keurig home brewers, such as K10, B40 Elite, B50 Ultra, and B60 Special Edition, K65, K45 Allows users to use their own gourmet ground coffee in a Keurig brewer Reusable K-Cup coffee filter exclusive to the Keurig Home Brewing System In Keurig Retail Packaging Box</td>\n",
       "      <td>Keurig 5048 My K-Cup Reusable Coffee Filter - Old Model</td>\n",
       "      <td>Keurig</td>\n",
       "      <td>B000DLB2FI</td>\n",
       "      <td>Reusable Filters</td>\n",
       "      <td>Keurig Kitchenware</td>\n",
       "      <td>b000dlb2fi amazon home reusable filter keurig kitchenware keurig kcup reusable coffee filter old model</td>\n",
       "    </tr>\n",
       "  </tbody>\n",
       "</table>\n",
       "</div>"
      ],
      "text/plain": [
       "  main_category                                               title  \\\n",
       "7   Amazon Home  Keurig My K-Cup Reusable Coffee Filter - Old Model   \n",
       "\n",
       "                                                                                                                                                                                                                                                                                                                                                                                                                             features  \\\n",
       "7  Rinse clean under running water after each use Does not fit Keurig 2.0, B100, B100P, or B2000/3, B130 Keurig Office and commercial model brewers Works in Keurig home brewers, such as K10, B40 Elite, B50 Ultra, and B60 Special Edition, K65, K45 Allows users to use their own gourmet ground coffee in a Keurig brewer Reusable K-Cup coffee filter exclusive to the Keurig Home Brewing System In Keurig Retail Packaging Box   \n",
       "\n",
       "                                               description   store  \\\n",
       "7  Keurig 5048 My K-Cup Reusable Coffee Filter - Old Model  Keurig   \n",
       "\n",
       "  parent_asin       subcategory               maker  \\\n",
       "7  B000DLB2FI  Reusable Filters  Keurig Kitchenware   \n",
       "\n",
       "                                                                                            feature_group  \n",
       "7  b000dlb2fi amazon home reusable filter keurig kitchenware keurig kcup reusable coffee filter old model  "
      ]
     },
     "metadata": {},
     "output_type": "display_data"
    },
    {
     "name": "stdout",
     "output_type": "stream",
     "text": [
      "Recommending 10 items similar to your query\n"
     ]
    }
   ],
   "source": [
    "# Call fuction: recommend_similar_products\n",
    "list_recos = recommend_similar_products(query, df_meta, similarity, n_result)\n",
    "\n",
    "if list_recos:\n",
    "    print(f'Recommending {len(list_recos)} items similar to your query')"
   ]
  },
  {
   "cell_type": "code",
   "execution_count": 216,
   "id": "82e3d932",
   "metadata": {},
   "outputs": [
    {
     "data": {
      "text/html": [
       "<div>\n",
       "<style scoped>\n",
       "    .dataframe tbody tr th:only-of-type {\n",
       "        vertical-align: middle;\n",
       "    }\n",
       "\n",
       "    .dataframe tbody tr th {\n",
       "        vertical-align: top;\n",
       "    }\n",
       "\n",
       "    .dataframe thead th {\n",
       "        text-align: right;\n",
       "    }\n",
       "</style>\n",
       "<table border=\"1\" class=\"dataframe\">\n",
       "  <thead>\n",
       "    <tr style=\"text-align: right;\">\n",
       "      <th></th>\n",
       "      <th>id</th>\n",
       "      <th>title</th>\n",
       "    </tr>\n",
       "  </thead>\n",
       "  <tbody>\n",
       "    <tr>\n",
       "      <th>0</th>\n",
       "      <td>B000DLB2FI</td>\n",
       "      <td>Keurig My K-Cup Reusable Coffee Filter - Old Model</td>\n",
       "    </tr>\n",
       "    <tr>\n",
       "      <th>1</th>\n",
       "      <td>B07P3Y8JWY</td>\n",
       "      <td>Disposable Paper Coffee Filters 600 count - Compatible with Keurig, K-Cup machines &amp; other Single Serve Coffee Brewer Reusable K Cups - Use Your Own Coffee &amp; Make Your Own Pods - Works with All Brands</td>\n",
       "    </tr>\n",
       "    <tr>\n",
       "      <th>2</th>\n",
       "      <td>B07RNJY499</td>\n",
       "      <td>iPartPlusMore Reusable Coffee Filters Compatible with 1.0 and 2.0 Keurig Single Cup Coffee Maker - BPA-Free Stainless Steel Refillable K Cup Coffee Filter with Fine Mesh Screen (Pack of 4)</td>\n",
       "    </tr>\n",
       "    <tr>\n",
       "      <th>3</th>\n",
       "      <td>B0B3DB5HTC</td>\n",
       "      <td>12 Pack Keurig Filter Replacement by K&amp;J - Compatible with Keurig Coffee Machine (2.0 and older)</td>\n",
       "    </tr>\n",
       "    <tr>\n",
       "      <th>4</th>\n",
       "      <td>B092LLM7H3</td>\n",
       "      <td>Reusable coffee pods for Coffee Makers (4 PACK Black and Purple)</td>\n",
       "    </tr>\n",
       "    <tr>\n",
       "      <th>5</th>\n",
       "      <td>B0BHNSLKNZ</td>\n",
       "      <td>Cuisinart Replacement Water Filters, 2-Pack</td>\n",
       "    </tr>\n",
       "    <tr>\n",
       "      <th>6</th>\n",
       "      <td>B09YRPT4Q2</td>\n",
       "      <td>BELVITA ADQ747935 Water Filter Replacement,Compatible with LT1000P,LFXS26973S,LMXS28626S,LMXS30796S,LMXC23796S,Kenmore Elite 9980 ADQ74793501 MDJ64844601,3 Pack</td>\n",
       "    </tr>\n",
       "    <tr>\n",
       "      <th>7</th>\n",
       "      <td>B0045LLC7K</td>\n",
       "      <td>Frigidaire WF3CB Puresource3 Refrigerator Water Filter , White, 1 Count (Pack of 1)</td>\n",
       "    </tr>\n",
       "    <tr>\n",
       "      <th>8</th>\n",
       "      <td>B01IAFNZGC</td>\n",
       "      <td>EXCELPURE 5231JA2006A Replacement for LG LT600P,5231JA2006B, Kenmore 46-9990, 5231JA2006F,R-9990, 5231JA2006E, LFX25975ST, LFX25960ST, EFF-6003A, LFX23961ST, SGF-LB60, Refrigerator Water Filter, 3PACK</td>\n",
       "    </tr>\n",
       "    <tr>\n",
       "      <th>9</th>\n",
       "      <td>B0BC65XJLJ</td>\n",
       "      <td>W10295370A Water FiIter Cap Replacement, Compatible with EDR1RXD1 Refrigerator Water FiIter 1 46-9081, 46-9930 Water FiIter Cap Replacement 1, 3Packs</td>\n",
       "    </tr>\n",
       "  </tbody>\n",
       "</table>\n",
       "</div>"
      ],
      "text/plain": [
       "           id  \\\n",
       "0  B000DLB2FI   \n",
       "1  B07P3Y8JWY   \n",
       "2  B07RNJY499   \n",
       "3  B0B3DB5HTC   \n",
       "4  B092LLM7H3   \n",
       "5  B0BHNSLKNZ   \n",
       "6  B09YRPT4Q2   \n",
       "7  B0045LLC7K   \n",
       "8  B01IAFNZGC   \n",
       "9  B0BC65XJLJ   \n",
       "\n",
       "                                                                                                                                                                                                      title  \n",
       "0                                                                                                                                                        Keurig My K-Cup Reusable Coffee Filter - Old Model  \n",
       "1  Disposable Paper Coffee Filters 600 count - Compatible with Keurig, K-Cup machines & other Single Serve Coffee Brewer Reusable K Cups - Use Your Own Coffee & Make Your Own Pods - Works with All Brands  \n",
       "2              iPartPlusMore Reusable Coffee Filters Compatible with 1.0 and 2.0 Keurig Single Cup Coffee Maker - BPA-Free Stainless Steel Refillable K Cup Coffee Filter with Fine Mesh Screen (Pack of 4)  \n",
       "3                                                                                                          12 Pack Keurig Filter Replacement by K&J - Compatible with Keurig Coffee Machine (2.0 and older)  \n",
       "4                                                                                                                                          Reusable coffee pods for Coffee Makers (4 PACK Black and Purple)  \n",
       "5                                                                                                                                                               Cuisinart Replacement Water Filters, 2-Pack  \n",
       "6                                          BELVITA ADQ747935 Water Filter Replacement,Compatible with LT1000P,LFXS26973S,LMXS28626S,LMXS30796S,LMXC23796S,Kenmore Elite 9980 ADQ74793501 MDJ64844601,3 Pack  \n",
       "7                                                                                                                       Frigidaire WF3CB Puresource3 Refrigerator Water Filter , White, 1 Count (Pack of 1)  \n",
       "8  EXCELPURE 5231JA2006A Replacement for LG LT600P,5231JA2006B, Kenmore 46-9990, 5231JA2006F,R-9990, 5231JA2006E, LFX25975ST, LFX25960ST, EFF-6003A, LFX23961ST, SGF-LB60, Refrigerator Water Filter, 3PACK  \n",
       "9                                                     W10295370A Water FiIter Cap Replacement, Compatible with EDR1RXD1 Refrigerator Water FiIter 1 46-9081, 46-9930 Water FiIter Cap Replacement 1, 3Packs  "
      ]
     },
     "execution_count": 216,
     "metadata": {},
     "output_type": "execute_result"
    }
   ],
   "source": [
    "# Convert the Top N list to DataFrame\n",
    "df_recos = pd.DataFrame(list_recos)\n",
    "df_recos"
   ]
  },
  {
   "cell_type": "markdown",
   "id": "64a14a33",
   "metadata": {},
   "source": [
    "#### Option B: Similar items using vectorized query"
   ]
  },
  {
   "cell_type": "markdown",
   "id": "b2050dae",
   "metadata": {},
   "source": [
    "- Transform the query using the same vocabulary from the previous fit step on the corpus.\n",
    "- Calculate the pairwise cosine similarities between each document in the corpus and the query.\n",
    "- Sort them in descending order by score"
   ]
  },
  {
   "cell_type": "code",
   "execution_count": 94,
   "id": "cab4cd10",
   "metadata": {},
   "outputs": [],
   "source": [
    "def get_query_tfidf(tfidf_vectorizer: TfidfVectorizer, query:str) -> np.ndarray:\n",
    "    \"\"\"\n",
    "    Get the TF-IDF vector for the query.\n",
    "    Args:\n",
    "        data_df (pd.DataFrame): DataFrame containing product data.\n",
    "        query (str): Query string to search for.\n",
    "        col (str): Column name to search in.\n",
    "    Returns:\n",
    "        np.ndarray: TF-IDF vector for the query.\n",
    "    \"\"\"\n",
    "    \n",
    "    formatted_query = preprocess_text(query) \n",
    "    formatted_query = tokenizer(formatted_query)\n",
    "    formatted_query = lemmatizer(formatted_query)\n",
    "    # formatted_query = formatted_query.split()\n",
    "    query_vector = tfidf_vectorizer.transform([formatted_query])\n",
    "    \n",
    "    return query_vector"
   ]
  },
  {
   "cell_type": "code",
   "execution_count": 95,
   "id": "1db31edb",
   "metadata": {},
   "outputs": [],
   "source": [
    "def top_k(arr_cosim, k=1):\n",
    "    \"\"\"\n",
    "    Get the indices of the top k elements in an array.\n",
    "    Args:\n",
    "        arr (np.ndarray): Input array.\n",
    "        k (int): Number of top elements to retrieve. Defaults to 1.\n",
    "    Returns:\n",
    "        list: List of indices of the top k elements.\n",
    "    \"\"\"\n",
    "    kth_largest = (k+1) * -1\n",
    "    return np.argsort(arr_cosim)[:kth_largest:-1]"
   ]
  },
  {
   "cell_type": "markdown",
   "id": "f8f681df",
   "metadata": {},
   "source": [
    "##### Input using search query/text"
   ]
  },
  {
   "cell_type": "code",
   "execution_count": 96,
   "id": "48b228f9",
   "metadata": {},
   "outputs": [],
   "source": [
    "query = 'K-Cup Reusable Coffee Filter'\n",
    "# query = 'Keurig My K-Cup Reusable Coffee Filter - Old Model'"
   ]
  },
  {
   "cell_type": "markdown",
   "id": "a531d058",
   "metadata": {},
   "source": [
    "##### Process query"
   ]
  },
  {
   "cell_type": "code",
   "execution_count": 97,
   "id": "03007233",
   "metadata": {},
   "outputs": [
    {
     "data": {
      "text/plain": [
       "(1, 282)"
      ]
     },
     "execution_count": 97,
     "metadata": {},
     "output_type": "execute_result"
    }
   ],
   "source": [
    "# Get the tfidf vector for the query\n",
    "query_tfidf = get_query_tfidf(vectorizer, query)\n",
    "query_tfidf.shape"
   ]
  },
  {
   "cell_type": "code",
   "execution_count": 98,
   "id": "748bf22b",
   "metadata": {},
   "outputs": [],
   "source": [
    "# Compute cosine similarity between the query and feature vectors\n",
    "cosine_similarites = cosine_similarity(query_tfidf, feature_vectors).flatten()"
   ]
  },
  {
   "cell_type": "code",
   "execution_count": 99,
   "id": "e4409b73",
   "metadata": {},
   "outputs": [
    {
     "name": "stdout",
     "output_type": "stream",
     "text": [
      "Top 10 indices: [ 7  3  2  4  1  0  8 14  6 28]\n"
     ]
    }
   ],
   "source": [
    "# Get top k indices\n",
    "top_indices = top_k(cosine_similarites, n_result)\n",
    "print(f'Top {n_result} indices: {top_indices}')"
   ]
  },
  {
   "cell_type": "code",
   "execution_count": 100,
   "id": "e31e3ecf",
   "metadata": {},
   "outputs": [
    {
     "data": {
      "text/html": [
       "<div>\n",
       "<style scoped>\n",
       "    .dataframe tbody tr th:only-of-type {\n",
       "        vertical-align: middle;\n",
       "    }\n",
       "\n",
       "    .dataframe tbody tr th {\n",
       "        vertical-align: top;\n",
       "    }\n",
       "\n",
       "    .dataframe thead th {\n",
       "        text-align: right;\n",
       "    }\n",
       "</style>\n",
       "<table border=\"1\" class=\"dataframe\">\n",
       "  <thead>\n",
       "    <tr style=\"text-align: right;\">\n",
       "      <th></th>\n",
       "      <th>parent_asin</th>\n",
       "      <th>main_category</th>\n",
       "      <th>subcategory</th>\n",
       "      <th>maker</th>\n",
       "      <th>title</th>\n",
       "    </tr>\n",
       "  </thead>\n",
       "  <tbody>\n",
       "    <tr>\n",
       "      <th>7</th>\n",
       "      <td>B000DLB2FI</td>\n",
       "      <td>Amazon Home</td>\n",
       "      <td>Reusable Filters</td>\n",
       "      <td>Keurig Kitchenware</td>\n",
       "      <td>Keurig My K-Cup Reusable Coffee Filter - Old Model</td>\n",
       "    </tr>\n",
       "    <tr>\n",
       "      <th>3</th>\n",
       "      <td>B07P3Y8JWY</td>\n",
       "      <td>Amazon Home</td>\n",
       "      <td>Reusable Filters</td>\n",
       "      <td>Simple Cups</td>\n",
       "      <td>Disposable Paper Coffee Filters 600 count - Compatible with Keurig, K-Cup machines &amp; other Single Serve Coffee Brewer Reusable K Cups - Use Your Own Coffee &amp; Make Your Own Pods - Works with All Brands</td>\n",
       "    </tr>\n",
       "    <tr>\n",
       "      <th>2</th>\n",
       "      <td>B092LLM7H3</td>\n",
       "      <td>Grocery</td>\n",
       "      <td>Reusable Filters</td>\n",
       "      <td>Delibru</td>\n",
       "      <td>Reusable coffee pods for Coffee Makers (4 PACK Black and Purple)</td>\n",
       "    </tr>\n",
       "    <tr>\n",
       "      <th>4</th>\n",
       "      <td>B07RNJY499</td>\n",
       "      <td>Amazon Home</td>\n",
       "      <td>Reusable Filters</td>\n",
       "      <td>iPartsPlusMore</td>\n",
       "      <td>iPartPlusMore Reusable Coffee Filters Compatible with 1.0 and 2.0 Keurig Single Cup Coffee Maker - BPA-Free Stainless Steel Refillable K Cup Coffee Filter with Fine Mesh Screen (Pack of 4)</td>\n",
       "    </tr>\n",
       "    <tr>\n",
       "      <th>1</th>\n",
       "      <td>B0B3DB5HTC</td>\n",
       "      <td>Amazon Home</td>\n",
       "      <td>Disposable Filters</td>\n",
       "      <td>K&amp;J</td>\n",
       "      <td>12 Pack Keurig Filter Replacement by K&amp;J - Compatible with Keurig Coffee Machine (2.0 and older)</td>\n",
       "    </tr>\n",
       "    <tr>\n",
       "      <th>0</th>\n",
       "      <td>B0BHNSLKNZ</td>\n",
       "      <td>Amazon Home</td>\n",
       "      <td>Permanent Filters</td>\n",
       "      <td>Cuisinart</td>\n",
       "      <td>Cuisinart Replacement Water Filters, 2-Pack</td>\n",
       "    </tr>\n",
       "    <tr>\n",
       "      <th>8</th>\n",
       "      <td>B0045LLC7K</td>\n",
       "      <td>Appliances</td>\n",
       "      <td>Water Filters</td>\n",
       "      <td>Frigidaire</td>\n",
       "      <td>Frigidaire WF3CB Puresource3 Refrigerator Water Filter , White, 1 Count (Pack of 1)</td>\n",
       "    </tr>\n",
       "    <tr>\n",
       "      <th>14</th>\n",
       "      <td>B09YRPT4Q2</td>\n",
       "      <td>Amazon Home</td>\n",
       "      <td>Water Filters</td>\n",
       "      <td>BELVITA</td>\n",
       "      <td>BELVITA ADQ747935 Water Filter Replacement,Compatible with LT1000P,LFXS26973S,LMXS28626S,LMXS30796S,LMXC23796S,Kenmore Elite 9980 ADQ74793501 MDJ64844601,3 Pack</td>\n",
       "    </tr>\n",
       "    <tr>\n",
       "      <th>6</th>\n",
       "      <td>B01IAFNZGC</td>\n",
       "      <td>Tools &amp; Home Improvement</td>\n",
       "      <td>Water Filters</td>\n",
       "      <td>EXCELPURE</td>\n",
       "      <td>EXCELPURE 5231JA2006A Replacement for LG LT600P,5231JA2006B, Kenmore 46-9990, 5231JA2006F,R-9990, 5231JA2006E, LFX25975ST, LFX25960ST, EFF-6003A, LFX23961ST, SGF-LB60, Refrigerator Water Filter, 3PACK</td>\n",
       "    </tr>\n",
       "    <tr>\n",
       "      <th>28</th>\n",
       "      <td>B0BD2MT2FN</td>\n",
       "      <td>Amazon Home</td>\n",
       "      <td>Milk Frothing Pitchers</td>\n",
       "      <td>CACAKEE</td>\n",
       "      <td>CACAKEE Milk Frothing Pitcher, 12 OZ/350ML Stainless Steel Espresso Steaming Pitchers, Coffee Milk Frother Jug for Espresso Machines Cappuccino Latte Art, Pour Cup</td>\n",
       "    </tr>\n",
       "  </tbody>\n",
       "</table>\n",
       "</div>"
      ],
      "text/plain": [
       "   parent_asin             main_category             subcategory  \\\n",
       "7   B000DLB2FI               Amazon Home        Reusable Filters   \n",
       "3   B07P3Y8JWY               Amazon Home        Reusable Filters   \n",
       "2   B092LLM7H3                   Grocery        Reusable Filters   \n",
       "4   B07RNJY499               Amazon Home        Reusable Filters   \n",
       "1   B0B3DB5HTC               Amazon Home      Disposable Filters   \n",
       "0   B0BHNSLKNZ               Amazon Home       Permanent Filters   \n",
       "8   B0045LLC7K                Appliances           Water Filters   \n",
       "14  B09YRPT4Q2               Amazon Home           Water Filters   \n",
       "6   B01IAFNZGC  Tools & Home Improvement           Water Filters   \n",
       "28  B0BD2MT2FN               Amazon Home  Milk Frothing Pitchers   \n",
       "\n",
       "                 maker  \\\n",
       "7   Keurig Kitchenware   \n",
       "3          Simple Cups   \n",
       "2              Delibru   \n",
       "4       iPartsPlusMore   \n",
       "1                  K&J   \n",
       "0            Cuisinart   \n",
       "8           Frigidaire   \n",
       "14             BELVITA   \n",
       "6            EXCELPURE   \n",
       "28             CACAKEE   \n",
       "\n",
       "                                                                                                                                                                                                       title  \n",
       "7                                                                                                                                                         Keurig My K-Cup Reusable Coffee Filter - Old Model  \n",
       "3   Disposable Paper Coffee Filters 600 count - Compatible with Keurig, K-Cup machines & other Single Serve Coffee Brewer Reusable K Cups - Use Your Own Coffee & Make Your Own Pods - Works with All Brands  \n",
       "2                                                                                                                                           Reusable coffee pods for Coffee Makers (4 PACK Black and Purple)  \n",
       "4               iPartPlusMore Reusable Coffee Filters Compatible with 1.0 and 2.0 Keurig Single Cup Coffee Maker - BPA-Free Stainless Steel Refillable K Cup Coffee Filter with Fine Mesh Screen (Pack of 4)  \n",
       "1                                                                                                           12 Pack Keurig Filter Replacement by K&J - Compatible with Keurig Coffee Machine (2.0 and older)  \n",
       "0                                                                                                                                                                Cuisinart Replacement Water Filters, 2-Pack  \n",
       "8                                                                                                                        Frigidaire WF3CB Puresource3 Refrigerator Water Filter , White, 1 Count (Pack of 1)  \n",
       "14                                          BELVITA ADQ747935 Water Filter Replacement,Compatible with LT1000P,LFXS26973S,LMXS28626S,LMXS30796S,LMXC23796S,Kenmore Elite 9980 ADQ74793501 MDJ64844601,3 Pack  \n",
       "6   EXCELPURE 5231JA2006A Replacement for LG LT600P,5231JA2006B, Kenmore 46-9990, 5231JA2006F,R-9990, 5231JA2006E, LFX25975ST, LFX25960ST, EFF-6003A, LFX23961ST, SGF-LB60, Refrigerator Water Filter, 3PACK  \n",
       "28                                       CACAKEE Milk Frothing Pitcher, 12 OZ/350ML Stainless Steel Espresso Steaming Pitchers, Coffee Milk Frother Jug for Espresso Machines Cappuccino Latte Art, Pour Cup  "
      ]
     },
     "execution_count": 100,
     "metadata": {},
     "output_type": "execute_result"
    }
   ],
   "source": [
    "# Display the top k results\n",
    "df_meta.iloc[top_indices][['parent_asin', 'main_category', 'subcategory', 'maker', 'title' ]]"
   ]
  },
  {
   "cell_type": "markdown",
   "id": "a51445de",
   "metadata": {},
   "source": [
    "### Item-Based Collaborative Filtering"
   ]
  },
  {
   "cell_type": "markdown",
   "id": "0438ebdc",
   "metadata": {},
   "source": [
    "#### Distribution of Ratings"
   ]
  },
  {
   "cell_type": "code",
   "execution_count": 102,
   "id": "d51260c6",
   "metadata": {},
   "outputs": [
    {
     "data": {
      "image/png": "[encoded data removed]",
      "text/plain": [
       "<Figure size 500x300 with 1 Axes>"
      ]
     },
     "metadata": {},
     "output_type": "display_data"
    },
    {
     "data": {
      "image/png": "[encoded data removed]",
      "text/plain": [
       "<Figure size 500x300 with 1 Axes>"
      ]
     },
     "metadata": {},
     "output_type": "display_data"
    },
    {
     "data": {
      "image/png": "[encoded data removed]",
      "text/plain": [
       "<Figure size 500x300 with 1 Axes>"
      ]
     },
     "metadata": {},
     "output_type": "display_data"
    }
   ],
   "source": [
    "# Check the distribution of ratings to help decide the threshold to keep - What's the min no. of ratings for a product to be recommended to user? 8+ since this is the majority?\n",
    "\n",
    "cols_of_interest = ['asin', 'parent_asin', 'user_id']\n",
    "for col in cols_of_interest:\n",
    "    plt.figure(figsize=(5,3))\n",
    "    df_vc = df[col].value_counts(ascending=False).reset_index()\n",
    "    \n",
    "    sns.histplot(data=df_vc, x='count', bins=10)\n",
    "    plt.xlabel(f'Number of {col} ratings')\n",
    "    plt.title(f'Distribution of {col}')\n",
    "    plt.tight_layout()\n",
    "    plt.show()"
   ]
  },
  {
   "cell_type": "markdown",
   "id": "38396510",
   "metadata": {},
   "source": [
    "##### Noise Reduction"
   ]
  },
  {
   "cell_type": "markdown",
   "id": "557bcdc6",
   "metadata": {},
   "source": [
    "<div class=\"alert alert-block alert-warning\">\n",
    "[Noise Reduction]\n",
    "Align with business on what threshold to set: \n",
    "\n",
    "- Minimum no. of ratings that a product should have\n",
    "\n",
    "- Minimum no. of ratings that a user has provided\n",
    "</div>\n"
   ]
  },
  {
   "cell_type": "code",
   "execution_count": 232,
   "id": "c450df78",
   "metadata": {},
   "outputs": [],
   "source": [
    "# Set num of ratings threshold for products\n",
    "n_threshold_prod = 5\n",
    "\n",
    "# Set num of ratings threshold for users\n",
    "n_threshold_user = 1"
   ]
  },
  {
   "cell_type": "markdown",
   "id": "4884fd0a",
   "metadata": {},
   "source": [
    "##### CSR Matrix"
   ]
  },
  {
   "cell_type": "code",
   "execution_count": 104,
   "id": "4f9b41ce",
   "metadata": {},
   "outputs": [
    {
     "data": {
      "text/plain": [
       "(27, 5363)"
      ]
     },
     "execution_count": 104,
     "metadata": {},
     "output_type": "execute_result"
    }
   ],
   "source": [
    "# Prepare CSR Matrix using pivot_table - ( item as rows | user as columns )\n",
    "\n",
    "df_pvt = df.pivot_table(index='asin', columns='user_id', values='rating')\n",
    "df_pvt.fillna(0, inplace=True)\n",
    "df_pvt.shape"
   ]
  },
  {
   "cell_type": "markdown",
   "id": "72729452",
   "metadata": {},
   "source": [
    "##### Aggregated Ratings by ASIN"
   ]
  },
  {
   "cell_type": "code",
   "execution_count": 105,
   "id": "eac03347",
   "metadata": {},
   "outputs": [],
   "source": [
    "# Aggregate ratings by ASIN \n",
    "\n",
    "gby_prod_ratings = df.groupby('asin')['rating'].agg('count')"
   ]
  },
  {
   "cell_type": "code",
   "execution_count": 106,
   "id": "0c8c1f87",
   "metadata": {},
   "outputs": [
    {
     "data": {
      "text/plain": [
       "(21, 5363)"
      ]
     },
     "execution_count": 106,
     "metadata": {},
     "output_type": "execute_result"
    }
   ],
   "source": [
    "# Get indices of product_id with ratings >= product threshold\n",
    "\n",
    "idx_above_th_prod = gby_prod_ratings.loc[gby_prod_ratings >= n_threshold_prod].index\n",
    "df_pvt_reduced = df_pvt.loc[idx_above_th_prod, :]\n",
    "df_pvt_reduced.shape"
   ]
  },
  {
   "cell_type": "code",
   "execution_count": 107,
   "id": "cd04e290",
   "metadata": {},
   "outputs": [],
   "source": [
    "# Aggregate ratings by user_id\n",
    "gby_user_ratings = df.groupby('user_id')['rating'].agg('count')"
   ]
  },
  {
   "cell_type": "code",
   "execution_count": 108,
   "id": "63ac0e39",
   "metadata": {},
   "outputs": [
    {
     "data": {
      "text/plain": [
       "(21, 5363)"
      ]
     },
     "execution_count": 108,
     "metadata": {},
     "output_type": "execute_result"
    }
   ],
   "source": [
    "# Get indices of user_id with ratings >= user threshold\n",
    "idx_gby_th_user = gby_user_ratings.loc[gby_user_ratings >= n_threshold_user ].index\n",
    "df_pvt_final = df_pvt_reduced.loc[:, idx_gby_th_user]\n",
    "df_pvt_final.shape"
   ]
  },
  {
   "cell_type": "code",
   "execution_count": 109,
   "id": "07e0072b",
   "metadata": {},
   "outputs": [],
   "source": [
    "# Checkpoint: Pivot table rows should match result of above threshold df rows\n",
    "assert df_pvt_reduced.shape[0] == df_pvt_final.shape[0], \"No of rows do not match. Check again!\""
   ]
  },
  {
   "cell_type": "code",
   "execution_count": 110,
   "id": "6c279258",
   "metadata": {},
   "outputs": [],
   "source": [
    "from scipy.sparse import csr_matrix\n",
    "from sklearn.neighbors import NearestNeighbors"
   ]
  },
  {
   "cell_type": "code",
   "execution_count": 111,
   "id": "223e597f",
   "metadata": {},
   "outputs": [],
   "source": [
    "# Generate csr matrix\n",
    "csr_data = csr_matrix(df_pvt_final.values)"
   ]
  },
  {
   "cell_type": "code",
   "execution_count": 112,
   "id": "dc62c326",
   "metadata": {},
   "outputs": [
    {
     "data": {
      "text/html": [
       "<style>#sk-container-id-1 {\n",
       "  /* Definition of color scheme common for light and dark mode */\n",
       "  --sklearn-color-text: #000;\n",
       "  --sklearn-color-text-muted: #666;\n",
       "  --sklearn-color-line: gray;\n",
       "  /* Definition of color scheme for unfitted estimators */\n",
       "  --sklearn-color-unfitted-level-0: #fff5e6;\n",
       "  --sklearn-color-unfitted-level-1: #f6e4d2;\n",
       "  --sklearn-color-unfitted-level-2: #ffe0b3;\n",
       "  --sklearn-color-unfitted-level-3: chocolate;\n",
       "  /* Definition of color scheme for fitted estimators */\n",
       "  --sklearn-color-fitted-level-0: #f0f8ff;\n",
       "  --sklearn-color-fitted-level-1: #d4ebff;\n",
       "  --sklearn-color-fitted-level-2: #b3dbfd;\n",
       "  --sklearn-color-fitted-level-3: cornflowerblue;\n",
       "\n",
       "  /* Specific color for light theme */\n",
       "  --sklearn-color-text-on-default-background: var(--sg-text-color, var(--theme-code-foreground, var(--jp-content-font-color1, black)));\n",
       "  --sklearn-color-background: var(--sg-background-color, var(--theme-background, var(--jp-layout-color0, white)));\n",
       "  --sklearn-color-border-box: var(--sg-text-color, var(--theme-code-foreground, var(--jp-content-font-color1, black)));\n",
       "  --sklearn-color-icon: #696969;\n",
       "\n",
       "  @media (prefers-color-scheme: dark) {\n",
       "    /* Redefinition of color scheme for dark theme */\n",
       "    --sklearn-color-text-on-default-background: var(--sg-text-color, var(--theme-code-foreground, var(--jp-content-font-color1, white)));\n",
       "    --sklearn-color-background: var(--sg-background-color, var(--theme-background, var(--jp-layout-color0, #111)));\n",
       "    --sklearn-color-border-box: var(--sg-text-color, var(--theme-code-foreground, var(--jp-content-font-color1, white)));\n",
       "    --sklearn-color-icon: #878787;\n",
       "  }\n",
       "}\n",
       "\n",
       "#sk-container-id-1 {\n",
       "  color: var(--sklearn-color-text);\n",
       "}\n",
       "\n",
       "#sk-container-id-1 pre {\n",
       "  padding: 0;\n",
       "}\n",
       "\n",
       "#sk-container-id-1 input.sk-hidden--visually {\n",
       "  border: 0;\n",
       "  clip: rect(1px 1px 1px 1px);\n",
       "  clip: rect(1px, 1px, 1px, 1px);\n",
       "  height: 1px;\n",
       "  margin: -1px;\n",
       "  overflow: hidden;\n",
       "  padding: 0;\n",
       "  position: absolute;\n",
       "  width: 1px;\n",
       "}\n",
       "\n",
       "#sk-container-id-1 div.sk-dashed-wrapped {\n",
       "  border: 1px dashed var(--sklearn-color-line);\n",
       "  margin: 0 0.4em 0.5em 0.4em;\n",
       "  box-sizing: border-box;\n",
       "  padding-bottom: 0.4em;\n",
       "  background-color: var(--sklearn-color-background);\n",
       "}\n",
       "\n",
       "#sk-container-id-1 div.sk-container {\n",
       "  /* jupyter's `normalize.less` sets `[hidden] { display: none; }`\n",
       "     but bootstrap.min.css set `[hidden] { display: none !important; }`\n",
       "     so we also need the `!important` here to be able to override the\n",
       "     default hidden behavior on the sphinx rendered scikit-learn.org.\n",
       "     See: https://github.com/scikit-learn/scikit-learn/issues/21755 */\n",
       "  display: inline-block !important;\n",
       "  position: relative;\n",
       "}\n",
       "\n",
       "#sk-container-id-1 div.sk-text-repr-fallback {\n",
       "  display: none;\n",
       "}\n",
       "\n",
       "div.sk-parallel-item,\n",
       "div.sk-serial,\n",
       "div.sk-item {\n",
       "  /* draw centered vertical line to link estimators */\n",
       "  background-image: linear-gradient(var(--sklearn-color-text-on-default-background), var(--sklearn-color-text-on-default-background));\n",
       "  background-size: 2px 100%;\n",
       "  background-repeat: no-repeat;\n",
       "  background-position: center center;\n",
       "}\n",
       "\n",
       "/* Parallel-specific style estimator block */\n",
       "\n",
       "#sk-container-id-1 div.sk-parallel-item::after {\n",
       "  content: \"\";\n",
       "  width: 100%;\n",
       "  border-bottom: 2px solid var(--sklearn-color-text-on-default-background);\n",
       "  flex-grow: 1;\n",
       "}\n",
       "\n",
       "#sk-container-id-1 div.sk-parallel {\n",
       "  display: flex;\n",
       "  align-items: stretch;\n",
       "  justify-content: center;\n",
       "  background-color: var(--sklearn-color-background);\n",
       "  position: relative;\n",
       "}\n",
       "\n",
       "#sk-container-id-1 div.sk-parallel-item {\n",
       "  display: flex;\n",
       "  flex-direction: column;\n",
       "}\n",
       "\n",
       "#sk-container-id-1 div.sk-parallel-item:first-child::after {\n",
       "  align-self: flex-end;\n",
       "  width: 50%;\n",
       "}\n",
       "\n",
       "#sk-container-id-1 div.sk-parallel-item:last-child::after {\n",
       "  align-self: flex-start;\n",
       "  width: 50%;\n",
       "}\n",
       "\n",
       "#sk-container-id-1 div.sk-parallel-item:only-child::after {\n",
       "  width: 0;\n",
       "}\n",
       "\n",
       "/* Serial-specific style estimator block */\n",
       "\n",
       "#sk-container-id-1 div.sk-serial {\n",
       "  display: flex;\n",
       "  flex-direction: column;\n",
       "  align-items: center;\n",
       "  background-color: var(--sklearn-color-background);\n",
       "  padding-right: 1em;\n",
       "  padding-left: 1em;\n",
       "}\n",
       "\n",
       "\n",
       "/* Toggleable style: style used for estimator/Pipeline/ColumnTransformer box that is\n",
       "clickable and can be expanded/collapsed.\n",
       "- Pipeline and ColumnTransformer use this feature and define the default style\n",
       "- Estimators will overwrite some part of the style using the `sk-estimator` class\n",
       "*/\n",
       "\n",
       "/* Pipeline and ColumnTransformer style (default) */\n",
       "\n",
       "#sk-container-id-1 div.sk-toggleable {\n",
       "  /* Default theme specific background. It is overwritten whether we have a\n",
       "  specific estimator or a Pipeline/ColumnTransformer */\n",
       "  background-color: var(--sklearn-color-background);\n",
       "}\n",
       "\n",
       "/* Toggleable label */\n",
       "#sk-container-id-1 label.sk-toggleable__label {\n",
       "  cursor: pointer;\n",
       "  display: flex;\n",
       "  width: 100%;\n",
       "  margin-bottom: 0;\n",
       "  padding: 0.5em;\n",
       "  box-sizing: border-box;\n",
       "  text-align: center;\n",
       "  align-items: start;\n",
       "  justify-content: space-between;\n",
       "  gap: 0.5em;\n",
       "}\n",
       "\n",
       "#sk-container-id-1 label.sk-toggleable__label .caption {\n",
       "  font-size: 0.6rem;\n",
       "  font-weight: lighter;\n",
       "  color: var(--sklearn-color-text-muted);\n",
       "}\n",
       "\n",
       "#sk-container-id-1 label.sk-toggleable__label-arrow:before {\n",
       "  /* Arrow on the left of the label */\n",
       "  content: \"▸\";\n",
       "  float: left;\n",
       "  margin-right: 0.25em;\n",
       "  color: var(--sklearn-color-icon);\n",
       "}\n",
       "\n",
       "#sk-container-id-1 label.sk-toggleable__label-arrow:hover:before {\n",
       "  color: var(--sklearn-color-text);\n",
       "}\n",
       "\n",
       "/* Toggleable content - dropdown */\n",
       "\n",
       "#sk-container-id-1 div.sk-toggleable__content {\n",
       "  max-height: 0;\n",
       "  max-width: 0;\n",
       "  overflow: hidden;\n",
       "  text-align: left;\n",
       "  /* unfitted */\n",
       "  background-color: var(--sklearn-color-unfitted-level-0);\n",
       "}\n",
       "\n",
       "#sk-container-id-1 div.sk-toggleable__content.fitted {\n",
       "  /* fitted */\n",
       "  background-color: var(--sklearn-color-fitted-level-0);\n",
       "}\n",
       "\n",
       "#sk-container-id-1 div.sk-toggleable__content pre {\n",
       "  margin: 0.2em;\n",
       "  border-radius: 0.25em;\n",
       "  color: var(--sklearn-color-text);\n",
       "  /* unfitted */\n",
       "  background-color: var(--sklearn-color-unfitted-level-0);\n",
       "}\n",
       "\n",
       "#sk-container-id-1 div.sk-toggleable__content.fitted pre {\n",
       "  /* unfitted */\n",
       "  background-color: var(--sklearn-color-fitted-level-0);\n",
       "}\n",
       "\n",
       "#sk-container-id-1 input.sk-toggleable__control:checked~div.sk-toggleable__content {\n",
       "  /* Expand drop-down */\n",
       "  max-height: 200px;\n",
       "  max-width: 100%;\n",
       "  overflow: auto;\n",
       "}\n",
       "\n",
       "#sk-container-id-1 input.sk-toggleable__control:checked~label.sk-toggleable__label-arrow:before {\n",
       "  content: \"▾\";\n",
       "}\n",
       "\n",
       "/* Pipeline/ColumnTransformer-specific style */\n",
       "\n",
       "#sk-container-id-1 div.sk-label input.sk-toggleable__control:checked~label.sk-toggleable__label {\n",
       "  color: var(--sklearn-color-text);\n",
       "  background-color: var(--sklearn-color-unfitted-level-2);\n",
       "}\n",
       "\n",
       "#sk-container-id-1 div.sk-label.fitted input.sk-toggleable__control:checked~label.sk-toggleable__label {\n",
       "  background-color: var(--sklearn-color-fitted-level-2);\n",
       "}\n",
       "\n",
       "/* Estimator-specific style */\n",
       "\n",
       "/* Colorize estimator box */\n",
       "#sk-container-id-1 div.sk-estimator input.sk-toggleable__control:checked~label.sk-toggleable__label {\n",
       "  /* unfitted */\n",
       "  background-color: var(--sklearn-color-unfitted-level-2);\n",
       "}\n",
       "\n",
       "#sk-container-id-1 div.sk-estimator.fitted input.sk-toggleable__control:checked~label.sk-toggleable__label {\n",
       "  /* fitted */\n",
       "  background-color: var(--sklearn-color-fitted-level-2);\n",
       "}\n",
       "\n",
       "#sk-container-id-1 div.sk-label label.sk-toggleable__label,\n",
       "#sk-container-id-1 div.sk-label label {\n",
       "  /* The background is the default theme color */\n",
       "  color: var(--sklearn-color-text-on-default-background);\n",
       "}\n",
       "\n",
       "/* On hover, darken the color of the background */\n",
       "#sk-container-id-1 div.sk-label:hover label.sk-toggleable__label {\n",
       "  color: var(--sklearn-color-text);\n",
       "  background-color: var(--sklearn-color-unfitted-level-2);\n",
       "}\n",
       "\n",
       "/* Label box, darken color on hover, fitted */\n",
       "#sk-container-id-1 div.sk-label.fitted:hover label.sk-toggleable__label.fitted {\n",
       "  color: var(--sklearn-color-text);\n",
       "  background-color: var(--sklearn-color-fitted-level-2);\n",
       "}\n",
       "\n",
       "/* Estimator label */\n",
       "\n",
       "#sk-container-id-1 div.sk-label label {\n",
       "  font-family: monospace;\n",
       "  font-weight: bold;\n",
       "  display: inline-block;\n",
       "  line-height: 1.2em;\n",
       "}\n",
       "\n",
       "#sk-container-id-1 div.sk-label-container {\n",
       "  text-align: center;\n",
       "}\n",
       "\n",
       "/* Estimator-specific */\n",
       "#sk-container-id-1 div.sk-estimator {\n",
       "  font-family: monospace;\n",
       "  border: 1px dotted var(--sklearn-color-border-box);\n",
       "  border-radius: 0.25em;\n",
       "  box-sizing: border-box;\n",
       "  margin-bottom: 0.5em;\n",
       "  /* unfitted */\n",
       "  background-color: var(--sklearn-color-unfitted-level-0);\n",
       "}\n",
       "\n",
       "#sk-container-id-1 div.sk-estimator.fitted {\n",
       "  /* fitted */\n",
       "  background-color: var(--sklearn-color-fitted-level-0);\n",
       "}\n",
       "\n",
       "/* on hover */\n",
       "#sk-container-id-1 div.sk-estimator:hover {\n",
       "  /* unfitted */\n",
       "  background-color: var(--sklearn-color-unfitted-level-2);\n",
       "}\n",
       "\n",
       "#sk-container-id-1 div.sk-estimator.fitted:hover {\n",
       "  /* fitted */\n",
       "  background-color: var(--sklearn-color-fitted-level-2);\n",
       "}\n",
       "\n",
       "/* Specification for estimator info (e.g. \"i\" and \"?\") */\n",
       "\n",
       "/* Common style for \"i\" and \"?\" */\n",
       "\n",
       ".sk-estimator-doc-link,\n",
       "a:link.sk-estimator-doc-link,\n",
       "a:visited.sk-estimator-doc-link {\n",
       "  float: right;\n",
       "  font-size: smaller;\n",
       "  line-height: 1em;\n",
       "  font-family: monospace;\n",
       "  background-color: var(--sklearn-color-background);\n",
       "  border-radius: 1em;\n",
       "  height: 1em;\n",
       "  width: 1em;\n",
       "  text-decoration: none !important;\n",
       "  margin-left: 0.5em;\n",
       "  text-align: center;\n",
       "  /* unfitted */\n",
       "  border: var(--sklearn-color-unfitted-level-1) 1pt solid;\n",
       "  color: var(--sklearn-color-unfitted-level-1);\n",
       "}\n",
       "\n",
       ".sk-estimator-doc-link.fitted,\n",
       "a:link.sk-estimator-doc-link.fitted,\n",
       "a:visited.sk-estimator-doc-link.fitted {\n",
       "  /* fitted */\n",
       "  border: var(--sklearn-color-fitted-level-1) 1pt solid;\n",
       "  color: var(--sklearn-color-fitted-level-1);\n",
       "}\n",
       "\n",
       "/* On hover */\n",
       "div.sk-estimator:hover .sk-estimator-doc-link:hover,\n",
       ".sk-estimator-doc-link:hover,\n",
       "div.sk-label-container:hover .sk-estimator-doc-link:hover,\n",
       ".sk-estimator-doc-link:hover {\n",
       "  /* unfitted */\n",
       "  background-color: var(--sklearn-color-unfitted-level-3);\n",
       "  color: var(--sklearn-color-background);\n",
       "  text-decoration: none;\n",
       "}\n",
       "\n",
       "div.sk-estimator.fitted:hover .sk-estimator-doc-link.fitted:hover,\n",
       ".sk-estimator-doc-link.fitted:hover,\n",
       "div.sk-label-container:hover .sk-estimator-doc-link.fitted:hover,\n",
       ".sk-estimator-doc-link.fitted:hover {\n",
       "  /* fitted */\n",
       "  background-color: var(--sklearn-color-fitted-level-3);\n",
       "  color: var(--sklearn-color-background);\n",
       "  text-decoration: none;\n",
       "}\n",
       "\n",
       "/* Span, style for the box shown on hovering the info icon */\n",
       ".sk-estimator-doc-link span {\n",
       "  display: none;\n",
       "  z-index: 9999;\n",
       "  position: relative;\n",
       "  font-weight: normal;\n",
       "  right: .2ex;\n",
       "  padding: .5ex;\n",
       "  margin: .5ex;\n",
       "  width: min-content;\n",
       "  min-width: 20ex;\n",
       "  max-width: 50ex;\n",
       "  color: var(--sklearn-color-text);\n",
       "  box-shadow: 2pt 2pt 4pt #999;\n",
       "  /* unfitted */\n",
       "  background: var(--sklearn-color-unfitted-level-0);\n",
       "  border: .5pt solid var(--sklearn-color-unfitted-level-3);\n",
       "}\n",
       "\n",
       ".sk-estimator-doc-link.fitted span {\n",
       "  /* fitted */\n",
       "  background: var(--sklearn-color-fitted-level-0);\n",
       "  border: var(--sklearn-color-fitted-level-3);\n",
       "}\n",
       "\n",
       ".sk-estimator-doc-link:hover span {\n",
       "  display: block;\n",
       "}\n",
       "\n",
       "/* \"?\"-specific style due to the `<a>` HTML tag */\n",
       "\n",
       "#sk-container-id-1 a.estimator_doc_link {\n",
       "  float: right;\n",
       "  font-size: 1rem;\n",
       "  line-height: 1em;\n",
       "  font-family: monospace;\n",
       "  background-color: var(--sklearn-color-background);\n",
       "  border-radius: 1rem;\n",
       "  height: 1rem;\n",
       "  width: 1rem;\n",
       "  text-decoration: none;\n",
       "  /* unfitted */\n",
       "  color: var(--sklearn-color-unfitted-level-1);\n",
       "  border: var(--sklearn-color-unfitted-level-1) 1pt solid;\n",
       "}\n",
       "\n",
       "#sk-container-id-1 a.estimator_doc_link.fitted {\n",
       "  /* fitted */\n",
       "  border: var(--sklearn-color-fitted-level-1) 1pt solid;\n",
       "  color: var(--sklearn-color-fitted-level-1);\n",
       "}\n",
       "\n",
       "/* On hover */\n",
       "#sk-container-id-1 a.estimator_doc_link:hover {\n",
       "  /* unfitted */\n",
       "  background-color: var(--sklearn-color-unfitted-level-3);\n",
       "  color: var(--sklearn-color-background);\n",
       "  text-decoration: none;\n",
       "}\n",
       "\n",
       "#sk-container-id-1 a.estimator_doc_link.fitted:hover {\n",
       "  /* fitted */\n",
       "  background-color: var(--sklearn-color-fitted-level-3);\n",
       "}\n",
       "</style><div id=\"sk-container-id-1\" class=\"sk-top-container\"><div class=\"sk-text-repr-fallback\"><pre>NearestNeighbors(metric=&#x27;cosine&#x27;, n_jobs=-1, n_neighbors=20)</pre><b>In a Jupyter environment, please rerun this cell to show the HTML representation or trust the notebook. <br />On GitHub, the HTML representation is unable to render, please try loading this page with nbviewer.org.</b></div><div class=\"sk-container\" hidden><div class=\"sk-item\"><div class=\"sk-estimator fitted sk-toggleable\"><input class=\"sk-toggleable__control sk-hidden--visually\" id=\"sk-estimator-id-1\" type=\"checkbox\" checked><label for=\"sk-estimator-id-1\" class=\"sk-toggleable__label fitted sk-toggleable__label-arrow\"><div><div>NearestNeighbors</div></div><div><a class=\"sk-estimator-doc-link fitted\" rel=\"noreferrer\" target=\"_blank\" href=\"https://scikit-learn.org/1.6/modules/generated/sklearn.neighbors.NearestNeighbors.html\">?<span>Documentation for NearestNeighbors</span></a><span class=\"sk-estimator-doc-link fitted\">i<span>Fitted</span></span></div></label><div class=\"sk-toggleable__content fitted\"><pre>NearestNeighbors(metric=&#x27;cosine&#x27;, n_jobs=-1, n_neighbors=20)</pre></div> </div></div></div></div>"
      ],
      "text/plain": [
       "NearestNeighbors(metric='cosine', n_jobs=-1, n_neighbors=20)"
      ]
     },
     "execution_count": 112,
     "metadata": {},
     "output_type": "execute_result"
    }
   ],
   "source": [
    "# Build Model \n",
    "knn = NearestNeighbors(metric='cosine', algorithm='auto', n_neighbors=20, n_jobs= -1)\n",
    "knn.fit(csr_data)"
   ]
  },
  {
   "cell_type": "markdown",
   "id": "13e9b12f",
   "metadata": {},
   "source": [
    "### Get Recommendations"
   ]
  },
  {
   "cell_type": "code",
   "execution_count": 113,
   "id": "16d126f1",
   "metadata": {},
   "outputs": [
    {
     "name": "stdout",
     "output_type": "stream",
     "text": [
      "K-Cup Reusable Coffee Filter\n",
      "10\n"
     ]
    }
   ],
   "source": [
    "# query = 'Wayona USB'\n",
    "print(query)\n",
    "\n",
    "n_result = 10\n",
    "print(n_result)"
   ]
  },
  {
   "cell_type": "code",
   "execution_count": 114,
   "id": "2a232ada",
   "metadata": {},
   "outputs": [],
   "source": [
    "def get_product_recommendation(data_df, data_pvt, data_csr, query, n_result):\n",
    "    \n",
    "    l_data = get_product_data(query, data_df, 'title')\n",
    "\n",
    "    if len(l_data):\n",
    "\n",
    "        # get first index in l_data\n",
    "        prod_id = l_data.iloc[0]['asin']\n",
    "        \n",
    "        prod_idx = data_pvt[data_pvt['asin'] == prod_id].index[0]\n",
    "\n",
    "        distance, indices = knn.kneighbors(data_csr[prod_idx], n_neighbors=n_result+1) \n",
    "\n",
    "        # rec_prod_indices = sorted( list(zip(indices.squeeze().tolist(), distance.squeeze().tolist())), key=lambda x: x[1])[:0, -1]\n",
    "        rec_prod_indices = sorted( list(zip(indices.squeeze().tolist(), distance.squeeze().tolist())), key=lambda x: x[1])[: 0:-1]\n",
    "       \n",
    "       # Using the idx from prod_indices locate the product_id index in final pvt table\n",
    "        recommended_products =  []\n",
    "\n",
    "        for ind_dis in rec_prod_indices:\n",
    "\n",
    "            pvt_prod_id = data_pvt.iloc[ind_dis[0]]['asin'] \n",
    "\n",
    "            # use it to locate index in the original dataset df\n",
    "            data_prod_idx = data_df[df['asin'] == pvt_prod_id].index\n",
    "\n",
    "            recommended_products.append({ \n",
    "                'ID': data_df.iloc[data_prod_idx]['asin'].values[0],\n",
    "                'Parent_ID': data_df.iloc[data_prod_idx]['parent_asin'].values[0],\n",
    "                'Name': data_df.iloc[data_prod_idx]['title'].values[0], \n",
    "                'Category': data_df.iloc[data_prod_idx]['main_category'].values[0],\n",
    "                'Subcategory': data_df.iloc[data_prod_idx]['subcategory'].values[0],\n",
    "                # 'Maker': data_df.iloc[data_prod_idx]['maker'].values[0],\n",
    "                'Distance': ind_dis[1],\n",
    "                # 'Average Rating': None  # Replace None with actual average rating if available\n",
    "            })\n",
    "            \n",
    "        df_recommended_products = pd.DataFrame(recommended_products, index=(range(1, n_result+1)))\n",
    "        return df_recommended_products\n",
    "    \n",
    "    else:\n",
    "\n",
    "        return \"NO RECOMMENDATIONS FOUND!\""
   ]
  },
  {
   "cell_type": "code",
   "execution_count": 115,
   "id": "0b65e6f7",
   "metadata": {},
   "outputs": [],
   "source": [
    "# reset_index for df_pvt_final before passing to get_product_recommendation\n",
    "df_pvt_final_ri = df_pvt_final.reset_index()"
   ]
  },
  {
   "cell_type": "code",
   "execution_count": 116,
   "id": "9100f4d1",
   "metadata": {},
   "outputs": [
    {
     "name": "stdout",
     "output_type": "stream",
     "text": [
      "Found products with similar keywords.\n"
     ]
    }
   ],
   "source": [
    "# Get the user-item recommendation\n",
    "df_recommendations = get_product_recommendation(df, df_pvt_final_ri, csr_data, query, n_result )"
   ]
  },
  {
   "cell_type": "code",
   "execution_count": 117,
   "id": "470275da",
   "metadata": {},
   "outputs": [
    {
     "data": {
      "text/html": [
       "<div>\n",
       "<style scoped>\n",
       "    .dataframe tbody tr th:only-of-type {\n",
       "        vertical-align: middle;\n",
       "    }\n",
       "\n",
       "    .dataframe tbody tr th {\n",
       "        vertical-align: top;\n",
       "    }\n",
       "\n",
       "    .dataframe thead th {\n",
       "        text-align: right;\n",
       "    }\n",
       "</style>\n",
       "<table border=\"1\" class=\"dataframe\">\n",
       "  <thead>\n",
       "    <tr style=\"text-align: right;\">\n",
       "      <th></th>\n",
       "      <th>ID</th>\n",
       "      <th>Parent_ID</th>\n",
       "      <th>Name</th>\n",
       "      <th>Category</th>\n",
       "      <th>Subcategory</th>\n",
       "      <th>Distance</th>\n",
       "    </tr>\n",
       "  </thead>\n",
       "  <tbody>\n",
       "    <tr>\n",
       "      <th>1</th>\n",
       "      <td>B00888OEQW</td>\n",
       "      <td>B07P3Y8JWY</td>\n",
       "      <td>Disposable Paper Coffee Filters 600 count - Compatible with Keurig, K-Cup machines &amp; other Single Serve Coffee Brewer Reusable K Cups - Use Your Own Coffee &amp; Make Your Own Pods - Works with All Brands</td>\n",
       "      <td>Amazon Home</td>\n",
       "      <td>Reusable Filters</td>\n",
       "      <td>0.999338</td>\n",
       "    </tr>\n",
       "    <tr>\n",
       "      <th>2</th>\n",
       "      <td>B01AUBYMK2</td>\n",
       "      <td>B07RNJY499</td>\n",
       "      <td>iPartPlusMore Reusable Coffee Filters Compatible with 1.0 and 2.0 Keurig Single Cup Coffee Maker - BPA-Free Stainless Steel Refillable K Cup Coffee Filter with Fine Mesh Screen (Pack of 4)</td>\n",
       "      <td>Amazon Home</td>\n",
       "      <td>Reusable Filters</td>\n",
       "      <td>0.999187</td>\n",
       "    </tr>\n",
       "    <tr>\n",
       "      <th>3</th>\n",
       "      <td>B01DP1IWKU</td>\n",
       "      <td>B092LLM7H3</td>\n",
       "      <td>Reusable coffee pods for Coffee Makers (4 PACK Black and Purple)</td>\n",
       "      <td>Grocery</td>\n",
       "      <td>Reusable Filters</td>\n",
       "      <td>0.998635</td>\n",
       "    </tr>\n",
       "    <tr>\n",
       "      <th>4</th>\n",
       "      <td>B06XDR1DCY</td>\n",
       "      <td>B07P3Y8JWY</td>\n",
       "      <td>Disposable Paper Coffee Filters 600 count - Compatible with Keurig, K-Cup machines &amp; other Single Serve Coffee Brewer Reusable K Cups - Use Your Own Coffee &amp; Make Your Own Pods - Works with All Brands</td>\n",
       "      <td>Amazon Home</td>\n",
       "      <td>Reusable Filters</td>\n",
       "      <td>0.998265</td>\n",
       "    </tr>\n",
       "    <tr>\n",
       "      <th>5</th>\n",
       "      <td>B06X9RFT2J</td>\n",
       "      <td>B07RNJY499</td>\n",
       "      <td>iPartPlusMore Reusable Coffee Filters Compatible with 1.0 and 2.0 Keurig Single Cup Coffee Maker - BPA-Free Stainless Steel Refillable K Cup Coffee Filter with Fine Mesh Screen (Pack of 4)</td>\n",
       "      <td>Amazon Home</td>\n",
       "      <td>Reusable Filters</td>\n",
       "      <td>0.996189</td>\n",
       "    </tr>\n",
       "    <tr>\n",
       "      <th>6</th>\n",
       "      <td>B0045LLC7K</td>\n",
       "      <td>B0045LLC7K</td>\n",
       "      <td>Frigidaire WF3CB Puresource3 Refrigerator Water Filter , White, 1 Count (Pack of 1)</td>\n",
       "      <td>Appliances</td>\n",
       "      <td>Water Filters</td>\n",
       "      <td>0.995830</td>\n",
       "    </tr>\n",
       "    <tr>\n",
       "      <th>7</th>\n",
       "      <td>B01DLEL4EM</td>\n",
       "      <td>B0B3DB5HTC</td>\n",
       "      <td>12 Pack Keurig Filter Replacement by K&amp;J - Compatible with Keurig Coffee Machine (2.0 and older)</td>\n",
       "      <td>Amazon Home</td>\n",
       "      <td>Disposable Filters</td>\n",
       "      <td>0.993294</td>\n",
       "    </tr>\n",
       "    <tr>\n",
       "      <th>8</th>\n",
       "      <td>B00LGEKOMS</td>\n",
       "      <td>B07RNJY499</td>\n",
       "      <td>iPartPlusMore Reusable Coffee Filters Compatible with 1.0 and 2.0 Keurig Single Cup Coffee Maker - BPA-Free Stainless Steel Refillable K Cup Coffee Filter with Fine Mesh Screen (Pack of 4)</td>\n",
       "      <td>Amazon Home</td>\n",
       "      <td>Reusable Filters</td>\n",
       "      <td>0.992546</td>\n",
       "    </tr>\n",
       "    <tr>\n",
       "      <th>9</th>\n",
       "      <td>B0001IRRLG</td>\n",
       "      <td>B0BHNSLKNZ</td>\n",
       "      <td>Cuisinart Replacement Water Filters, 2-Pack</td>\n",
       "      <td>Amazon Home</td>\n",
       "      <td>Permanent Filters</td>\n",
       "      <td>0.991778</td>\n",
       "    </tr>\n",
       "    <tr>\n",
       "      <th>10</th>\n",
       "      <td>B00BUFJBQS</td>\n",
       "      <td>B07P3Y8JWY</td>\n",
       "      <td>Disposable Paper Coffee Filters 600 count - Compatible with Keurig, K-Cup machines &amp; other Single Serve Coffee Brewer Reusable K Cups - Use Your Own Coffee &amp; Make Your Own Pods - Works with All Brands</td>\n",
       "      <td>Amazon Home</td>\n",
       "      <td>Reusable Filters</td>\n",
       "      <td>0.990830</td>\n",
       "    </tr>\n",
       "  </tbody>\n",
       "</table>\n",
       "</div>"
      ],
      "text/plain": [
       "            ID   Parent_ID  \\\n",
       "1   B00888OEQW  B07P3Y8JWY   \n",
       "2   B01AUBYMK2  B07RNJY499   \n",
       "3   B01DP1IWKU  B092LLM7H3   \n",
       "4   B06XDR1DCY  B07P3Y8JWY   \n",
       "5   B06X9RFT2J  B07RNJY499   \n",
       "6   B0045LLC7K  B0045LLC7K   \n",
       "7   B01DLEL4EM  B0B3DB5HTC   \n",
       "8   B00LGEKOMS  B07RNJY499   \n",
       "9   B0001IRRLG  B0BHNSLKNZ   \n",
       "10  B00BUFJBQS  B07P3Y8JWY   \n",
       "\n",
       "                                                                                                                                                                                                        Name  \\\n",
       "1   Disposable Paper Coffee Filters 600 count - Compatible with Keurig, K-Cup machines & other Single Serve Coffee Brewer Reusable K Cups - Use Your Own Coffee & Make Your Own Pods - Works with All Brands   \n",
       "2               iPartPlusMore Reusable Coffee Filters Compatible with 1.0 and 2.0 Keurig Single Cup Coffee Maker - BPA-Free Stainless Steel Refillable K Cup Coffee Filter with Fine Mesh Screen (Pack of 4)   \n",
       "3                                                                                                                                           Reusable coffee pods for Coffee Makers (4 PACK Black and Purple)   \n",
       "4   Disposable Paper Coffee Filters 600 count - Compatible with Keurig, K-Cup machines & other Single Serve Coffee Brewer Reusable K Cups - Use Your Own Coffee & Make Your Own Pods - Works with All Brands   \n",
       "5               iPartPlusMore Reusable Coffee Filters Compatible with 1.0 and 2.0 Keurig Single Cup Coffee Maker - BPA-Free Stainless Steel Refillable K Cup Coffee Filter with Fine Mesh Screen (Pack of 4)   \n",
       "6                                                                                                                        Frigidaire WF3CB Puresource3 Refrigerator Water Filter , White, 1 Count (Pack of 1)   \n",
       "7                                                                                                           12 Pack Keurig Filter Replacement by K&J - Compatible with Keurig Coffee Machine (2.0 and older)   \n",
       "8               iPartPlusMore Reusable Coffee Filters Compatible with 1.0 and 2.0 Keurig Single Cup Coffee Maker - BPA-Free Stainless Steel Refillable K Cup Coffee Filter with Fine Mesh Screen (Pack of 4)   \n",
       "9                                                                                                                                                                Cuisinart Replacement Water Filters, 2-Pack   \n",
       "10  Disposable Paper Coffee Filters 600 count - Compatible with Keurig, K-Cup machines & other Single Serve Coffee Brewer Reusable K Cups - Use Your Own Coffee & Make Your Own Pods - Works with All Brands   \n",
       "\n",
       "       Category         Subcategory  Distance  \n",
       "1   Amazon Home    Reusable Filters  0.999338  \n",
       "2   Amazon Home    Reusable Filters  0.999187  \n",
       "3       Grocery    Reusable Filters  0.998635  \n",
       "4   Amazon Home    Reusable Filters  0.998265  \n",
       "5   Amazon Home    Reusable Filters  0.996189  \n",
       "6    Appliances       Water Filters  0.995830  \n",
       "7   Amazon Home  Disposable Filters  0.993294  \n",
       "8   Amazon Home    Reusable Filters  0.992546  \n",
       "9   Amazon Home   Permanent Filters  0.991778  \n",
       "10  Amazon Home    Reusable Filters  0.990830  "
      ]
     },
     "execution_count": 117,
     "metadata": {},
     "output_type": "execute_result"
    }
   ],
   "source": [
    "df_recommendations"
   ]
  },
  {
   "cell_type": "code",
   "execution_count": null,
   "id": "7e321973",
   "metadata": {},
   "outputs": [],
   "source": []
  },
  {
   "cell_type": "code",
   "execution_count": null,
   "id": "dc0a04d4",
   "metadata": {},
   "outputs": [],
   "source": []
  }
 ],
 "metadata": {
  "kernelspec": {
   "display_name": "venv_re",
   "language": "python",
   "name": "python3"
  },
  "language_info": {
   "codemirror_mode": {
    "name": "ipython",
    "version": 3
   },
   "file_extension": ".py",
   "mimetype": "text/x-python",
   "name": "python",
   "nbconvert_exporter": "python",
   "pygments_lexer": "ipython3",
   "version": "3.12.4"
  }
 },
 "nbformat": 4,
 "nbformat_minor": 5
}
